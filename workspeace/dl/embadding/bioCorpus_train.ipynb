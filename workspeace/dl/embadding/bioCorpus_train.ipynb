{
 "metadata": {
  "language_info": {
   "codemirror_mode": {
    "name": "ipython",
    "version": 3
   },
   "file_extension": ".py",
   "mimetype": "text/x-python",
   "name": "python",
   "nbconvert_exporter": "python",
   "pygments_lexer": "ipython3",
   "version": "3.8.3-final"
  },
  "orig_nbformat": 2,
  "kernelspec": {
   "name": "python383jvsc74a57bd0b3ba2566441a7c06988d0923437866b63cedc61552a5af99d1f4fb67d367b25f",
   "display_name": "Python 3.8.3 64-bit (conda)"
  }
 },
 "nbformat": 4,
 "nbformat_minor": 2,
 "cells": [
  {
   "cell_type": "code",
   "execution_count": 4,
   "metadata": {},
   "outputs": [],
   "source": [
    "from gensim.models import Word2Vec as w2v\n"
   ]
  },
  {
   "cell_type": "code",
   "execution_count": 5,
   "metadata": {},
   "outputs": [],
   "source": [
    "# 用生成器的方式读取文件里的句子\n",
    "# 适合读取大容量文件，而不用加载到内存\n",
    "class MySentences(object):\n",
    "    def __init__(self,fname):\n",
    "        self.fname=fname\n",
    "    def __iter__(self):\n",
    "        for line in open(self.fname,'r'):\n",
    "            yield line.split()"
   ]
  },
  {
   "cell_type": "code",
   "execution_count": 10,
   "metadata": {},
   "outputs": [],
   "source": [
    "DataDir='../dataset/bioCorpus/'\n",
    "ModelDir='./model'\n",
    "MIN_COUNT=4\n",
    "CPU_NUM=2\n",
    "VEC_SIZE=20\n",
    "CONTEXT_WINDOW=5\n",
    "f_input='bioCorpus_5000.txt'\n",
    "model_output='./model/model_test'"
   ]
  },
  {
   "cell_type": "code",
   "execution_count": 54,
   "metadata": {
    "tags": []
   },
   "outputs": [],
   "source": [
    "# 训练模型\n",
    "sentences=MySentences(DataDir+f_input)\n",
    "w2v_model=w2v(sentences)"
   ]
  },
  {
   "cell_type": "code",
   "execution_count": 45,
   "metadata": {},
   "outputs": [],
   "source": [
    "w2v_model.save('../model/wev_model')"
   ]
  },
  {
   "cell_type": "code",
   "execution_count": 57,
   "metadata": {},
   "outputs": [
    {
     "output_type": "execute_result",
     "data": {
      "text/plain": [
       "[('.', 0.9991108775138855),\n",
       " ('from', 0.999027669429779),\n",
       " ('for', 0.9990028738975525),\n",
       " ('pH', 0.9990016222000122),\n",
       " ('during', 0.9989763498306274),\n",
       " ('drug', 0.9989473819732666),\n",
       " ('blood', 0.9989416003227234),\n",
       " ('after', 0.9989111423492432),\n",
       " ('between', 0.998900294303894),\n",
       " ('an', 0.998896062374115)]"
      ]
     },
     "metadata": {},
     "execution_count": 57
    }
   ],
   "source": [
    "w2v_model_load=w2v.load('../model/wev_model')\n",
    "w2v_model_load.wv.most_similar('body')\n"
   ]
  },
  {
   "cell_type": "code",
   "execution_count": 58,
   "metadata": {},
   "outputs": [
    {
     "output_type": "execute_result",
     "data": {
      "text/plain": [
       "[('after', 0.9994671940803528),\n",
       " ('as', 0.9994470477104187),\n",
       " ('an', 0.999437689781189),\n",
       " ('A', 0.999435544013977),\n",
       " ('between', 0.999422550201416),\n",
       " ('by', 0.999392569065094),\n",
       " ('with', 0.999389111995697),\n",
       " ('from', 0.9993879199028015),\n",
       " ('and', 0.9993868470191956),\n",
       " ('during', 0.9993764162063599)]"
      ]
     },
     "metadata": {},
     "execution_count": 58
    }
   ],
   "source": [
    "w2v_model.wv.most_similar('heart')"
   ]
  },
  {
   "cell_type": "code",
   "execution_count": 7,
   "metadata": {},
   "outputs": [],
   "source": [
    "# 去除停用词\n",
    "from nltk.corpus import stopwords\n",
    "Stopwords=stopwords.words('english')"
   ]
  },
  {
   "cell_type": "code",
   "execution_count": 14,
   "metadata": {},
   "outputs": [],
   "source": [
    "# 重新训练模型\n",
    "sentences=list(MySentences(DataDir+f_input))\n",
    "for idx,sentence in enumerate(sentences):\n",
    "    sentence=[w for w in sentence if w not in Stopwords and len(w)>1]\n",
    "    sentences[idx]=sentence\n",
    "w2v_nodel_2=w2v(sentences,sg=1,vector_size=20)\n",
    "w2v_nodel_2.save('../model/w2v_model_2')"
   ]
  },
  {
   "cell_type": "code",
   "execution_count": 15,
   "metadata": {},
   "outputs": [
    {
     "output_type": "execute_result",
     "data": {
      "text/plain": [
       "[('response', 0.9954023957252502),\n",
       " ('acid', 0.9946147203445435),\n",
       " ('structure', 0.9945383667945862),\n",
       " ('brain', 0.9940366148948669),\n",
       " ('properties', 0.9939102530479431),\n",
       " ('gastric', 0.9938533306121826),\n",
       " ('bacterial', 0.9936560988426208),\n",
       " ('enzyme', 0.9936037063598633),\n",
       " ('use', 0.9935215711593628),\n",
       " ('Effect', 0.993516743183136)]"
      ]
     },
     "metadata": {},
     "execution_count": 15
    }
   ],
   "source": [
    "w2v_model_load_2=w2v.load('../model/w2v_model_2')\n",
    "w2v_model_load_2.wv.most_similar('body')"
   ]
  },
  {
   "cell_type": "code",
   "execution_count": 84,
   "metadata": {},
   "outputs": [
    {
     "output_type": "execute_result",
     "data": {
      "text/plain": [
       "[('effect', 0.9470027685165405),\n",
       " ('activity', 0.945748507976532),\n",
       " ('rat', 0.9446902871131897),\n",
       " ('properties', 0.9445804953575134),\n",
       " ('liver', 0.936090886592865),\n",
       " ('acid', 0.9358940124511719),\n",
       " ('effects', 0.935100257396698),\n",
       " ('pH', 0.9346656203269958),\n",
       " ('determination', 0.9330896139144897),\n",
       " ('studies', 0.9325339794158936)]"
      ]
     },
     "metadata": {},
     "execution_count": 84
    }
   ],
   "source": [
    "w2v_model_load_2.wv.most_similar('human')"
   ]
  },
  {
   "cell_type": "code",
   "execution_count": 13,
   "metadata": {},
   "outputs": [
    {
     "output_type": "execute_result",
     "data": {
      "text/plain": [
       "[('properties', 0.9985868334770203),\n",
       " ('effect', 0.9985861778259277),\n",
       " ('activity', 0.998583972454071),\n",
       " ('effects', 0.9985269904136658),\n",
       " ('determination', 0.9984928965568542),\n",
       " ('rat', 0.9984413981437683),\n",
       " ('liver', 0.9983959794044495),\n",
       " ('studies', 0.9983915090560913),\n",
       " ('protein', 0.9983541965484619),\n",
       " ('changes', 0.9983541369438171)]"
      ]
     },
     "metadata": {},
     "execution_count": 13
    }
   ],
   "source": [
    "w2v_model_load_2.wv.most_similar('human')"
   ]
  },
  {
   "cell_type": "code",
   "execution_count": 16,
   "metadata": {},
   "outputs": [
    {
     "output_type": "execute_result",
     "data": {
      "text/plain": [
       "[('determination', 0.9960594177246094),\n",
       " ('activity', 0.9955329895019531),\n",
       " ('serum', 0.9953694939613342),\n",
       " ('affinity', 0.9952577948570251),\n",
       " ('resonance', 0.9952483773231506),\n",
       " ('drugs', 0.9952475428581238),\n",
       " ('cells', 0.995049238204956),\n",
       " ('transport', 0.9949378967285156),\n",
       " ('gas', 0.9949253797531128),\n",
       " ('rat', 0.994649350643158)]"
      ]
     },
     "metadata": {},
     "execution_count": 16
    }
   ],
   "source": [
    "w2v_model_load_2.wv.most_similar('human')"
   ]
  },
  {
   "cell_type": "code",
   "execution_count": 18,
   "metadata": {},
   "outputs": [],
   "source": [
    "# 将模型保存成vector\n",
    "w2v_model_load_2.wv.save_word2vec_format('../model/w2v_model_2.vector')"
   ]
  },
  {
   "cell_type": "code",
   "execution_count": 22,
   "metadata": {},
   "outputs": [
    {
     "output_type": "error",
     "ename": "ModuleNotFoundError",
     "evalue": "No module named 'sasl'",
     "traceback": [
      "\u001b[1;31m---------------------------------------------------------------------------\u001b[0m",
      "\u001b[1;31mModuleNotFoundError\u001b[0m                       Traceback (most recent call last)",
      "\u001b[1;32m<ipython-input-22-0b1ec57581b5>\u001b[0m in \u001b[0;36m<module>\u001b[1;34m\u001b[0m\n\u001b[0;32m      1\u001b[0m \u001b[1;32mfrom\u001b[0m \u001b[0mpyhive\u001b[0m \u001b[1;32mimport\u001b[0m \u001b[0mhive\u001b[0m\u001b[1;33m\u001b[0m\u001b[1;33m\u001b[0m\u001b[0m\n\u001b[1;32m----> 2\u001b[1;33m \u001b[0mconn\u001b[0m\u001b[1;33m=\u001b[0m\u001b[0mhive\u001b[0m\u001b[1;33m.\u001b[0m\u001b[0mConnection\u001b[0m\u001b[1;33m(\u001b[0m\u001b[0mhost\u001b[0m\u001b[1;33m=\u001b[0m\u001b[1;34m'10.20.180.190'\u001b[0m\u001b[1;33m,\u001b[0m\u001b[0mauth\u001b[0m\u001b[1;33m=\u001b[0m\u001b[1;34m\"CUSTOM\"\u001b[0m\u001b[1;33m,\u001b[0m\u001b[0mport\u001b[0m\u001b[1;33m=\u001b[0m\u001b[1;34m'10098'\u001b[0m\u001b[1;33m,\u001b[0m\u001b[0mdatabase\u001b[0m\u001b[1;33m=\u001b[0m\u001b[1;34m'wedw_dwd'\u001b[0m\u001b[1;33m,\u001b[0m\u001b[0musername\u001b[0m\u001b[1;33m=\u001b[0m\u001b[1;34m'guojj1'\u001b[0m\u001b[1;33m,\u001b[0m\u001b[0mpassword\u001b[0m\u001b[1;33m=\u001b[0m\u001b[1;34m'gjj6351&bei'\u001b[0m\u001b[1;33m)\u001b[0m\u001b[1;33m\u001b[0m\u001b[1;33m\u001b[0m\u001b[0m\n\u001b[0m",
      "\u001b[1;32mC:\\ProgramData\\Anaconda3\\lib\\site-packages\\pyhive\\hive.py\u001b[0m in \u001b[0;36m__init__\u001b[1;34m(self, host, port, username, database, auth, configuration, kerberos_service_name, password, thrift_transport)\u001b[0m\n\u001b[0;32m    150\u001b[0m             \u001b[1;32melif\u001b[0m \u001b[0mauth\u001b[0m \u001b[1;32min\u001b[0m \u001b[1;33m(\u001b[0m\u001b[1;34m'LDAP'\u001b[0m\u001b[1;33m,\u001b[0m \u001b[1;34m'KERBEROS'\u001b[0m\u001b[1;33m,\u001b[0m \u001b[1;34m'NONE'\u001b[0m\u001b[1;33m,\u001b[0m \u001b[1;34m'CUSTOM'\u001b[0m\u001b[1;33m)\u001b[0m\u001b[1;33m:\u001b[0m\u001b[1;33m\u001b[0m\u001b[1;33m\u001b[0m\u001b[0m\n\u001b[0;32m    151\u001b[0m                 \u001b[1;31m# Defer import so package dependency is optional\u001b[0m\u001b[1;33m\u001b[0m\u001b[1;33m\u001b[0m\u001b[1;33m\u001b[0m\u001b[0m\n\u001b[1;32m--> 152\u001b[1;33m                 \u001b[1;32mimport\u001b[0m \u001b[0msasl\u001b[0m\u001b[1;33m\u001b[0m\u001b[1;33m\u001b[0m\u001b[0m\n\u001b[0m\u001b[0;32m    153\u001b[0m                 \u001b[1;32mimport\u001b[0m \u001b[0mthrift_sasl\u001b[0m\u001b[1;33m\u001b[0m\u001b[1;33m\u001b[0m\u001b[0m\n\u001b[0;32m    154\u001b[0m \u001b[1;33m\u001b[0m\u001b[0m\n",
      "\u001b[1;31mModuleNotFoundError\u001b[0m: No module named 'sasl'"
     ]
    }
   ],
   "source": [
    "from pyhive import hive\n",
    "conn=hive.Connection(host='10.20.180.190',auth=\"CUSTOM\",port='10098',database='wedw_dwd',username='guojj1',password='gjj6351&bei')"
   ]
  },
  {
   "cell_type": "code",
   "execution_count": null,
   "metadata": {},
   "outputs": [],
   "source": [
    "cursor=conn.cursor()\n",
    "cursor.execute('select * from wedw_dw. wy_zh_user_df limit 10')\n",
    "for result in cursor.fetchall():\n",
    "    print(result)\n",
    "cursor.close()\n",
    "conn.close()"
   ]
  }
 ]
}