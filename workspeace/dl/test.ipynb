{
 "nbformat": 4,
 "nbformat_minor": 2,
 "metadata": {
  "language_info": {
   "name": "python",
   "codemirror_mode": {
    "name": "ipython",
    "version": 3
   },
   "version": "3.8.3"
  },
  "orig_nbformat": 2,
  "file_extension": ".py",
  "mimetype": "text/x-python",
  "name": "python",
  "npconvert_exporter": "python",
  "pygments_lexer": "ipython3",
  "version": 3,
  "kernelspec": {
   "name": "pycharm-3bc9ef03",
   "display_name": "Python 3.8.3 64-bit ('base': conda)"
  }
 },
 "cells": [
  {
   "cell_type": "code",
   "execution_count": 1,
   "metadata": {},
   "outputs": [],
   "source": [
    "import tensorflow as tf\n",
    "from  import ticker.FormatStrFormatter"
   ]
  },
  {
   "cell_type": "code",
   "execution_count": 2,
   "metadata": {},
   "outputs": [],
   "source": [
    "mnist=tf.keras.datasets.mnist\n",
    "data=mnist.load_data()"
   ]
  },
  {
   "cell_type": "code",
   "execution_count": 3,
   "metadata": {},
   "outputs": [],
   "source": [
    "(x_train,y_train),(x_test,y_test)=data\n",
    "x_train,x_test=x_train/255.0,x_test/255.0"
   ]
  },
  {
   "cell_type": "code",
   "execution_count": 4,
   "metadata": {},
   "outputs": [],
   "source": [
    "model=tf.keras.models.Sequential([tf.keras.layers.Flatten(input_shape=(28,28)),\n",
    "tf.keras.layers.Dense(128,activation='relu'),\n",
    "tf.keras.layers.Dropout(0.2),\n",
    "tf.keras.layers.Dense(10,activation='softmax')])\n",
    "model.compile(optimizer='adam',loss='sparse_categorical_crossentropy',\n",
    "metrics=['accuracy'])"
   ]
  },
  {
   "cell_type": "code",
   "execution_count": 5,
   "metadata": {},
   "outputs": [
    {
     "output_type": "stream",
     "name": "stdout",
     "text": [
      "Epoch 1/6\n",
      "1875/1875 [==============================] - 3s 1ms/step - loss: 0.2953 - accuracy: 0.9141\n",
      "Epoch 2/6\n",
      "1875/1875 [==============================] - 3s 1ms/step - loss: 0.1419 - accuracy: 0.9588\n",
      "Epoch 3/6\n",
      "1875/1875 [==============================] - 2s 1ms/step - loss: 0.1063 - accuracy: 0.9674\n",
      "Epoch 4/6\n",
      "1875/1875 [==============================] - 2s 1ms/step - loss: 0.0905 - accuracy: 0.9715\n",
      "Epoch 5/6\n",
      "1875/1875 [==============================] - 2s 1ms/step - loss: 0.0764 - accuracy: 0.9761\n",
      "Epoch 6/6\n",
      "1875/1875 [==============================] - 2s 1ms/step - loss: 0.0666 - accuracy: 0.9788\n",
      "313/313 - 0s - loss: 0.0725 - accuracy: 0.9784\n"
     ]
    },
    {
     "output_type": "execute_result",
     "data": {
      "text/plain": [
       "[0.07246837764978409, 0.9783999919891357]"
      ]
     },
     "metadata": {},
     "execution_count": 5
    }
   ],
   "source": [
    "model.fit(x_train,y_train,epochs=6)\n",
    "model.evaluate(x_test,y_test,verbose=2)"
   ]
  },
  {
   "cell_type": "code",
   "execution_count": 6,
   "metadata": {},
   "outputs": [
    {
     "output_type": "stream",
     "name": "stdout",
     "text": [
      "hello\n"
     ]
    }
   ],
   "source": [
    "print ('hello')\n"
   ]
  },
  {
   "cell_type": "code",
   "execution_count": null,
   "metadata": {},
   "outputs": [],
   "source": []
  }
 ]
}