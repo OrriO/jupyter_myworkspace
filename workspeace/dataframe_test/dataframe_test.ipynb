{
 "metadata": {
  "language_info": {
   "codemirror_mode": {
    "name": "ipython",
    "version": 3
   },
   "file_extension": ".py",
   "mimetype": "text/x-python",
   "name": "python",
   "nbconvert_exporter": "python",
   "pygments_lexer": "ipython3",
   "version": "3.8.3-final"
  },
  "orig_nbformat": 2,
  "kernelspec": {
   "name": "pycharm-3bc9ef03",
   "language": "python",
   "display_name": "PyCharm (python3_jupyter)"
  }
 },
 "nbformat": 4,
 "nbformat_minor": 2,
 "cells": [
  {
   "cell_type": "code",
   "execution_count": 2,
   "metadata": {},
   "outputs": [],
   "source": [
    "import pandas as pd\n",
    "dic1 = {'name': ['a', 'a', 'a', 'a', 'b', 'b', 'b'],'id': ['B', 'B', 'B', 'C', 'C', 'D', 'E'],\n",
    "        'score_2': [1, -1, 2, 4, 21, 23, 7], 'score_3': [1, 1, 2, 22, 22, 23, 7]}\n",
    "\n",
    "frame1 = pd.DataFrame(dic1)"
   ]
  },
  {
   "cell_type": "code",
   "execution_count": 3,
   "metadata": {},
   "outputs": [
    {
     "data": {
      "text/plain": "  name id  score_2  score_3\n0    a  B        1        1\n1    a  B       -1        1\n2    a  B        2        2\n3    a  C        4       22\n4    b  C       21       22\n5    b  D       23       23\n6    b  E        7        7",
      "text/html": "<div>\n<style scoped>\n    .dataframe tbody tr th:only-of-type {\n        vertical-align: middle;\n    }\n\n    .dataframe tbody tr th {\n        vertical-align: top;\n    }\n\n    .dataframe thead th {\n        text-align: right;\n    }\n</style>\n<table border=\"1\" class=\"dataframe\">\n  <thead>\n    <tr style=\"text-align: right;\">\n      <th></th>\n      <th>name</th>\n      <th>id</th>\n      <th>score_2</th>\n      <th>score_3</th>\n    </tr>\n  </thead>\n  <tbody>\n    <tr>\n      <th>0</th>\n      <td>a</td>\n      <td>B</td>\n      <td>1</td>\n      <td>1</td>\n    </tr>\n    <tr>\n      <th>1</th>\n      <td>a</td>\n      <td>B</td>\n      <td>-1</td>\n      <td>1</td>\n    </tr>\n    <tr>\n      <th>2</th>\n      <td>a</td>\n      <td>B</td>\n      <td>2</td>\n      <td>2</td>\n    </tr>\n    <tr>\n      <th>3</th>\n      <td>a</td>\n      <td>C</td>\n      <td>4</td>\n      <td>22</td>\n    </tr>\n    <tr>\n      <th>4</th>\n      <td>b</td>\n      <td>C</td>\n      <td>21</td>\n      <td>22</td>\n    </tr>\n    <tr>\n      <th>5</th>\n      <td>b</td>\n      <td>D</td>\n      <td>23</td>\n      <td>23</td>\n    </tr>\n    <tr>\n      <th>6</th>\n      <td>b</td>\n      <td>E</td>\n      <td>7</td>\n      <td>7</td>\n    </tr>\n  </tbody>\n</table>\n</div>"
     },
     "execution_count": 3,
     "metadata": {},
     "output_type": "execute_result"
    }
   ],
   "source": [
    "frame1"
   ]
  },
  {
   "cell_type": "code",
   "execution_count": 4,
   "metadata": {},
   "outputs": [],
   "source": [
    "frame1['score_4']=frame1['score_3']+10"
   ]
  },
  {
   "cell_type": "code",
   "execution_count": 4,
   "metadata": {},
   "outputs": [
    {
     "output_type": "execute_result",
     "data": {
      "text/plain": [
       "  name id  score_2  score_3  score_4\n",
       "0    a  B        1        1       11\n",
       "1    a  B       -1        1       11\n",
       "2    a  B        2        2       12\n",
       "3    a  C        4       22       32\n",
       "4    b  C       21       22       32\n",
       "5    b  D       23       23       33\n",
       "6    b  E        7        7       17"
      ],
      "text/html": "<div>\n<style scoped>\n    .dataframe tbody tr th:only-of-type {\n        vertical-align: middle;\n    }\n\n    .dataframe tbody tr th {\n        vertical-align: top;\n    }\n\n    .dataframe thead th {\n        text-align: right;\n    }\n</style>\n<table border=\"1\" class=\"dataframe\">\n  <thead>\n    <tr style=\"text-align: right;\">\n      <th></th>\n      <th>name</th>\n      <th>id</th>\n      <th>score_2</th>\n      <th>score_3</th>\n      <th>score_4</th>\n    </tr>\n  </thead>\n  <tbody>\n    <tr>\n      <th>0</th>\n      <td>a</td>\n      <td>B</td>\n      <td>1</td>\n      <td>1</td>\n      <td>11</td>\n    </tr>\n    <tr>\n      <th>1</th>\n      <td>a</td>\n      <td>B</td>\n      <td>-1</td>\n      <td>1</td>\n      <td>11</td>\n    </tr>\n    <tr>\n      <th>2</th>\n      <td>a</td>\n      <td>B</td>\n      <td>2</td>\n      <td>2</td>\n      <td>12</td>\n    </tr>\n    <tr>\n      <th>3</th>\n      <td>a</td>\n      <td>C</td>\n      <td>4</td>\n      <td>22</td>\n      <td>32</td>\n    </tr>\n    <tr>\n      <th>4</th>\n      <td>b</td>\n      <td>C</td>\n      <td>21</td>\n      <td>22</td>\n      <td>32</td>\n    </tr>\n    <tr>\n      <th>5</th>\n      <td>b</td>\n      <td>D</td>\n      <td>23</td>\n      <td>23</td>\n      <td>33</td>\n    </tr>\n    <tr>\n      <th>6</th>\n      <td>b</td>\n      <td>E</td>\n      <td>7</td>\n      <td>7</td>\n      <td>17</td>\n    </tr>\n  </tbody>\n</table>\n</div>"
     },
     "metadata": {},
     "execution_count": 4
    }
   ],
   "source": [
    "frame1"
   ]
  },
  {
   "cell_type": "code",
   "execution_count": null,
   "metadata": {},
   "outputs": [],
   "source": []
  }
 ]
}