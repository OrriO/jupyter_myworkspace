{
 "cells": [
  {
   "cell_type": "markdown",
   "metadata": {
    "collapsed": true
   },
   "source": []
  },
  {
   "cell_type": "code",
   "execution_count": 3,
   "metadata": {},
   "outputs": [],
   "source": [
    "# -*- coding:utf-8 -*-\n",
    "from __future__ import (absolute_import, division, print_function, unicode_literals)\n",
    "import os\n",
    "import io\n",
    "from surprise import KNNBaseline\n",
    "from surprise import Dataset\n",
    " \n",
    "import logging\n",
    " \n",
    "logging.basicConfig(level=logging.INFO,\n",
    "                    format='%(asctime)s %(filename)s[line:%(lineno)d] %(levelname)s %(message)s',\n",
    "                    datefmt='%a, %d %b %Y %H:%M:%S')"
   ]
  },
  {
   "cell_type": "markdown",
   "metadata": {},
   "source": [
    "在getSimModel()函数中，提醒需要下载ml-100k数据集，这里是直接使用surprise库中Dataset的数据集，按照提示下载即可"
   ]
  },
  {
   "cell_type": "code",
   "execution_count": 4,
   "metadata": {},
   "outputs": [],
   "source": [
    "# 训练推荐模型 步骤:1\n",
    "def getSimModle():\n",
    "    # 默认载入movielens数据集\n",
    "    data = Dataset.load_builtin('ml-100k')\n",
    "    trainset = data.build_full_trainset()\n",
    "    #使用pearson_baseline方式计算相似度  False以item为基准计算相似度 本例为电影之间的相似度\n",
    "    sim_options = {'name': 'pearson_baseline', 'user_based': False}\n",
    "    ##使用KNNBaseline算法\n",
    "    algo = KNNBaseline(sim_options=sim_options)\n",
    "    #训练模型\n",
    "    algo.train(trainset)\n",
    "    return algo\n"
   ]
  },
  {
   "cell_type": "code",
   "execution_count": null,
   "metadata": {
    "collapsed": true
   },
   "outputs": [],
   "source": []
  },
  {
   "cell_type": "markdown",
   "metadata": {
    "collapsed": true
   },
   "source": [
    "数据集路径问题：\n",
    "\n",
    "    1、第一次运行的时候总是会在read_item_names()函数中第一句提醒找不到ml-100k的数据集文件，后经查阅os.path.expanduser(path)  的作用是：把path中包含“~”和“~user”转换成用户目录。后自己去单独下载了ml-100k数据集，并放在同级目录下，然后将单引号中路径换为‘/ml-100k/u.item’，还是找不到。再把os.path.expanduser('~')去掉，不通过此方式，后发现不抱错，应该是找到了对应文件。\n"
   ]
  },
  {
   "cell_type": "code",
   "execution_count": 5,
   "metadata": {},
   "outputs": [],
   "source": [
    "# 获取id到name的互相映射  步骤:2\n",
    "def read_item_names():\n",
    "    \"\"\"\n",
    "    获取电影名到电影id 和 电影id到电影名的映射\n",
    "    \"\"\"\n",
    "    file_name = (os.path.expanduser('~') +\n",
    "                 '/.surprise_data/ml-100k/ml-100k/u.item')\n",
    "    rid_to_name = {}\n",
    "    name_to_rid = {}\n",
    "    with io.open(file_name, 'r', encoding='ISO-8859-1') as f:\n",
    "        for line in f:\n",
    "            line = line.split('|')\n",
    "            rid_to_name[line[0]] = line[1]\n",
    "            name_to_rid[line[1]] = line[0]\n",
    "    return rid_to_name, name_to_rid"
   ]
  },
  {
   "cell_type": "code",
   "execution_count": null,
   "metadata": {
    "collapsed": true
   },
   "outputs": [],
   "source": []
  },
  {
   "cell_type": "code",
   "execution_count": 6,
   "metadata": {
    "collapsed": true
   },
   "outputs": [],
   "source": [
    "\n",
    "# 基于之前训练的模型 进行相关电影的推荐  步骤：3\n",
    "def showSimilarMovies(algo, rid_to_name, name_to_rid):\n",
    "    # 获得电影Toy Story (1995)的raw_id\n",
    "    toy_story_raw_id = name_to_rid['Beauty and the Beast (1991)']  #Beauty and the Beast(1991)  或  Toy Story (1995)\n",
    "    logging.debug('raw_id=' + toy_story_raw_id)\n",
    "    #把电影的raw_id转换为模型的内部id\n",
    "    toy_story_inner_id = algo.trainset.to_inner_iid(toy_story_raw_id)\n",
    "    logging.debug('inner_id=' + str(toy_story_inner_id))\n",
    "    #通过模型获取推荐电影 这里设置的是10部\n",
    "    toy_story_neighbors = algo.get_neighbors(toy_story_inner_id, 10)\n",
    "    logging.debug('neighbors_ids=' + str(toy_story_neighbors))\n",
    "    #模型内部id转换为实际电影id\n",
    "    neighbors_raw_ids = [algo.trainset.to_raw_iid(inner_id) for inner_id in toy_story_neighbors]\n",
    "    #通过电影id列表 或得电影推荐列表\n",
    "    neighbors_movies = [rid_to_name[raw_id] for raw_id in neighbors_raw_ids]\n",
    "    print('The 10 nearest neighbors of Toy Story are:')\n",
    "    for movie in neighbors_movies:\n",
    "        print(movie)\n"
   ]
  },
  {
   "cell_type": "markdown",
   "metadata": {},
   "source": [
    "此处输出就是Toy Story （1995）最相近的10部电影。\n",
    "尝试将参数换为Beauty and the Beast(1991)，输出结果如下："
   ]
  },
  {
   "cell_type": "code",
   "execution_count": 7,
   "metadata": {},
   "outputs": [
    {
     "name": "stderr",
     "output_type": "stream",
     "text": [
      "D:\\ProgramCJ\\Anaconda\\Anaconda2\\lib\\site-packages\\surprise\\prediction_algorithms\\algo_base.py:51: UserWarning: train() is deprecated. Use fit() instead\n",
      "  warnings.warn('train() is deprecated. Use fit() instead', UserWarning)\n"
     ]
    },
    {
     "name": "stdout",
     "output_type": "stream",
     "text": [
      "Estimating biases using als...\n",
      "Computing the pearson_baseline similarity matrix...\n",
      "Done computing similarity matrix.\n",
      "The 10 nearest neighbors of Toy Story are:\n",
      "Lion King, The (1994)\n",
      "Toy Story (1995)\n",
      "Cinderella (1950)\n",
      "Hunchback of Notre Dame, The (1996)\n",
      "Sound of Music, The (1965)\n",
      "Clueless (1995)\n",
      "Aladdin (1992)\n",
      "E.T. the Extra-Terrestrial (1982)\n",
      "Winnie the Pooh and the Blustery Day (1968)\n",
      "Ghost (1990)\n"
     ]
    }
   ],
   "source": [
    "if __name__ == '__main__':\n",
    "    # 获取id到name的互相映射\n",
    "    rid_to_name, name_to_rid = read_item_names()\n",
    " \n",
    "    # 训练推荐模型\n",
    "    algo = getSimModle()\n",
    " \n",
    "    ##显示相关电影\n",
    "    showSimilarMovies(algo, rid_to_name, name_to_rid)"
   ]
  },
  {
   "cell_type": "markdown",
   "metadata": {},
   "source": [
    " 获得电影Toy Story (1995)的Top10\n",
    "D:\\ProgramCJ\\Anaconda\\Anaconda2\\lib\\site-packages\\surprise\\prediction_algorithms\\algo_base.py:51: UserWarning: train() is deprecated. Use fit() instead\n",
    "  warnings.warn('train() is deprecated. Use fit() instead', UserWarning)\n",
    "Estimating biases using als...\n",
    "Computing the pearson_baseline similarity matrix...\n",
    "Done computing similarity matrix.\n",
    "The 10 nearest neighbors of Toy Story are:\n",
    "Beauty and the Beast (1991)\n",
    "Raiders of the Lost Ark (1981)\n",
    "That Thing You Do! (1996)\n",
    "Lion King, The (1994)\n",
    "Craft, The (1996)\n",
    "Liar Liar (1997)\n",
    "Aladdin (1992)\n",
    "Cool Hand Luke (1967)\n",
    "Winnie the Pooh and the Blustery Day (1968)\n",
    "Indiana Jones and the Last Crusade (1989)"
   ]
  },
  {
   "cell_type": "markdown",
   "metadata": {},
   "source": [
    " 获得电影Beauty and the Beast (1991)的Top10\n",
    "Estimating biases using als...\n",
    "Computing the pearson_baseline similarity matrix...\n",
    "Done computing similarity matrix.\n",
    "The 10 nearest neighbors of Toy Story are:\n",
    "Lion King, The (1994)\n",
    "Toy Story (1995)\n",
    "Cinderella (1950)\n",
    "Hunchback of Notre Dame, The (1996)\n",
    "Sound of Music, The (1965)\n",
    "Clueless (1995)\n",
    "Aladdin (1992)\n",
    "E.T. the Extra-Terrestrial (1982)\n",
    "Winnie the Pooh and the Blustery Day (1968)\n",
    "Ghost (1990)"
   ]
  },
  {
   "cell_type": "code",
   "execution_count": null,
   "metadata": {
    "collapsed": true
   },
   "outputs": [],
   "source": []
  },
  {
   "cell_type": "code",
   "execution_count": null,
   "metadata": {
    "collapsed": true
   },
   "outputs": [],
   "source": []
  },
  {
   "cell_type": "code",
   "execution_count": null,
   "metadata": {
    "collapsed": true
   },
   "outputs": [],
   "source": []
  }
 ],
 "metadata": {
  "anaconda-cloud": {},
  "kernelspec": {
   "display_name": "Python 3",
   "language": "python",
   "name": "python3"
  },
  "language_info": {
   "codemirror_mode": {
    "name": "ipython",
    "version": 3
   },
   "file_extension": ".py",
   "mimetype": "text/x-python",
   "name": "python",
   "nbconvert_exporter": "python",
   "pygments_lexer": "ipython3",
   "version": "3.6.5"
  }
 },
 "nbformat": 4,
 "nbformat_minor": 1
}
