{
 "cells": [
  {
   "cell_type": "code",
   "execution_count": null,
   "metadata": {
    "collapsed": true
   },
   "outputs": [],
   "source": []
  },
  {
   "cell_type": "code",
   "execution_count": 1,
   "metadata": {
    "collapsed": false
   },
   "outputs": [
    {
     "name": "stdout",
     "output_type": "stream",
     "text": [
      "加载歌单id到歌单名的映射字典完成...\n",
      "加载歌单名到歌单id的映射字典完成...\n"
     ]
    }
   ],
   "source": [
    "from __future__ import (absolute_import, division, print_function, unicode_literals)\n",
    "import os\n",
    "import io\n",
    "\n",
    "from surprise import KNNBaseline, Reader\n",
    "from surprise import Dataset\n",
    "\n",
    "import cPickle as pickle\n",
    "# 重建歌单id到歌单名的映射字典\n",
    "id_name_dic = pickle.load(open(\"popular_playlist.pkl\",\"rb\"))\n",
    "print(\"加载歌单id到歌单名的映射字典完成...\")\n",
    "# 重建歌单名到歌单id的映射字典\n",
    "name_id_dic = {}\n",
    "for playlist_id in id_name_dic:\n",
    "    name_id_dic[id_name_dic[playlist_id]] = playlist_id\n",
    "print(\"加载歌单名到歌单id的映射字典完成...\")"
   ]
  },
  {
   "cell_type": "code",
   "execution_count": 2,
   "metadata": {
    "collapsed": false
   },
   "outputs": [
    {
     "name": "stdout",
     "output_type": "stream",
     "text": [
      "构建数据集...\n"
     ]
    }
   ],
   "source": [
    "file_path = os.path.expanduser('./popular_music_suprise_format.txt')\n",
    "# 指定文件格式\n",
    "reader = Reader(line_format='user item rating timestamp', sep=',')\n",
    "# 从文件读取数据\n",
    "music_data = Dataset.load_from_file(file_path, reader=reader)\n",
    "# 计算歌曲和歌曲之间的相似度\n",
    "print(\"构建数据集...\")\n",
    "trainset = music_data.build_full_trainset()\n",
    "#sim_options = {'name': 'pearson_baseline', 'user_based': False}"
   ]
  },
  {
   "cell_type": "code",
   "execution_count": null,
   "metadata": {
    "collapsed": true
   },
   "outputs": [],
   "source": []
  },
  {
   "cell_type": "code",
   "execution_count": null,
   "metadata": {
    "collapsed": true
   },
   "outputs": [],
   "source": []
  },
  {
   "cell_type": "code",
   "execution_count": 5,
   "metadata": {
    "collapsed": false
   },
   "outputs": [
    {
     "name": "stdout",
     "output_type": "stream",
     "text": [
      "♬毕业季，我想大声告诉你♬\n",
      "50539\n",
      "1076\n"
     ]
    }
   ],
   "source": [
    "############################################################################\n",
    "id_name_dic.keys()[3]\n",
    "print(id_name_dic[id_name_dic.keys()[3]])\n",
    "print(trainset.n_items)\n",
    "print(trainset.n_users)"
   ]
  },
  {
   "cell_type": "code",
   "execution_count": null,
   "metadata": {
    "collapsed": true
   },
   "outputs": [],
   "source": []
  },
  {
   "cell_type": "code",
   "execution_count": null,
   "metadata": {
    "collapsed": true
   },
   "outputs": [],
   "source": []
  },
  {
   "cell_type": "code",
   "execution_count": null,
   "metadata": {
    "collapsed": true
   },
   "outputs": [],
   "source": []
  },
  {
   "cell_type": "markdown",
   "metadata": {},
   "source": [
    "## 1.2.1 模板之查找最近的user(在这里是歌单)"
   ]
  },
  {
   "cell_type": "code",
   "execution_count": 9,
   "metadata": {
    "collapsed": false
   },
   "outputs": [
    {
     "name": "stdout",
     "output_type": "stream",
     "text": [
      "开始训练模型...\n",
      "Estimating biases using als...\n",
      "Computing the msd similarity matrix...\n",
      "Done computing similarity matrix.\n",
      "歌单名称 如果终究要离开，我会忍住不责怪\n"
     ]
    }
   ],
   "source": [
    "###########################################################################\n",
    "#模板之查找最近的user(在这里是歌单)\n",
    "print(\"开始训练模型...\")\n",
    "#sim_options = {'user_based': False}\n",
    "#algo = KNNBaseline(sim_options=sim_options)\n",
    "algo = KNNBaseline()\n",
    "algo.train(trainset)\n",
    "#\n",
    "current_playlist = name_id_dic.keys()[19]\n",
    "print(\"歌单名称\", current_playlist)\n",
    "#"
   ]
  },
  {
   "cell_type": "code",
   "execution_count": null,
   "metadata": {
    "collapsed": true
   },
   "outputs": [],
   "source": []
  },
  {
   "cell_type": "code",
   "execution_count": null,
   "metadata": {
    "collapsed": true
   },
   "outputs": [],
   "source": []
  },
  {
   "cell_type": "code",
   "execution_count": 10,
   "metadata": {
    "collapsed": false
   },
   "outputs": [
    {
     "name": "stdout",
     "output_type": "stream",
     "text": [
      "歌单id 448831188\n",
      "内部id 701\n"
     ]
    }
   ],
   "source": [
    "# 取出近邻\n",
    "# 映射名字到id\n",
    "playlist_id = name_id_dic[current_playlist]\n",
    "print(\"歌单id\", playlist_id)\n",
    "# 取出来对应的内部user id => to_inner_uid\n",
    "playlist_inner_id = algo.trainset.to_inner_uid(playlist_id)\n",
    "print(\"内部id\", playlist_inner_id)\n",
    "playlist_neighbors = algo.get_neighbors(playlist_inner_id, k=10)\n",
    "# 把歌曲id转成歌曲名字\n",
    "# to_raw_uid映射回去\n",
    "playlist_neighbors = (algo.trainset.to_raw_uid(inner_id) for inner_id in playlist_neighbors)\n",
    "playlist_neighbors = (id_name_dic[playlist_id] for playlist_id in playlist_neighbors)"
   ]
  },
  {
   "cell_type": "code",
   "execution_count": null,
   "metadata": {
    "collapsed": true
   },
   "outputs": [],
   "source": []
  },
  {
   "cell_type": "code",
   "execution_count": 11,
   "metadata": {
    "collapsed": false
   },
   "outputs": [
    {
     "name": "stdout",
     "output_type": "stream",
     "text": [
      "\n",
      "和歌单 《 如果终究要离开，我会忍住不责怪 》 最接近的10个歌单为：\n",
      "\n",
      "当过千评论的华语翻唱遇上“原唱”【更新】 1\n",
      "【华语】暖心物语 纯白思念 3\n",
      "〖循环〗单曲循环是强迫症吗？ 4\n",
      "周杰伦地表最强演唱会2017520南京站曲目 5\n",
      "大神爱翻唱1：华语篇 8\n",
      "『华语/回忆』95后陪伴我中学时期的歌曲 13\n",
      "暗暗作祟| 不甘朋友不敢恋人 15\n",
      "有没有一首歌让你泪流满面 17\n",
      "专属你的周杰伦 18\n",
      "你知道思念一个人的滋味吗 21\n"
     ]
    }
   ],
   "source": [
    "print()\n",
    "print(\"和歌单 《\", current_playlist, \"》 最接近的10个歌单为：\\n\")\n",
    "for playlist in playlist_neighbors:\n",
    "    print(playlist, algo.trainset.to_inner_uid(name_id_dic[playlist]))"
   ]
  },
  {
   "cell_type": "code",
   "execution_count": null,
   "metadata": {
    "collapsed": true
   },
   "outputs": [],
   "source": []
  },
  {
   "cell_type": "markdown",
   "metadata": {},
   "source": [
    "### 1.2.2 模板之针对用户进行预测"
   ]
  },
  {
   "cell_type": "code",
   "execution_count": 12,
   "metadata": {
    "collapsed": false
   },
   "outputs": [
    {
     "name": "stdout",
     "output_type": "stream",
     "text": [
      "加载歌曲id到歌曲名的映射字典完成...\n",
      "加载歌曲名到歌曲id的映射字典完成...\n"
     ]
    }
   ],
   "source": [
    "import cPickle as pickle\n",
    "# 重建歌曲id到歌曲名的映射字典\n",
    "song_id_name_dic = pickle.load(open(\"popular_song.pkl\",\"rb\"))\n",
    "print(\"加载歌曲id到歌曲名的映射字典完成...\")\n",
    "# 重建歌曲名到歌曲id的映射字典\n",
    "song_name_id_dic = {}\n",
    "for song_id in song_id_name_dic:\n",
    "    song_name_id_dic[song_id_name_dic[song_id]] = song_id\n",
    "print(\"加载歌曲名到歌曲id的映射字典完成...\")"
   ]
  },
  {
   "cell_type": "code",
   "execution_count": null,
   "metadata": {
    "collapsed": true
   },
   "outputs": [],
   "source": []
  },
  {
   "cell_type": "code",
   "execution_count": 13,
   "metadata": {
    "collapsed": false
   },
   "outputs": [
    {
     "name": "stdout",
     "output_type": "stream",
     "text": [
      "user: 5          item: 1017       r_ui = 1.00   est = 1.00   {u'was_impossible': False} 英雄\t周杰伦\n",
      "user: 5          item: 566        r_ui = 1.00   est = 1.00   {u'was_impossible': False} 无双\t周杰伦\n",
      "user: 5          item: 588        r_ui = 1.00   est = 1.00   {u'was_impossible': False} 她的睫毛\t周杰伦\n",
      "user: 5          item: 614        r_ui = 1.00   est = 1.00   {u'was_impossible': False} 开不了口\t周杰伦\n",
      "user: 5          item: 1018       r_ui = 1.00   est = 1.00   {u'was_impossible': False} 床边故事\t周杰伦\n",
      "user: 5          item: 529        r_ui = 1.00   est = 1.00   {u'was_impossible': False} 窃爱\t周杰伦\n",
      "user: 5          item: 624        r_ui = 1.00   est = 1.00   {u'was_impossible': False} 以父之名\t周杰伦\n",
      "user: 5          item: 536        r_ui = 1.00   est = 1.00   {u'was_impossible': False} 美人鱼\t周杰伦\n",
      "user: 5          item: 1019       r_ui = 1.00   est = 1.00   {u'was_impossible': False} 屋顶\t温岚\n",
      "user: 5          item: 1020       r_ui = 1.00   est = 1.00   {u'was_impossible': False} Try\t派伟俊\n",
      "user: 5          item: 1021       r_ui = 1.00   est = 1.00   {u'was_impossible': False} 我的时代\t派伟俊\n",
      "user: 5          item: 609        r_ui = 1.00   est = 1.00   {u'was_impossible': False} 稻香\t周杰伦\n",
      "user: 5          item: 388        r_ui = 1.00   est = 1.00   {u'was_impossible': False} 晴天\t周杰伦\n",
      "user: 5          item: 570        r_ui = 1.00   est = 1.00   {u'was_impossible': False} 白色风车\t周杰伦\n",
      "user: 5          item: 586        r_ui = 1.00   est = 1.00   {u'was_impossible': False} 三年二班\t周杰伦\n",
      "user: 5          item: 580        r_ui = 1.00   est = 1.00   {u'was_impossible': False} 将军\t周杰伦\n",
      "user: 5          item: 599        r_ui = 1.00   est = 1.00   {u'was_impossible': False} 爸我回来了\t周杰伦\n",
      "user: 5          item: 534        r_ui = 1.00   est = 1.00   {u'was_impossible': False} 鞋子特大号\t周杰伦\n",
      "user: 5          item: 273        r_ui = 1.00   est = 1.00   {u'was_impossible': False} 半岛铁盒\t周杰伦\n",
      "user: 5          item: 597        r_ui = 1.00   est = 1.00   {u'was_impossible': False} 印第安老斑鸠\t周杰伦\n",
      "user: 5          item: 1022       r_ui = 1.00   est = 1.00   {u'was_impossible': False} 大笨钟\t周杰伦\n",
      "user: 5          item: 637        r_ui = 1.00   est = 1.00   {u'was_impossible': False} 暗号\t周杰伦\n",
      "user: 5          item: 596        r_ui = 1.00   est = 1.00   {u'was_impossible': False} 伊斯坦堡\t周杰伦\n",
      "user: 5          item: 434        r_ui = 1.00   est = 1.00   {u'was_impossible': False} 龙卷风\t周杰伦\n",
      "user: 5          item: 1023       r_ui = 1.00   est = 1.00   {u'was_impossible': False} 土耳其冰淇淋\t周杰伦\n",
      "user: 5          item: 1024       r_ui = 1.00   est = 1.00   {u'was_impossible': False} Now You See Me\t周杰伦\n",
      "user: 5          item: 262        r_ui = 1.00   est = 1.00   {u'was_impossible': False} 给我一首歌的时间\t周杰伦\n",
      "user: 5          item: 446        r_ui = 1.00   est = 1.00   {u'was_impossible': False} 烟花易冷\t周杰伦\n",
      "user: 5          item: 625        r_ui = 1.00   est = 1.00   {u'was_impossible': False} 可爱女人\t周杰伦\n",
      "user: 5          item: 64         r_ui = 1.00   est = 1.00   {u'was_impossible': False} 告白气球\t周杰伦\n",
      "user: 5          item: 525        r_ui = 1.00   est = 1.00   {u'was_impossible': False} 爷爷泡的茶\t周杰伦\n",
      "user: 5          item: 294        r_ui = 1.00   est = 1.00   {u'was_impossible': False} 七里香\t周杰伦\n",
      "user: 5          item: 606        r_ui = 1.00   est = 1.00   {u'was_impossible': False} 安静\t周杰伦\n",
      "user: 5          item: 612        r_ui = 1.00   est = 1.00   {u'was_impossible': False} 简单爱\t周杰伦\n",
      "user: 5          item: 554        r_ui = 1.00   est = 1.00   {u'was_impossible': False} 爱的飞行日记\t周杰伦\n",
      "user: 5          item: 623        r_ui = 1.00   est = 1.00   {u'was_impossible': False} 东风破\t周杰伦\n"
     ]
    }
   ],
   "source": [
    "#内部编码的5号用户\n",
    "user_inner_id = 5\n",
    "user_rating = trainset.ur[user_inner_id]\n",
    "items = map(lambda x:x[0], user_rating)\n",
    "for song in items:\n",
    "    print(algo.predict(user_inner_id, song, r_ui=1), song_id_name_dic[algo.trainset.to_raw_iid(song)])"
   ]
  },
  {
   "cell_type": "markdown",
   "metadata": {},
   "source": [
    "## 2.用矩阵分解进行预测"
   ]
  },
  {
   "cell_type": "code",
   "execution_count": 12,
   "metadata": {
    "collapsed": true
   },
   "outputs": [],
   "source": [
    "#2.用矩阵分解进行预测\n",
    "### 使用NMF\n",
    "from surprise import NMF, evaluate\n",
    "from surprise import Dataset"
   ]
  },
  {
   "cell_type": "code",
   "execution_count": 13,
   "metadata": {
    "collapsed": false
   },
   "outputs": [
    {
     "data": {
      "text/plain": [
       "<surprise.prediction_algorithms.matrix_factorization.NMF at 0x1628ee10>"
      ]
     },
     "execution_count": 13,
     "metadata": {},
     "output_type": "execute_result"
    }
   ],
   "source": [
    "file_path = os.path.expanduser('./popular_music_suprise_format.txt')\n",
    "# 指定文件格式\n",
    "reader = Reader(line_format='user item rating timestamp', sep=',')\n",
    "# 从文件读取数据\n",
    "music_data = Dataset.load_from_file(file_path, reader=reader)\n",
    "# 构建数据集和建模\n",
    "algo = NMF()\n",
    "trainset = music_data.build_full_trainset()\n",
    "algo.train(trainset)"
   ]
  },
  {
   "cell_type": "code",
   "execution_count": 14,
   "metadata": {
    "collapsed": false
   },
   "outputs": [
    {
     "name": "stdout",
     "output_type": "stream",
     "text": [
      "user: 400232387  item: 27724082   r_ui = 1.00   est = 1.00   {u'actual_k': 39, u'was_impossible': False} 听见下雨的声音\t魏如昀\n",
      "user: 400232387  item: 167916     r_ui = 1.00   est = 1.00   {u'actual_k': 40, u'was_impossible': False} 梦一场\t萧敬腾\n",
      "user: 400232387  item: 408307325  r_ui = 1.00   est = 1.00   {u'actual_k': 2, u'was_impossible': False} 干杯\t西瓜Kune\n",
      "user: 400232387  item: 394618     r_ui = 1.00   est = 1.00   {u'actual_k': 13, u'was_impossible': False} 给自己的歌 (Live) - live\t纵贯线\n",
      "user: 400232387  item: 421423806  r_ui = 1.00   est = 1.00   {u'actual_k': 40, u'was_impossible': False} 小半\t陈粒\n",
      "user: 400232387  item: 394485     r_ui = 1.00   est = 1.00   {u'actual_k': 33, u'was_impossible': False} 思念是一种病(Live) - live\t张震岳\n",
      "user: 400232387  item: 5239563    r_ui = 1.00   est = 1.00   {u'actual_k': 7, u'was_impossible': False} 可以不可以\t丁当\n",
      "user: 400232387  item: 30635613   r_ui = 1.00   est = 1.00   {u'actual_k': 9, u'was_impossible': False} 秋酿\t房东的猫\n",
      "user: 400232387  item: 185884     r_ui = 1.00   est = 1.00   {u'actual_k': 40, u'was_impossible': False} 退后\t周杰伦\n",
      "user: 400232387  item: 276936     r_ui = 1.00   est = 1.00   {u'actual_k': 40, u'was_impossible': False} 阴天\t莫文蔚\n",
      "user: 400232387  item: 27867458   r_ui = 1.00   est = 1.00   {u'actual_k': 1, u'was_impossible': False} 痛爱\t容祖儿\n",
      "user: 400232387  item: 370776     r_ui = 1.00   est = 1.00   {u'actual_k': 7, u'was_impossible': False} 二十世纪少年(Unplugged) - unplug\tPing Pung\n",
      "user: 400232387  item: 213673     r_ui = 1.00   est = 1.00   {u'actual_k': 6, u'was_impossible': False} 前所未见\t陈慧琳\n",
      "user: 400232387  item: 355992     r_ui = 1.00   est = 1.00   {u'actual_k': 40, u'was_impossible': False} 追梦赤子心\tGALA\n",
      "user: 400232387  item: 326904     r_ui = 1.00   est = 1.00   {u'actual_k': 40, u'was_impossible': False} 如果你也听说\t张惠妹\n",
      "user: 400232387  item: 156099     r_ui = 1.00   est = 1.00   {u'actual_k': 5, u'was_impossible': False} 寄生\t吴克羣\n",
      "user: 400232387  item: 255219     r_ui = 1.00   est = 1.00   {u'actual_k': 30, u'was_impossible': False} 怎么唱情歌\t刘惜君\n",
      "user: 400232387  item: 33314587   r_ui = 1.00   est = 1.00   {u'actual_k': 9, u'was_impossible': False} 忽然之间\t巴士那\n",
      "user: 400232387  item: 287744     r_ui = 1.00   est = 1.00   {u'actual_k': 20, u'was_impossible': False} 烟霞\t容祖儿\n",
      "user: 400232387  item: 409650841  r_ui = 1.00   est = 1.00   {u'actual_k': 12, u'was_impossible': False} 小幸运\t双笙\n",
      "user: 400232387  item: 165005     r_ui = 1.00   est = 1.00   {u'actual_k': 8, u'was_impossible': False} 错过\t王铮亮\n",
      "user: 400232387  item: 307594     r_ui = 1.00   est = 1.00   {u'actual_k': 22, u'was_impossible': False} 泪海\t许茹芸\n",
      "user: 400232387  item: 276904     r_ui = 1.00   est = 1.00   {u'actual_k': 40, u'was_impossible': False} 外面的世界\t莫文蔚\n",
      "user: 400232387  item: 255973     r_ui = 1.00   est = 1.00   {u'actual_k': 40, u'was_impossible': False} 短发\t梁咏琪\n",
      "user: 400232387  item: 82561      r_ui = 1.00   est = 1.00   {u'actual_k': 11, u'was_impossible': False} 遗憾\t方炯镔\n",
      "user: 400232387  item: 316637     r_ui = 1.00   est = 1.00   {u'actual_k': 13, u'was_impossible': False} 假如让我说下去\t杨千嬅\n",
      "user: 400232387  item: 169617     r_ui = 1.00   est = 1.00   {u'actual_k': 3, u'was_impossible': False} 爱你\t许志安\n",
      "user: 400232387  item: 400074175  r_ui = 1.00   est = 1.00   {u'actual_k': 2, u'was_impossible': False} 你的手信\t陈慧敏\n",
      "user: 400232387  item: 307018     r_ui = 1.00   est = 1.00   {u'actual_k': 11, u'was_impossible': False} 遗憾\t许美静\n",
      "user: 400232387  item: 417833356  r_ui = 1.00   est = 1.00   {u'actual_k': 2, u'was_impossible': False} 无终\t谢春花\n",
      "user: 400232387  item: 408332757  r_ui = 1.00   est = 1.00   {u'actual_k': 21, u'was_impossible': False} 骄傲的少年\t南征北战\n",
      "user: 400232387  item: 26609894   r_ui = 1.00   est = 1.00   {u'actual_k': 18, u'was_impossible': False} 一个人一座城\t曹寅\n",
      "user: 400232387  item: 26418879   r_ui = 1.00   est = 1.00   {u'actual_k': 7, u'was_impossible': False} 好得很\t麦家瑜\n",
      "user: 400232387  item: 328169     r_ui = 1.00   est = 1.00   {u'actual_k': 20, u'was_impossible': False} 终身美丽\t郑秀文\n",
      "user: 400232387  item: 306709     r_ui = 1.00   est = 1.00   {u'actual_k': 12, u'was_impossible': False} 倾城\t许美静\n",
      "user: 400232387  item: 32507551   r_ui = 1.00   est = 1.00   {u'actual_k': 13, u'was_impossible': False} 想要你知道\t许亚童\n",
      "user: 400232387  item: 28661071   r_ui = 1.00   est = 1.00   {u'actual_k': 8, u'was_impossible': False} 忆她\t赵烁\n",
      "user: 400232387  item: 31134197   r_ui = 1.00   est = 1.00   {u'actual_k': 19, u'was_impossible': False} 边走边唱\t李荣浩\n",
      "user: 400232387  item: 36199595   r_ui = 1.00   est = 1.00   {u'actual_k': 15, u'was_impossible': False} 再见只是陌生人\t庄心妍\n",
      "user: 400232387  item: 370577     r_ui = 1.00   est = 1.00   {u'actual_k': 6, u'was_impossible': False} 每条伤心的大街\t飘乐队\n",
      "user: 400232387  item: 109174     r_ui = 1.00   est = 1.00   {u'actual_k': 11, u'was_impossible': False} 死结\t李玖哲\n",
      "user: 400232387  item: 413834900  r_ui = 1.00   est = 1.00   {u'actual_k': 7, u'was_impossible': False} 我是你的影子\tXun(易硕成)\n",
      "user: 400232387  item: 67032      r_ui = 1.00   est = 1.00   {u'actual_k': 3, u'was_impossible': False} 孤儿仔\t陈奕迅\n",
      "user: 400232387  item: 409650851  r_ui = 1.00   est = 1.00   {u'actual_k': 7, u'was_impossible': False} 霜雪千年\t双笙\n",
      "user: 400232387  item: 32334601   r_ui = 1.00   est = 1.00   {u'actual_k': 2, u'was_impossible': False} 想起小时候\t前冲\n",
      "user: 400232387  item: 299604     r_ui = 1.00   est = 1.00   {u'actual_k': 20, u'was_impossible': False} 给自己的情书\t王菲\n",
      "user: 400232387  item: 176999     r_ui = 1.00   est = 1.00   {u'actual_k': 40, u'was_impossible': False} 情非得已\t庾澄庆\n",
      "user: 400232387  item: 188815     r_ui = 1.00   est = 1.00   {u'actual_k': 10, u'was_impossible': False} 听说爱情回来过(Live) - live\t张敬轩\n",
      "user: 400232387  item: 256468     r_ui = 1.00   est = 1.00   {u'actual_k': 40, u'was_impossible': False} 至少还有你\t林忆莲\n",
      "user: 400232387  item: 35476048   r_ui = 1.00   est = 1.00   {u'actual_k': 12, u'was_impossible': False} 致自己\t齐一\n",
      "user: 400232387  item: 405343398  r_ui = 1.00   est = 1.00   {u'actual_k': 6, u'was_impossible': False} 可惜我不是他\tXun\n",
      "user: 400232387  item: 28668855   r_ui = 1.00   est = 1.00   {u'actual_k': 40, u'was_impossible': False} 恋人心\t魏新雨\n",
      "user: 400232387  item: 417596830  r_ui = 1.00   est = 1.00   {u'actual_k': 7, u'was_impossible': False} 美好事物\t房东的猫\n",
      "user: 400232387  item: 31284039   r_ui = 1.00   est = 1.00   {u'actual_k': 3, u'was_impossible': False} 你就要走了\t花粥\n",
      "user: 400232387  item: 35528482   r_ui = 1.00   est = 1.00   {u'actual_k': 40, u'was_impossible': False} 一半\t薛之谦\n",
      "user: 400232387  item: 30814948   r_ui = 1.00   est = 1.00   {u'actual_k': 12, u'was_impossible': False} 斑马斑马 - 翻唱\t房东的猫\n",
      "user: 400232387  item: 413829873  r_ui = 1.00   est = 1.00   {u'actual_k': 4, u'was_impossible': False} 还想听你的故事\t谢春花\n",
      "user: 400232387  item: 27867140   r_ui = 1.00   est = 1.00   {u'actual_k': 40, u'was_impossible': False} 房间\t刘瑞琦\n",
      "user: 400232387  item: 28936273   r_ui = 1.00   est = 1.00   {u'actual_k': 6, u'was_impossible': False} 狮子座(live)\t曾轶可\n",
      "user: 400232387  item: 185811     r_ui = 1.00   est = 1.00   {u'actual_k': 40, u'was_impossible': False} 青花瓷\t周杰伦\n",
      "user: 400232387  item: 95610      r_ui = 1.00   est = 1.00   {u'actual_k': 1, u'was_impossible': False} 目前\t洪卓立\n",
      "user: 400232387  item: 407927304  r_ui = 1.00   est = 1.00   {u'actual_k': 3, u'was_impossible': False} 月球下的人\t李幸倪\n",
      "user: 400232387  item: 5240138    r_ui = 1.00   est = 1.00   {u'actual_k': 4, u'was_impossible': False} 明明\t钟一宪\n",
      "user: 400232387  item: 33872719   r_ui = 1.00   est = 1.00   {u'actual_k': 1, u'was_impossible': False} 一棵会开花的树(demo)\t谢春花\n",
      "user: 400232387  item: 408814900  r_ui = 1.00   est = 1.00   {u'actual_k': 26, u'was_impossible': False} 借我\t谢春花\n",
      "user: 400232387  item: 27808044   r_ui = 1.00   est = 1.00   {u'actual_k': 40, u'was_impossible': False} 丑八怪\t薛之谦\n",
      "user: 400232387  item: 288075     r_ui = 1.00   est = 1.00   {u'actual_k': 15, u'was_impossible': False} 习惯失恋\t容祖儿\n",
      "user: 400232387  item: 65126      r_ui = 1.00   est = 1.00   {u'actual_k': 40, u'was_impossible': False} 红玫瑰\t陈奕迅\n",
      "user: 400232387  item: 30903117   r_ui = 1.00   est = 1.00   {u'actual_k': 22, u'was_impossible': False} 漂洋过海来看你\t周深\n",
      "user: 400232387  item: 92939      r_ui = 1.00   est = 1.00   {u'actual_k': 40, u'was_impossible': False} 那女孩对我说\t黄义达\n",
      "user: 400232387  item: 406730941  r_ui = 1.00   est = 1.00   {u'actual_k': 15, u'was_impossible': False} 后来\t群星\n",
      "user: 400232387  item: 29710981   r_ui = 1.00   est = 1.00   {u'actual_k': 40, u'was_impossible': False} 喜剧之王\t李荣浩\n",
      "user: 400232387  item: 22852057   r_ui = 1.00   est = 1.00   {u'actual_k': 14, u'was_impossible': False} 爱你\t陈芳语\n",
      "user: 400232387  item: 109628     r_ui = 1.00   est = 1.00   {u'actual_k': 21, u'was_impossible': False} 我爱你\t卢广仲\n",
      "user: 400232387  item: 30039685   r_ui = 1.00   est = 1.00   {u'actual_k': 34, u'was_impossible': False} 遇见你的时候所有星星都落到我头上\t高姗\n",
      "user: 400232387  item: 28798308   r_ui = 1.00   est = 1.00   {u'actual_k': 19, u'was_impossible': False} 一身诗意千寻瀑\t不才\n",
      "user: 400232387  item: 374621     r_ui = 1.00   est = 1.00   {u'actual_k': 16, u'was_impossible': False} 你在烦恼什么\t苏打绿\n",
      "user: 400232387  item: 27955777   r_ui = 1.00   est = 1.00   {u'actual_k': 3, u'was_impossible': False} 我为自己代言\t魏晨\n",
      "user: 400232387  item: 25706282   r_ui = 1.00   est = 1.00   {u'actual_k': 40, u'was_impossible': False} 夜空中最亮的星\t逃跑计划\n",
      "user: 400232387  item: 28563317   r_ui = 1.00   est = 1.00   {u'actual_k': 40, u'was_impossible': False} 阴天快乐\t陈奕迅\n",
      "user: 400232387  item: 329371     r_ui = 1.00   est = 1.00   {u'actual_k': 40, u'was_impossible': False} 原谅\t张玉华\n",
      "user: 400232387  item: 36270514   r_ui = 1.00   est = 1.00   {u'actual_k': 15, u'was_impossible': False} 放过自己\t庄心妍\n",
      "user: 400232387  item: 238114     r_ui = 1.00   est = 1.00   {u'actual_k': 18, u'was_impossible': False} 最好的我\t龚芝怡\n",
      "user: 400232387  item: 276035     r_ui = 1.00   est = 1.00   {u'actual_k': 35, u'was_impossible': False} 爱一点\t莫艳琳\n",
      "user: 400232387  item: 210326     r_ui = 1.00   est = 1.00   {u'actual_k': 20, u'was_impossible': False} 陪我看日出\t蔡淳佳\n",
      "user: 400232387  item: 25657348   r_ui = 1.00   est = 1.00   {u'actual_k': 22, u'was_impossible': False} 幸福了 然后呢\tA-Lin\n",
      "user: 400232387  item: 135355     r_ui = 1.00   est = 1.00   {u'actual_k': 10, u'was_impossible': False} 耿耿于怀\t麦浚龙\n",
      "user: 400232387  item: 81836      r_ui = 1.00   est = 1.00   {u'actual_k': 10, u'was_impossible': False} 不说出的温柔\t范逸臣\n",
      "user: 400232387  item: 26075548   r_ui = 1.00   est = 1.00   {u'actual_k': 33, u'was_impossible': False} 初爱\t杨宗纬\n",
      "user: 400232387  item: 31284032   r_ui = 1.00   est = 1.00   {u'actual_k': 8, u'was_impossible': False} 只不过是\t花粥\n",
      "user: 400232387  item: 31445772   r_ui = 1.00   est = 1.00   {u'actual_k': 40, u'was_impossible': False} 理想三旬\t陈鸿宇\n",
      "user: 400232387  item: 41665696   r_ui = 1.00   est = 1.00   {u'actual_k': 40, u'was_impossible': False} 小幸运（Cover 田馥甄）\t金玟岐\n",
      "user: 400232387  item: 325336     r_ui = 1.00   est = 1.00   {u'actual_k': 39, u'was_impossible': False} 那又如何\t应嘉俐\n",
      "user: 400232387  item: 31284031   r_ui = 1.00   est = 1.00   {u'actual_k': 9, u'was_impossible': False} 小相思\t花粥\n",
      "user: 400232387  item: 287398     r_ui = 1.00   est = 1.00   {u'actual_k': 40, u'was_impossible': False} 我不难过\t孙燕姿\n",
      "user: 400232387  item: 65601      r_ui = 1.00   est = 1.00   {u'actual_k': 23, u'was_impossible': False} 你看不到的天空\t蔡旻佑\n",
      "user: 400232387  item: 407679465  r_ui = 1.00   est = 1.00   {u'actual_k': 25, u'was_impossible': False} 耿耿于怀\t王笑文\n",
      "user: 400232387  item: 416890227  r_ui = 1.00   est = 1.00   {u'actual_k': 2, u'was_impossible': False} 试探\t王般若\n",
      "user: 400232387  item: 28606499   r_ui = 1.00   est = 1.00   {u'actual_k': 8, u'was_impossible': False} 有你陪伴的夏天\t黄婧\n",
      "user: 400232387  item: 399354289  r_ui = 1.00   est = 1.00   {u'actual_k': 30, u'was_impossible': False} 不说再见\t好妹妹乐队\n"
     ]
    }
   ],
   "source": [
    "user_inner_id = 4\n",
    "user_rating = trainset.ur[user_inner_id]\n",
    "items = map(lambda x:x[0], user_rating)\n",
    "for song in items:\n",
    "    print(algo.predict(algo.trainset.to_raw_uid(user_inner_id), algo.trainset.to_raw_iid(song), r_ui=1), song_id_name_dic[algo.trainset.to_raw_iid(song)])"
   ]
  },
  {
   "cell_type": "code",
   "execution_count": 15,
   "metadata": {
    "collapsed": true
   },
   "outputs": [],
   "source": [
    "#模型存储\n",
    "import surprise\n",
    "surprise.dump.dump('./recommendation.model', algo=algo)\n",
    "# 可以用下面的方式载入\n",
    "algo = surprise.dump.load('./recommendation.model')"
   ]
  },
  {
   "cell_type": "code",
   "execution_count": 16,
   "metadata": {
    "collapsed": true
   },
   "outputs": [],
   "source": [
    "import surprise\n",
    "surprise.dump.dump('./recommendation.model', algo=algo)\n",
    "# 可以用下面的方式载入\n",
    "algo = surprise.dump.load('./recommendation.model')"
   ]
  },
  {
   "cell_type": "markdown",
   "metadata": {},
   "source": [
    "## 不同的推荐系统算法评估"
   ]
  },
  {
   "cell_type": "code",
   "execution_count": 17,
   "metadata": {
    "collapsed": true
   },
   "outputs": [],
   "source": [
    "import os\n",
    "from surprise import Reader, Dataset\n",
    "# 指定文件路径\n",
    "file_path = os.path.expanduser('./popular_music_suprise_format.txt')\n",
    "# 指定文件格式\n",
    "reader = Reader(line_format='user item rating timestamp', sep=',')\n",
    "# 从文件读取数据\n",
    "music_data = Dataset.load_from_file(file_path, reader=reader)\n",
    "# 分成5折\n",
    "music_data.split(n_folds=5)"
   ]
  },
  {
   "cell_type": "code",
   "execution_count": 18,
   "metadata": {
    "collapsed": false
   },
   "outputs": [
    {
     "data": {
      "text/plain": [
       "<surprise.dataset.DatasetAutoFolds instance at 0x000000001410D308>"
      ]
     },
     "execution_count": 18,
     "metadata": {},
     "output_type": "execute_result"
    }
   ],
   "source": [
    "music_data"
   ]
  },
  {
   "cell_type": "code",
   "execution_count": 20,
   "metadata": {
    "collapsed": false
   },
   "outputs": [
    {
     "data": {
      "text/plain": [
       "[(u'418903732', u'29740084', 1.0, u'1300000'),\n",
       " (u'147893028', u'239026', 1.0, u'1300000'),\n",
       " (u'64382016', u'150617', 1.0, u'1300000'),\n",
       " (u'75787346', u'41664778', 1.0, u'1300000'),\n",
       " (u'99805197', u'28188304', 1.0, u'1300000'),\n",
       " (u'380792901', u'29818117', 1.0, u'1300000'),\n",
       " (u'11325305', u'95410', 1.0, u'1300000'),\n",
       " (u'379874207', u'35403523', 1.0, u'1300000'),\n",
       " (u'123294090', u'159929', 1.0, u'1300000'),\n",
       " (u'29804785', u'186055', 1.0, u'1300000'),\n",
       " (u'370390121', u'4873341', 1.0, u'1300000'),\n",
       " (u'324177726', u'185699', 1.0, u'1300000'),\n",
       " (u'89117406', u'382649', 1.0, u'1300000'),\n",
       " (u'312274808', u'142580', 1.0, u'1300000'),\n",
       " (u'35608485', u'187899', 1.0, u'1300000'),\n",
       " (u'376529297', u'254328', 1.0, u'1300000'),\n",
       " (u'156934569', u'29999898', 1.0, u'1300000'),\n",
       " (u'172907535', u'414979558', 1.0, u'1300000'),\n",
       " (u'11325305', u'104602', 1.0, u'1300000'),\n",
       " (u'85457463', u'229363', 1.0, u'1300000')]"
      ]
     },
     "execution_count": 20,
     "metadata": {},
     "output_type": "execute_result"
    }
   ],
   "source": [
    "music_data.raw_ratings[:20]"
   ]
  },
  {
   "cell_type": "code",
   "execution_count": 22,
   "metadata": {
    "collapsed": false
   },
   "outputs": [
    {
     "name": "stdout",
     "output_type": "stream",
     "text": [
      "Evaluating RMSE, MAE of algorithm tuple.\n",
      "\n",
      "------------\n",
      "Fold 1\n"
     ]
    },
    {
     "ename": "AttributeError",
     "evalue": "'tuple' object has no attribute 'fit'",
     "traceback": [
      "\u001b[1;31m---------------------------------------------------------------------------\u001b[0m",
      "\u001b[1;31mAttributeError\u001b[0m                            Traceback (most recent call last)",
      "\u001b[1;32m<ipython-input-22-ce9a9b627cac>\u001b[0m in \u001b[0;36m<module>\u001b[1;34m()\u001b[0m\n\u001b[0;32m      2\u001b[0m \u001b[1;32mfrom\u001b[0m \u001b[0msurprise\u001b[0m \u001b[1;32mimport\u001b[0m \u001b[0mevaluate\u001b[0m\u001b[1;33m\u001b[0m\u001b[0m\n\u001b[0;32m      3\u001b[0m \u001b[1;31m# Evaluate performances of our algorithm on the dataset.\u001b[0m\u001b[1;33m\u001b[0m\u001b[1;33m\u001b[0m\u001b[0m\n\u001b[1;32m----> 4\u001b[1;33m \u001b[0mperf\u001b[0m \u001b[1;33m=\u001b[0m \u001b[0mevaluate\u001b[0m\u001b[1;33m(\u001b[0m\u001b[0malgo\u001b[0m\u001b[1;33m,\u001b[0m \u001b[0mmusic_data\u001b[0m\u001b[1;33m,\u001b[0m \u001b[0mmeasures\u001b[0m\u001b[1;33m=\u001b[0m\u001b[1;33m[\u001b[0m\u001b[1;34m'RMSE'\u001b[0m\u001b[1;33m,\u001b[0m \u001b[1;34m'MAE'\u001b[0m\u001b[1;33m]\u001b[0m\u001b[1;33m)\u001b[0m\u001b[1;33m\u001b[0m\u001b[0m\n\u001b[0m\u001b[0;32m      5\u001b[0m \u001b[0mprint_perf\u001b[0m\u001b[1;33m(\u001b[0m\u001b[0mperf\u001b[0m\u001b[1;33m)\u001b[0m\u001b[1;33m\u001b[0m\u001b[0m\n",
      "\u001b[1;32mD:\\ProgramCJ\\Anaconda\\Anaconda2\\lib\\site-packages\\surprise\\evaluate.pyc\u001b[0m in \u001b[0;36mevaluate\u001b[1;34m(algo, data, measures, with_dump, dump_dir, verbose)\u001b[0m\n\u001b[0;32m     81\u001b[0m \u001b[1;33m\u001b[0m\u001b[0m\n\u001b[0;32m     82\u001b[0m         \u001b[1;31m# train and test algorithm. Keep all rating predictions in a list\u001b[0m\u001b[1;33m\u001b[0m\u001b[1;33m\u001b[0m\u001b[0m\n\u001b[1;32m---> 83\u001b[1;33m         \u001b[0malgo\u001b[0m\u001b[1;33m.\u001b[0m\u001b[0mfit\u001b[0m\u001b[1;33m(\u001b[0m\u001b[0mtrainset\u001b[0m\u001b[1;33m)\u001b[0m\u001b[1;33m\u001b[0m\u001b[0m\n\u001b[0m\u001b[0;32m     84\u001b[0m         \u001b[0mpredictions\u001b[0m \u001b[1;33m=\u001b[0m \u001b[0malgo\u001b[0m\u001b[1;33m.\u001b[0m\u001b[0mtest\u001b[0m\u001b[1;33m(\u001b[0m\u001b[0mtestset\u001b[0m\u001b[1;33m,\u001b[0m \u001b[0mverbose\u001b[0m\u001b[1;33m=\u001b[0m\u001b[1;33m(\u001b[0m\u001b[0mverbose\u001b[0m \u001b[1;33m==\u001b[0m \u001b[1;36m2\u001b[0m\u001b[1;33m)\u001b[0m\u001b[1;33m)\u001b[0m\u001b[1;33m\u001b[0m\u001b[0m\n\u001b[0;32m     85\u001b[0m \u001b[1;33m\u001b[0m\u001b[0m\n",
      "\u001b[1;31mAttributeError\u001b[0m: 'tuple' object has no attribute 'fit'"
     ],
     "output_type": "error"
    }
   ],
   "source": [
    "### 使用NormalPredictor\n",
    "from surprise import evaluate\n",
    "# Evaluate performances of our algorithm on the dataset.\n",
    "perf = evaluate(algo, music_data, measures=['RMSE', 'MAE'])\n",
    "print_perf(perf)"
   ]
  },
  {
   "cell_type": "code",
   "execution_count": null,
   "metadata": {
    "collapsed": true
   },
   "outputs": [],
   "source": []
  },
  {
   "cell_type": "code",
   "execution_count": null,
   "metadata": {
    "collapsed": true
   },
   "outputs": [],
   "source": []
  }
 ],
 "metadata": {
  "kernelspec": {
   "display_name": "Python [Root]",
   "language": "python",
   "name": "Python [Root]"
  },
  "language_info": {
   "codemirror_mode": {
    "name": "ipython",
    "version": 2
   },
   "file_extension": ".py",
   "mimetype": "text/x-python",
   "name": "python",
   "nbconvert_exporter": "python",
   "pygments_lexer": "ipython2",
   "version": "2.7.12"
  }
 },
 "nbformat": 4,
 "nbformat_minor": 1
}
