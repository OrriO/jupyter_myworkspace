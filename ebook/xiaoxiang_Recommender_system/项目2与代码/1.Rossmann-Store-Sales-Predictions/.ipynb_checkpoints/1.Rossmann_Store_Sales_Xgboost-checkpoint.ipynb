{
 "cells": [
  {
   "cell_type": "markdown",
   "metadata": {
    "colab_type": "text",
    "id": "5qMhicf119ID"
   },
   "source": [
    "![](./img/chinahadoop.png)"
   ]
  },
  {
   "cell_type": "markdown",
   "metadata": {
    "colab_type": "text",
    "id": "NklT-KzlFgKC"
   },
   "source": [
    "# Rossman便利店销量预测(电商新零售)\n",
    "这是[便利店销量预测比赛](https://www.kaggle.com/c/rossmann-store-sales)的一个简单参考solution。<br>\n",
    "**[小象学院](http://www.chinahadoop.cn/course/landpage/15)《机器学习集训营》课程资料 by [@寒小阳](http://www.chinahadoop.cn/user/49339/about)**"
   ]
  },
  {
   "cell_type": "markdown",
   "metadata": {
    "colab_type": "text",
    "id": "xL1HNm--FqMG"
   },
   "source": [
    "## 背景\n",
    "<p>Rossmann operates over 3,000 drug stores in 7 European countries. Currently, <br />Rossmann store managers are tasked with predicting their daily sales for up to six weeks in advance. Store sales are influenced by many factors, including promotions, competition, school and state holidays, seasonality, and locality. With thousands of individual managers predicting sales based on their unique circumstances, the accuracy of results can be quite varied.</p>\n",
    "<p><span style=\"font-size: 1em; line-height: 1.5em;\">In their first Kaggle competition, Rossmann is challenging you to predict 6 weeks of daily sales for 1,115 stores located across Germany. Reliable sales forecasts enable store managers to create effective staff schedules that increase productivity and motivation. By helping Rossmann create a robust prediction model, you will help store managers stay focused on what’s most important to them: their customers and their teams! </span></p>\n",
    "<p><span style=\"font-size: 1em; line-height: 1.5em;\"> <img src=\"./img/rossmann.jpg\" alt=\"\" height=\"120\" width=\"960\" /><br /></span></p>\n",
    "<p><em><span style=\"font-size: 1em; line-height: 1.5em;\">If you are interested in joining Rossmann at their headquarters near Hanover, Germany, please contact Mr. Frank König (Frank.Koenig {at} rossmann.de) Rossmann is currently recruiting data scientists at <a href=\"http://www.rossmann.de/unternehmen/karriere/stellenboerse/stellenanzeigen~jid=3A5205E3-C4F9-4F5D-AA93-438D0B064D70~\">senior</a> and <a href=\"http://www.rossmann.de/unternehmen/karriere/stellenboerse/stellenanzeigen~jid=F5142F37-C823-4767-B7CF-21DE3B351D66~\">entry-level</a> positions.</span></em></p>\n",
    "\n",
    "## 数据\n",
    "\n",
    "|       File Name       |                      Available Formats                       |\n",
    "| :-------------------: | :----------------------------------------------------------: |\n",
    "| sample_submission.csv | [.zip (55.25 kb)](http://localhost:8888/c/rossmann-store-sales/download/sample_submission.csv.zip) |\n",
    "|       store.csv       | [.zip (8.33 kb)](http://localhost:8888/c/rossmann-store-sales/download/store.csv.zip) |\n",
    "|       test.csv        | [.zip (143.25 kb)](http://localhost:8888/c/rossmann-store-sales/download/test.csv.zip) |\n",
    "|       train.csv       | [.zip (5.66 mb)](http://localhost:8888/c/rossmann-store-sales/download/train.csv.zip) |\n",
    "\n",
    "\n",
    "<p>You are provided with historical sales data for 1,115 Rossmann stores. The task is to forecast the \"Sales\" column for the test set. Note that some stores in the dataset were temporarily closed for refurbishment.</p>\n",
    "\n",
    "<h2>文件</h2>\n",
    "<ul>\n",
    "<li><strong>train.csv</strong> - historical data including Sales</li>\n",
    "<li><strong>test.csv</strong> - historical data excluding Sales</li>\n",
    "<li><strong>sample_submission.csv</strong> - a sample submission file in the correct format</li>\n",
    "<li><strong>store.csv</strong> - supplemental information about the stores</li>\n",
    "</ul>\n",
    "** 字段说明**\n",
    "<p>Most of the fields are self-explanatory. The following are descriptions for those that aren't.</p>\n",
    "<ul>\n",
    "<li><strong>Id</strong> - an Id that represents a (Store, Date) duple within the test set</li>\n",
    "<li><strong>Store</strong> - a unique Id for each store</li>\n",
    "<li><strong>Sales</strong> - the turnover for any given day (this is what you are predicting)</li>\n",
    "<li><strong>Customers</strong> - the number of customers on a given day</li>\n",
    "<li><strong>Open</strong> - an indicator for whether the store was open: 0 = closed, 1 = open</li>\n",
    "<li><strong>StateHoliday</strong> - indicates a state holiday. Normally all stores, with few exceptions, are closed on state holidays. Note that all schools are closed on public holidays and weekends. a = public holiday, b = Easter holiday, c = Christmas, 0 = None</li>\n",
    "<li><strong>SchoolHoliday</strong> - indicates if the (Store, Date) was affected by the closure of public schools</li>\n",
    "<li><strong>StoreType</strong> - differentiates between 4 different store models: a, b, c, d</li>\n",
    "<li><strong>Assortment</strong> - describes an assortment level: a = basic, b = extra, c = extended</li>\n",
    "<li><strong>CompetitionDistance</strong> - distance in meters to the nearest competitor store</li>\n",
    "<li><strong>CompetitionOpenSince[Month/Year]</strong> - gives the approximate year and month of the time the nearest competitor was opened</li>\n",
    "<li><strong>Promo</strong> - indicates whether a store is running a promo on that day</li>\n",
    "<li><strong>Promo2</strong> - Promo2 is a continuing and consecutive promotion for some stores: 0 = store is not participating, 1 = store is participating</li>\n",
    "<li><strong>Promo2Since[Year/Week]</strong> - describes the year and calendar week when the store started participating in Promo2</li>\n",
    "<li><strong>PromoInterval</strong> - describes the consecutive intervals Promo2 is started, naming the months the promotion is started anew. E.g. \"Feb,May,Aug,Nov\" means each round starts in February, May, August, November of any given year for that store</li>\n",
    "</ul>"
   ]
  },
  {
   "cell_type": "markdown",
   "metadata": {
    "colab_type": "text",
    "id": "-79Mk5qG19IF"
   },
   "source": [
    "## 引入工具库"
   ]
  },
  {
   "cell_type": "code",
   "execution_count": 2,
   "metadata": {
    "colab": {
     "base_uri": "https://localhost:8080/",
     "height": 34
    },
    "colab_type": "code",
    "id": "by3PfJJiFoaE",
    "outputId": "7f714725-4f89-407e-8c59-afd616f7c73c"
   },
   "outputs": [],
   "source": [
    "# 过滤warnings\n",
    "import warnings\n",
    "warnings.filterwarnings('ignore')\n",
    "\n",
    "# 数据处理\n",
    "import numpy as np\n",
    "import pandas as pd\n",
    "import math\n",
    "\n",
    "# sklearn建模\n",
    "from sklearn.tree import DecisionTreeClassifier\n",
    "from sklearn.neural_network import MLPClassifier\n",
    "from sklearn.linear_model import LogisticRegression\n",
    "from sklearn.neighbors import KNeighborsClassifier\n",
    "from sklearn.naive_bayes import GaussianNB\n",
    "from sklearn.svm import SVC, LinearSVC\n",
    "from sklearn.ensemble import RandomForestClassifier , GradientBoostingClassifier\n",
    "from sklearn.metrics import accuracy_score\n",
    "\n",
    "# sklearn数据预处理与特征选择\n",
    "from sklearn.preprocessing import Imputer , Normalizer , scale\n",
    "from sklearn.model_selection import train_test_split\n",
    "from sklearn.feature_selection import RFECV\n",
    "\n",
    "# keras深度学习\n",
    "import keras\n",
    "from keras import backend as K\n",
    "\n",
    "# 可视化\n",
    "import matplotlib as mpl\n",
    "import matplotlib.pyplot as plt\n",
    "import matplotlib.pylab as pylab\n",
    "import seaborn as sns\n",
    "\n",
    "# 绘图的设置\n",
    "%matplotlib inline\n",
    "mpl.style.use( 'ggplot' )\n",
    "sns.set_style( 'white' )\n",
    "pylab.rcParams[ 'figure.figsize' ] = 8 , 6"
   ]
  },
  {
   "cell_type": "markdown",
   "metadata": {},
   "source": [
    "## 数据上传与读取"
   ]
  },
  {
   "cell_type": "code",
   "execution_count": 14,
   "metadata": {
    "colab": {
     "base_uri": "https://localhost:8080/",
     "height": 71,
     "resources": {
      "http://localhost:8080/nbextensions/google.colab/files.js": {
       "data": "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",
       "headers": [
        [
         "content-type",
         "application/javascript"
        ]
       ],
       "ok": true,
       "status": 200,
       "status_text": ""
      }
     }
    },
    "colab_type": "code",
    "id": "RlbK1j_ZGCTI",
    "outputId": "fa31d9f0-750c-455f-8c2a-8b3e82b5235f"
   },
   "outputs": [
    {
     "data": {
      "text/html": [
       "\n",
       "     <input type=\"file\" id=\"files-07bbfbdc-5477-4dbd-9386-766bf91680a1\" name=\"files[]\" multiple disabled />\n",
       "     <output id=\"result-07bbfbdc-5477-4dbd-9386-766bf91680a1\">\n",
       "      Upload widget is only available when the cell has been executed in the\n",
       "      current browser session. Please rerun this cell to enable.\n",
       "      </output>\n",
       "      <script src=\"/nbextensions/google.colab/files.js\"></script> "
      ],
      "text/plain": [
       "<IPython.core.display.HTML object>"
      ]
     },
     "metadata": {
      "tags": []
     },
     "output_type": "display_data"
    },
    {
     "name": "stdout",
     "output_type": "stream",
     "text": [
      "Saving data.zip to data.zip\n"
     ]
    }
   ],
   "source": [
    "from google.colab import files\n",
    "uploaded = files.upload()"
   ]
  },
  {
   "cell_type": "code",
   "execution_count": 15,
   "metadata": {
    "colab": {
     "base_uri": "https://localhost:8080/",
     "height": 85
    },
    "colab_type": "code",
    "id": "mnyY_H1YGYjS",
    "outputId": "7b0ee41a-93eb-4e36-f49f-4637a2a6ba48"
   },
   "outputs": [
    {
     "name": "stdout",
     "output_type": "stream",
     "text": [
      "Archive:  data.zip\n",
      "  inflating: store.csv               \n",
      "  inflating: test.csv                \n",
      "  inflating: train.csv               \n"
     ]
    }
   ],
   "source": [
    "import pandas as pd\n",
    "import io\n",
    "!unzip data.zip\n",
    "df = pd.read_csv('train.csv')\n",
    "new = df.copy()\n",
    "store = pd.read_csv('store.csv')\n",
    "test = pd.read_csv('test.csv')"
   ]
  },
  {
   "cell_type": "markdown",
   "metadata": {},
   "source": [
    "## 数据EDA\n",
    "### 基本信息"
   ]
  },
  {
   "cell_type": "code",
   "execution_count": 4,
   "metadata": {
    "colab": {
     "base_uri": "https://localhost:8080/",
     "height": 204
    },
    "colab_type": "code",
    "id": "wVyOxTtyKpZK",
    "outputId": "d1d38724-b51e-44d7-f830-4b3dee2408d5"
   },
   "outputs": [
    {
     "data": {
      "text/html": [
       "<div>\n",
       "<style scoped>\n",
       "    .dataframe tbody tr th:only-of-type {\n",
       "        vertical-align: middle;\n",
       "    }\n",
       "\n",
       "    .dataframe tbody tr th {\n",
       "        vertical-align: top;\n",
       "    }\n",
       "\n",
       "    .dataframe thead th {\n",
       "        text-align: right;\n",
       "    }\n",
       "</style>\n",
       "<table border=\"1\" class=\"dataframe\">\n",
       "  <thead>\n",
       "    <tr style=\"text-align: right;\">\n",
       "      <th></th>\n",
       "      <th>Store</th>\n",
       "      <th>DayOfWeek</th>\n",
       "      <th>Date</th>\n",
       "      <th>Sales</th>\n",
       "      <th>Customers</th>\n",
       "      <th>Open</th>\n",
       "      <th>Promo</th>\n",
       "      <th>StateHoliday</th>\n",
       "      <th>SchoolHoliday</th>\n",
       "    </tr>\n",
       "  </thead>\n",
       "  <tbody>\n",
       "    <tr>\n",
       "      <th>0</th>\n",
       "      <td>1</td>\n",
       "      <td>5</td>\n",
       "      <td>2015-07-31</td>\n",
       "      <td>5263</td>\n",
       "      <td>555</td>\n",
       "      <td>1</td>\n",
       "      <td>1</td>\n",
       "      <td>0</td>\n",
       "      <td>1</td>\n",
       "    </tr>\n",
       "    <tr>\n",
       "      <th>1</th>\n",
       "      <td>2</td>\n",
       "      <td>5</td>\n",
       "      <td>2015-07-31</td>\n",
       "      <td>6064</td>\n",
       "      <td>625</td>\n",
       "      <td>1</td>\n",
       "      <td>1</td>\n",
       "      <td>0</td>\n",
       "      <td>1</td>\n",
       "    </tr>\n",
       "    <tr>\n",
       "      <th>2</th>\n",
       "      <td>3</td>\n",
       "      <td>5</td>\n",
       "      <td>2015-07-31</td>\n",
       "      <td>8314</td>\n",
       "      <td>821</td>\n",
       "      <td>1</td>\n",
       "      <td>1</td>\n",
       "      <td>0</td>\n",
       "      <td>1</td>\n",
       "    </tr>\n",
       "    <tr>\n",
       "      <th>3</th>\n",
       "      <td>4</td>\n",
       "      <td>5</td>\n",
       "      <td>2015-07-31</td>\n",
       "      <td>13995</td>\n",
       "      <td>1498</td>\n",
       "      <td>1</td>\n",
       "      <td>1</td>\n",
       "      <td>0</td>\n",
       "      <td>1</td>\n",
       "    </tr>\n",
       "    <tr>\n",
       "      <th>4</th>\n",
       "      <td>5</td>\n",
       "      <td>5</td>\n",
       "      <td>2015-07-31</td>\n",
       "      <td>4822</td>\n",
       "      <td>559</td>\n",
       "      <td>1</td>\n",
       "      <td>1</td>\n",
       "      <td>0</td>\n",
       "      <td>1</td>\n",
       "    </tr>\n",
       "  </tbody>\n",
       "</table>\n",
       "</div>"
      ],
      "text/plain": [
       "   Store  DayOfWeek        Date  Sales  Customers  Open  Promo StateHoliday  \\\n",
       "0      1          5  2015-07-31   5263        555     1      1            0   \n",
       "1      2          5  2015-07-31   6064        625     1      1            0   \n",
       "2      3          5  2015-07-31   8314        821     1      1            0   \n",
       "3      4          5  2015-07-31  13995       1498     1      1            0   \n",
       "4      5          5  2015-07-31   4822        559     1      1            0   \n",
       "\n",
       "   SchoolHoliday  \n",
       "0              1  \n",
       "1              1  \n",
       "2              1  \n",
       "3              1  \n",
       "4              1  "
      ]
     },
     "execution_count": 4,
     "metadata": {},
     "output_type": "execute_result"
    }
   ],
   "source": [
    "df.head()"
   ]
  },
  {
   "cell_type": "code",
   "execution_count": 5,
   "metadata": {
    "colab": {
     "base_uri": "https://localhost:8080/",
     "height": 4029
    },
    "colab_type": "code",
    "id": "5kUk0EsxKvDi",
    "outputId": "27afb39f-35c0-4bbf-9cc7-37353e47d4c4"
   },
   "outputs": [
    {
     "data": {
      "text/plain": [
       "array(['2015-07-31', '2015-07-30', '2015-07-29', '2015-07-28',\n",
       "       '2015-07-27', '2015-07-26', '2015-07-25', '2015-07-24',\n",
       "       '2015-07-23', '2015-07-22', '2015-07-21', '2015-07-20',\n",
       "       '2015-07-19', '2015-07-18', '2015-07-17', '2015-07-16',\n",
       "       '2015-07-15', '2015-07-14', '2015-07-13', '2015-07-12',\n",
       "       '2015-07-11', '2015-07-10', '2015-07-09', '2015-07-08',\n",
       "       '2015-07-07', '2015-07-06', '2015-07-05', '2015-07-04',\n",
       "       '2015-07-03', '2015-07-02', '2015-07-01', '2015-06-30',\n",
       "       '2015-06-29', '2015-06-28', '2015-06-27', '2015-06-26',\n",
       "       '2015-06-25', '2015-06-24', '2015-06-23', '2015-06-22',\n",
       "       '2015-06-21', '2015-06-20', '2015-06-19', '2015-06-18',\n",
       "       '2015-06-17', '2015-06-16', '2015-06-15', '2015-06-14',\n",
       "       '2015-06-13', '2015-06-12', '2015-06-11', '2015-06-10',\n",
       "       '2015-06-09', '2015-06-08', '2015-06-07', '2015-06-06',\n",
       "       '2015-06-05', '2015-06-04', '2015-06-03', '2015-06-02',\n",
       "       '2015-06-01', '2015-05-31', '2015-05-30', '2015-05-29',\n",
       "       '2015-05-28', '2015-05-27', '2015-05-26', '2015-05-25',\n",
       "       '2015-05-24', '2015-05-23', '2015-05-22', '2015-05-21',\n",
       "       '2015-05-20', '2015-05-19', '2015-05-18', '2015-05-17',\n",
       "       '2015-05-16', '2015-05-15', '2015-05-14', '2015-05-13',\n",
       "       '2015-05-12', '2015-05-11', '2015-05-10', '2015-05-09',\n",
       "       '2015-05-08', '2015-05-07', '2015-05-06', '2015-05-05',\n",
       "       '2015-05-04', '2015-05-03', '2015-05-02', '2015-05-01',\n",
       "       '2015-04-30', '2015-04-29', '2015-04-28', '2015-04-27',\n",
       "       '2015-04-26', '2015-04-25', '2015-04-24', '2015-04-23',\n",
       "       '2015-04-22', '2015-04-21', '2015-04-20', '2015-04-19',\n",
       "       '2015-04-18', '2015-04-17', '2015-04-16', '2015-04-15',\n",
       "       '2015-04-14', '2015-04-13', '2015-04-12', '2015-04-11',\n",
       "       '2015-04-10', '2015-04-09', '2015-04-08', '2015-04-07',\n",
       "       '2015-04-06', '2015-04-05', '2015-04-04', '2015-04-03',\n",
       "       '2015-04-02', '2015-04-01', '2015-03-31', '2015-03-30',\n",
       "       '2015-03-29', '2015-03-28', '2015-03-27', '2015-03-26',\n",
       "       '2015-03-25', '2015-03-24', '2015-03-23', '2015-03-22',\n",
       "       '2015-03-21', '2015-03-20', '2015-03-19', '2015-03-18',\n",
       "       '2015-03-17', '2015-03-16', '2015-03-15', '2015-03-14',\n",
       "       '2015-03-13', '2015-03-12', '2015-03-11', '2015-03-10',\n",
       "       '2015-03-09', '2015-03-08', '2015-03-07', '2015-03-06',\n",
       "       '2015-03-05', '2015-03-04', '2015-03-03', '2015-03-02',\n",
       "       '2015-03-01', '2015-02-28', '2015-02-27', '2015-02-26',\n",
       "       '2015-02-25', '2015-02-24', '2015-02-23', '2015-02-22',\n",
       "       '2015-02-21', '2015-02-20', '2015-02-19', '2015-02-18',\n",
       "       '2015-02-17', '2015-02-16', '2015-02-15', '2015-02-14',\n",
       "       '2015-02-13', '2015-02-12', '2015-02-11', '2015-02-10',\n",
       "       '2015-02-09', '2015-02-08', '2015-02-07', '2015-02-06',\n",
       "       '2015-02-05', '2015-02-04', '2015-02-03', '2015-02-02',\n",
       "       '2015-02-01', '2015-01-31', '2015-01-30', '2015-01-29',\n",
       "       '2015-01-28', '2015-01-27', '2015-01-26', '2015-01-25',\n",
       "       '2015-01-24', '2015-01-23', '2015-01-22', '2015-01-21',\n",
       "       '2015-01-20', '2015-01-19', '2015-01-18', '2015-01-17',\n",
       "       '2015-01-16', '2015-01-15', '2015-01-14', '2015-01-13',\n",
       "       '2015-01-12', '2015-01-11', '2015-01-10', '2015-01-09',\n",
       "       '2015-01-08', '2015-01-07', '2015-01-06', '2015-01-05',\n",
       "       '2015-01-04', '2015-01-03', '2015-01-02', '2015-01-01',\n",
       "       '2014-12-31', '2014-12-30', '2014-12-29', '2014-12-28',\n",
       "       '2014-12-27', '2014-12-26', '2014-12-25', '2014-12-24',\n",
       "       '2014-12-23', '2014-12-22', '2014-12-21', '2014-12-20',\n",
       "       '2014-12-19', '2014-12-18', '2014-12-17', '2014-12-16',\n",
       "       '2014-12-15', '2014-12-14', '2014-12-13', '2014-12-12',\n",
       "       '2014-12-11', '2014-12-10', '2014-12-09', '2014-12-08',\n",
       "       '2014-12-07', '2014-12-06', '2014-12-05', '2014-12-04',\n",
       "       '2014-12-03', '2014-12-02', '2014-12-01', '2014-11-30',\n",
       "       '2014-11-29', '2014-11-28', '2014-11-27', '2014-11-26',\n",
       "       '2014-11-25', '2014-11-24', '2014-11-23', '2014-11-22',\n",
       "       '2014-11-21', '2014-11-20', '2014-11-19', '2014-11-18',\n",
       "       '2014-11-17', '2014-11-16', '2014-11-15', '2014-11-14',\n",
       "       '2014-11-13', '2014-11-12', '2014-11-11', '2014-11-10',\n",
       "       '2014-11-09', '2014-11-08', '2014-11-07', '2014-11-06',\n",
       "       '2014-11-05', '2014-11-04', '2014-11-03', '2014-11-02',\n",
       "       '2014-11-01', '2014-10-31', '2014-10-30', '2014-10-29',\n",
       "       '2014-10-28', '2014-10-27', '2014-10-26', '2014-10-25',\n",
       "       '2014-10-24', '2014-10-23', '2014-10-22', '2014-10-21',\n",
       "       '2014-10-20', '2014-10-19', '2014-10-18', '2014-10-17',\n",
       "       '2014-10-16', '2014-10-15', '2014-10-14', '2014-10-13',\n",
       "       '2014-10-12', '2014-10-11', '2014-10-10', '2014-10-09',\n",
       "       '2014-10-08', '2014-10-07', '2014-10-06', '2014-10-05',\n",
       "       '2014-10-04', '2014-10-03', '2014-10-02', '2014-10-01',\n",
       "       '2014-09-30', '2014-09-29', '2014-09-28', '2014-09-27',\n",
       "       '2014-09-26', '2014-09-25', '2014-09-24', '2014-09-23',\n",
       "       '2014-09-22', '2014-09-21', '2014-09-20', '2014-09-19',\n",
       "       '2014-09-18', '2014-09-17', '2014-09-16', '2014-09-15',\n",
       "       '2014-09-14', '2014-09-13', '2014-09-12', '2014-09-11',\n",
       "       '2014-09-10', '2014-09-09', '2014-09-08', '2014-09-07',\n",
       "       '2014-09-06', '2014-09-05', '2014-09-04', '2014-09-03',\n",
       "       '2014-09-02', '2014-09-01', '2014-08-31', '2014-08-30',\n",
       "       '2014-08-29', '2014-08-28', '2014-08-27', '2014-08-26',\n",
       "       '2014-08-25', '2014-08-24', '2014-08-23', '2014-08-22',\n",
       "       '2014-08-21', '2014-08-20', '2014-08-19', '2014-08-18',\n",
       "       '2014-08-17', '2014-08-16', '2014-08-15', '2014-08-14',\n",
       "       '2014-08-13', '2014-08-12', '2014-08-11', '2014-08-10',\n",
       "       '2014-08-09', '2014-08-08', '2014-08-07', '2014-08-06',\n",
       "       '2014-08-05', '2014-08-04', '2014-08-03', '2014-08-02',\n",
       "       '2014-08-01', '2014-07-31', '2014-07-30', '2014-07-29',\n",
       "       '2014-07-28', '2014-07-27', '2014-07-26', '2014-07-25',\n",
       "       '2014-07-24', '2014-07-23', '2014-07-22', '2014-07-21',\n",
       "       '2014-07-20', '2014-07-19', '2014-07-18', '2014-07-17',\n",
       "       '2014-07-16', '2014-07-15', '2014-07-14', '2014-07-13',\n",
       "       '2014-07-12', '2014-07-11', '2014-07-10', '2014-07-09',\n",
       "       '2014-07-08', '2014-07-07', '2014-07-06', '2014-07-05',\n",
       "       '2014-07-04', '2014-07-03', '2014-07-02', '2014-07-01',\n",
       "       '2014-06-30', '2014-06-29', '2014-06-28', '2014-06-27',\n",
       "       '2014-06-26', '2014-06-25', '2014-06-24', '2014-06-23',\n",
       "       '2014-06-22', '2014-06-21', '2014-06-20', '2014-06-19',\n",
       "       '2014-06-18', '2014-06-17', '2014-06-16', '2014-06-15',\n",
       "       '2014-06-14', '2014-06-13', '2014-06-12', '2014-06-11',\n",
       "       '2014-06-10', '2014-06-09', '2014-06-08', '2014-06-07',\n",
       "       '2014-06-06', '2014-06-05', '2014-06-04', '2014-06-03',\n",
       "       '2014-06-02', '2014-06-01', '2014-05-31', '2014-05-30',\n",
       "       '2014-05-29', '2014-05-28', '2014-05-27', '2014-05-26',\n",
       "       '2014-05-25', '2014-05-24', '2014-05-23', '2014-05-22',\n",
       "       '2014-05-21', '2014-05-20', '2014-05-19', '2014-05-18',\n",
       "       '2014-05-17', '2014-05-16', '2014-05-15', '2014-05-14',\n",
       "       '2014-05-13', '2014-05-12', '2014-05-11', '2014-05-10',\n",
       "       '2014-05-09', '2014-05-08', '2014-05-07', '2014-05-06',\n",
       "       '2014-05-05', '2014-05-04', '2014-05-03', '2014-05-02',\n",
       "       '2014-05-01', '2014-04-30', '2014-04-29', '2014-04-28',\n",
       "       '2014-04-27', '2014-04-26', '2014-04-25', '2014-04-24',\n",
       "       '2014-04-23', '2014-04-22', '2014-04-21', '2014-04-20',\n",
       "       '2014-04-19', '2014-04-18', '2014-04-17', '2014-04-16',\n",
       "       '2014-04-15', '2014-04-14', '2014-04-13', '2014-04-12',\n",
       "       '2014-04-11', '2014-04-10', '2014-04-09', '2014-04-08',\n",
       "       '2014-04-07', '2014-04-06', '2014-04-05', '2014-04-04',\n",
       "       '2014-04-03', '2014-04-02', '2014-04-01', '2014-03-31',\n",
       "       '2014-03-30', '2014-03-29', '2014-03-28', '2014-03-27',\n",
       "       '2014-03-26', '2014-03-25', '2014-03-24', '2014-03-23',\n",
       "       '2014-03-22', '2014-03-21', '2014-03-20', '2014-03-19',\n",
       "       '2014-03-18', '2014-03-17', '2014-03-16', '2014-03-15',\n",
       "       '2014-03-14', '2014-03-13', '2014-03-12', '2014-03-11',\n",
       "       '2014-03-10', '2014-03-09', '2014-03-08', '2014-03-07',\n",
       "       '2014-03-06', '2014-03-05', '2014-03-04', '2014-03-03',\n",
       "       '2014-03-02', '2014-03-01', '2014-02-28', '2014-02-27',\n",
       "       '2014-02-26', '2014-02-25', '2014-02-24', '2014-02-23',\n",
       "       '2014-02-22', '2014-02-21', '2014-02-20', '2014-02-19',\n",
       "       '2014-02-18', '2014-02-17', '2014-02-16', '2014-02-15',\n",
       "       '2014-02-14', '2014-02-13', '2014-02-12', '2014-02-11',\n",
       "       '2014-02-10', '2014-02-09', '2014-02-08', '2014-02-07',\n",
       "       '2014-02-06', '2014-02-05', '2014-02-04', '2014-02-03',\n",
       "       '2014-02-02', '2014-02-01', '2014-01-31', '2014-01-30',\n",
       "       '2014-01-29', '2014-01-28', '2014-01-27', '2014-01-26',\n",
       "       '2014-01-25', '2014-01-24', '2014-01-23', '2014-01-22',\n",
       "       '2014-01-21', '2014-01-20', '2014-01-19', '2014-01-18',\n",
       "       '2014-01-17', '2014-01-16', '2014-01-15', '2014-01-14',\n",
       "       '2014-01-13', '2014-01-12', '2014-01-11', '2014-01-10',\n",
       "       '2014-01-09', '2014-01-08', '2014-01-07', '2014-01-06',\n",
       "       '2014-01-05', '2014-01-04', '2014-01-03', '2014-01-02',\n",
       "       '2014-01-01', '2013-12-31', '2013-12-30', '2013-12-29',\n",
       "       '2013-12-28', '2013-12-27', '2013-12-26', '2013-12-25',\n",
       "       '2013-12-24', '2013-12-23', '2013-12-22', '2013-12-21',\n",
       "       '2013-12-20', '2013-12-19', '2013-12-18', '2013-12-17',\n",
       "       '2013-12-16', '2013-12-15', '2013-12-14', '2013-12-13',\n",
       "       '2013-12-12', '2013-12-11', '2013-12-10', '2013-12-09',\n",
       "       '2013-12-08', '2013-12-07', '2013-12-06', '2013-12-05',\n",
       "       '2013-12-04', '2013-12-03', '2013-12-02', '2013-12-01',\n",
       "       '2013-11-30', '2013-11-29', '2013-11-28', '2013-11-27',\n",
       "       '2013-11-26', '2013-11-25', '2013-11-24', '2013-11-23',\n",
       "       '2013-11-22', '2013-11-21', '2013-11-20', '2013-11-19',\n",
       "       '2013-11-18', '2013-11-17', '2013-11-16', '2013-11-15',\n",
       "       '2013-11-14', '2013-11-13', '2013-11-12', '2013-11-11',\n",
       "       '2013-11-10', '2013-11-09', '2013-11-08', '2013-11-07',\n",
       "       '2013-11-06', '2013-11-05', '2013-11-04', '2013-11-03',\n",
       "       '2013-11-02', '2013-11-01', '2013-10-31', '2013-10-30',\n",
       "       '2013-10-29', '2013-10-28', '2013-10-27', '2013-10-26',\n",
       "       '2013-10-25', '2013-10-24', '2013-10-23', '2013-10-22',\n",
       "       '2013-10-21', '2013-10-20', '2013-10-19', '2013-10-18',\n",
       "       '2013-10-17', '2013-10-16', '2013-10-15', '2013-10-14',\n",
       "       '2013-10-13', '2013-10-12', '2013-10-11', '2013-10-10',\n",
       "       '2013-10-09', '2013-10-08', '2013-10-07', '2013-10-06',\n",
       "       '2013-10-05', '2013-10-04', '2013-10-03', '2013-10-02',\n",
       "       '2013-10-01', '2013-09-30', '2013-09-29', '2013-09-28',\n",
       "       '2013-09-27', '2013-09-26', '2013-09-25', '2013-09-24',\n",
       "       '2013-09-23', '2013-09-22', '2013-09-21', '2013-09-20',\n",
       "       '2013-09-19', '2013-09-18', '2013-09-17', '2013-09-16',\n",
       "       '2013-09-15', '2013-09-14', '2013-09-13', '2013-09-12',\n",
       "       '2013-09-11', '2013-09-10', '2013-09-09', '2013-09-08',\n",
       "       '2013-09-07', '2013-09-06', '2013-09-05', '2013-09-04',\n",
       "       '2013-09-03', '2013-09-02', '2013-09-01', '2013-08-31',\n",
       "       '2013-08-30', '2013-08-29', '2013-08-28', '2013-08-27',\n",
       "       '2013-08-26', '2013-08-25', '2013-08-24', '2013-08-23',\n",
       "       '2013-08-22', '2013-08-21', '2013-08-20', '2013-08-19',\n",
       "       '2013-08-18', '2013-08-17', '2013-08-16', '2013-08-15',\n",
       "       '2013-08-14', '2013-08-13', '2013-08-12', '2013-08-11',\n",
       "       '2013-08-10', '2013-08-09', '2013-08-08', '2013-08-07',\n",
       "       '2013-08-06', '2013-08-05', '2013-08-04', '2013-08-03',\n",
       "       '2013-08-02', '2013-08-01', '2013-07-31', '2013-07-30',\n",
       "       '2013-07-29', '2013-07-28', '2013-07-27', '2013-07-26',\n",
       "       '2013-07-25', '2013-07-24', '2013-07-23', '2013-07-22',\n",
       "       '2013-07-21', '2013-07-20', '2013-07-19', '2013-07-18',\n",
       "       '2013-07-17', '2013-07-16', '2013-07-15', '2013-07-14',\n",
       "       '2013-07-13', '2013-07-12', '2013-07-11', '2013-07-10',\n",
       "       '2013-07-09', '2013-07-08', '2013-07-07', '2013-07-06',\n",
       "       '2013-07-05', '2013-07-04', '2013-07-03', '2013-07-02',\n",
       "       '2013-07-01', '2013-06-30', '2013-06-29', '2013-06-28',\n",
       "       '2013-06-27', '2013-06-26', '2013-06-25', '2013-06-24',\n",
       "       '2013-06-23', '2013-06-22', '2013-06-21', '2013-06-20',\n",
       "       '2013-06-19', '2013-06-18', '2013-06-17', '2013-06-16',\n",
       "       '2013-06-15', '2013-06-14', '2013-06-13', '2013-06-12',\n",
       "       '2013-06-11', '2013-06-10', '2013-06-09', '2013-06-08',\n",
       "       '2013-06-07', '2013-06-06', '2013-06-05', '2013-06-04',\n",
       "       '2013-06-03', '2013-06-02', '2013-06-01', '2013-05-31',\n",
       "       '2013-05-30', '2013-05-29', '2013-05-28', '2013-05-27',\n",
       "       '2013-05-26', '2013-05-25', '2013-05-24', '2013-05-23',\n",
       "       '2013-05-22', '2013-05-21', '2013-05-20', '2013-05-19',\n",
       "       '2013-05-18', '2013-05-17', '2013-05-16', '2013-05-15',\n",
       "       '2013-05-14', '2013-05-13', '2013-05-12', '2013-05-11',\n",
       "       '2013-05-10', '2013-05-09', '2013-05-08', '2013-05-07',\n",
       "       '2013-05-06', '2013-05-05', '2013-05-04', '2013-05-03',\n",
       "       '2013-05-02', '2013-05-01', '2013-04-30', '2013-04-29',\n",
       "       '2013-04-28', '2013-04-27', '2013-04-26', '2013-04-25',\n",
       "       '2013-04-24', '2013-04-23', '2013-04-22', '2013-04-21',\n",
       "       '2013-04-20', '2013-04-19', '2013-04-18', '2013-04-17',\n",
       "       '2013-04-16', '2013-04-15', '2013-04-14', '2013-04-13',\n",
       "       '2013-04-12', '2013-04-11', '2013-04-10', '2013-04-09',\n",
       "       '2013-04-08', '2013-04-07', '2013-04-06', '2013-04-05',\n",
       "       '2013-04-04', '2013-04-03', '2013-04-02', '2013-04-01',\n",
       "       '2013-03-31', '2013-03-30', '2013-03-29', '2013-03-28',\n",
       "       '2013-03-27', '2013-03-26', '2013-03-25', '2013-03-24',\n",
       "       '2013-03-23', '2013-03-22', '2013-03-21', '2013-03-20',\n",
       "       '2013-03-19', '2013-03-18', '2013-03-17', '2013-03-16',\n",
       "       '2013-03-15', '2013-03-14', '2013-03-13', '2013-03-12',\n",
       "       '2013-03-11', '2013-03-10', '2013-03-09', '2013-03-08',\n",
       "       '2013-03-07', '2013-03-06', '2013-03-05', '2013-03-04',\n",
       "       '2013-03-03', '2013-03-02', '2013-03-01', '2013-02-28',\n",
       "       '2013-02-27', '2013-02-26', '2013-02-25', '2013-02-24',\n",
       "       '2013-02-23', '2013-02-22', '2013-02-21', '2013-02-20',\n",
       "       '2013-02-19', '2013-02-18', '2013-02-17', '2013-02-16',\n",
       "       '2013-02-15', '2013-02-14', '2013-02-13', '2013-02-12',\n",
       "       '2013-02-11', '2013-02-10', '2013-02-09', '2013-02-08',\n",
       "       '2013-02-07', '2013-02-06', '2013-02-05', '2013-02-04',\n",
       "       '2013-02-03', '2013-02-02', '2013-02-01', '2013-01-31',\n",
       "       '2013-01-30', '2013-01-29', '2013-01-28', '2013-01-27',\n",
       "       '2013-01-26', '2013-01-25', '2013-01-24', '2013-01-23',\n",
       "       '2013-01-22', '2013-01-21', '2013-01-20', '2013-01-19',\n",
       "       '2013-01-18', '2013-01-17', '2013-01-16', '2013-01-15',\n",
       "       '2013-01-14', '2013-01-13', '2013-01-12', '2013-01-11',\n",
       "       '2013-01-10', '2013-01-09', '2013-01-08', '2013-01-07',\n",
       "       '2013-01-06', '2013-01-05', '2013-01-04', '2013-01-03',\n",
       "       '2013-01-02', '2013-01-01'], dtype=object)"
      ]
     },
     "execution_count": 5,
     "metadata": {},
     "output_type": "execute_result"
    }
   ],
   "source": [
    "df.Date.unique()"
   ]
  },
  {
   "cell_type": "markdown",
   "metadata": {
    "colab_type": "text",
    "id": "We3bEbEkMC-a"
   },
   "source": [
    "**数据集包含2013-1-1到2015-7-1的数据，大约是2.5年**"
   ]
  },
  {
   "cell_type": "code",
   "execution_count": 6,
   "metadata": {
    "colab": {
     "base_uri": "https://localhost:8080/",
     "height": 187
    },
    "colab_type": "code",
    "id": "3H_KgsLfKylS",
    "outputId": "e9714c4b-0b75-48a0-a013-8ca31cd02f5d"
   },
   "outputs": [
    {
     "name": "stdout",
     "output_type": "stream",
     "text": [
      "DayOfWeek\n",
      "[5 4 3 2 1 7 6]\n",
      "-----------------------\n",
      "StateHoliday\n",
      "['0' 'a' 'b' 'c' 0]\n",
      "-----------------------\n",
      "SchoolHoliday\n",
      "[1 0]\n",
      "-----------------------\n"
     ]
    }
   ],
   "source": [
    "# 查看各种holiday的取值种类\n",
    "li = [\"DayOfWeek\" , \"StateHoliday\" , \"SchoolHoliday\"]\n",
    "\n",
    "for i in li:\n",
    "  print(i)\n",
    "  print(df[i].unique())\n",
    "  print(\"-----------------------\")"
   ]
  },
  {
   "cell_type": "markdown",
   "metadata": {
    "colab_type": "text",
    "id": "8lIV75tJL6cc"
   },
   "source": [
    "** a = public holiday, b = Easter holiday, c = Christmas, 0 = None**"
   ]
  },
  {
   "cell_type": "code",
   "execution_count": 7,
   "metadata": {
    "colab": {
     "base_uri": "https://localhost:8080/",
     "height": 36
    },
    "colab_type": "code",
    "id": "oiYUzPv1LM7i",
    "outputId": "ba092832-590d-478c-9c0d-55ab808f1c9a"
   },
   "outputs": [
    {
     "data": {
      "text/plain": [
       "1115"
      ]
     },
     "execution_count": 7,
     "metadata": {},
     "output_type": "execute_result"
    }
   ],
   "source": [
    "df.Store.nunique()"
   ]
  },
  {
   "cell_type": "code",
   "execution_count": 8,
   "metadata": {
    "colab": {
     "base_uri": "https://localhost:8080/",
     "height": 281
    },
    "colab_type": "code",
    "id": "wpKbrZLBMbv2",
    "outputId": "784fd40b-8b76-458d-8750-7f4c9a6aa55f"
   },
   "outputs": [
    {
     "name": "stdout",
     "output_type": "stream",
     "text": [
      "<class 'pandas.core.frame.DataFrame'>\n",
      "RangeIndex: 1017209 entries, 0 to 1017208\n",
      "Data columns (total 9 columns):\n",
      "Store            1017209 non-null int64\n",
      "DayOfWeek        1017209 non-null int64\n",
      "Date             1017209 non-null object\n",
      "Sales            1017209 non-null int64\n",
      "Customers        1017209 non-null int64\n",
      "Open             1017209 non-null int64\n",
      "Promo            1017209 non-null int64\n",
      "StateHoliday     1017209 non-null object\n",
      "SchoolHoliday    1017209 non-null int64\n",
      "dtypes: int64(7), object(2)\n",
      "memory usage: 69.8+ MB\n"
     ]
    }
   ],
   "source": [
    "df.info()"
   ]
  },
  {
   "cell_type": "code",
   "execution_count": 9,
   "metadata": {
    "colab": {
     "base_uri": "https://localhost:8080/",
     "height": 262
    },
    "colab_type": "code",
    "id": "6hTVh8pRMf0U",
    "outputId": "8fb0f9ec-ef67-4e96-ce34-359b0ba38849"
   },
   "outputs": [
    {
     "name": "stdout",
     "output_type": "stream",
     "text": [
      "<class 'pandas.core.frame.DataFrame'>\n",
      "RangeIndex: 41088 entries, 0 to 41087\n",
      "Data columns (total 8 columns):\n",
      "Id               41088 non-null int64\n",
      "Store            41088 non-null int64\n",
      "DayOfWeek        41088 non-null int64\n",
      "Date             41088 non-null object\n",
      "Open             41077 non-null float64\n",
      "Promo            41088 non-null int64\n",
      "StateHoliday     41088 non-null object\n",
      "SchoolHoliday    41088 non-null int64\n",
      "dtypes: float64(1), int64(5), object(2)\n",
      "memory usage: 2.5+ MB\n"
     ]
    }
   ],
   "source": [
    "test.info()"
   ]
  },
  {
   "cell_type": "code",
   "execution_count": 10,
   "metadata": {
    "colab": {
     "base_uri": "https://localhost:8080/",
     "height": 300
    },
    "colab_type": "code",
    "id": "je_UX6vHMhfo",
    "outputId": "ff0f63ed-3c87-4b7c-b44d-e43c92b1bbb8"
   },
   "outputs": [
    {
     "name": "stdout",
     "output_type": "stream",
     "text": [
      "<class 'pandas.core.frame.DataFrame'>\n",
      "RangeIndex: 1115 entries, 0 to 1114\n",
      "Data columns (total 10 columns):\n",
      "Store                        1115 non-null int64\n",
      "StoreType                    1115 non-null object\n",
      "Assortment                   1115 non-null object\n",
      "CompetitionDistance          1112 non-null float64\n",
      "CompetitionOpenSinceMonth    761 non-null float64\n",
      "CompetitionOpenSinceYear     761 non-null float64\n",
      "Promo2                       1115 non-null int64\n",
      "Promo2SinceWeek              571 non-null float64\n",
      "Promo2SinceYear              571 non-null float64\n",
      "PromoInterval                571 non-null object\n",
      "dtypes: float64(5), int64(2), object(3)\n",
      "memory usage: 87.2+ KB\n"
     ]
    }
   ],
   "source": [
    "store.info()"
   ]
  },
  {
   "cell_type": "markdown",
   "metadata": {},
   "source": [
    "### 单变量分析"
   ]
  },
  {
   "cell_type": "markdown",
   "metadata": {},
   "source": [
    "- describe()\n",
    "- distplot()\n",
    "- value_counts()"
   ]
  },
  {
   "cell_type": "code",
   "execution_count": 11,
   "metadata": {
    "colab": {
     "base_uri": "https://localhost:8080/",
     "height": 300
    },
    "colab_type": "code",
    "id": "CQPYSvwnMjIO",
    "outputId": "516f426e-a361-4b3e-e6d4-0bd0fea8f411"
   },
   "outputs": [
    {
     "data": {
      "text/plain": [
       "<matplotlib.axes._subplots.AxesSubplot at 0x11011fd68>"
      ]
     },
     "execution_count": 11,
     "metadata": {},
     "output_type": "execute_result"
    },
    {
     "data": {
      "image/png": "[encoded data removed]",
      "text/plain": [
       "<Figure size 1440x288 with 2 Axes>"
      ]
     },
     "metadata": {},
     "output_type": "display_data"
    }
   ],
   "source": [
    "fig, (axis1,axis2) = plt.subplots(1,2,figsize=(20,4))\n",
    "sns.countplot(x='Open',hue='DayOfWeek', data=df, ax=axis1)\n",
    "sns.pointplot(x='Open',hue='DayOfWeek', data=df, ax=axis2)"
   ]
  },
  {
   "cell_type": "markdown",
   "metadata": {
    "colab_type": "text",
    "id": "qtnPYnmMPS7U"
   },
   "source": [
    "**商店大部分在星期天，也就是DayOfWeek取7的时候关闭**"
   ]
  },
  {
   "cell_type": "code",
   "execution_count": 12,
   "metadata": {
    "colab": {
     "base_uri": "https://localhost:8080/",
     "height": 300
    },
    "colab_type": "code",
    "id": "0gdjuQU8Mqfs",
    "outputId": "c6f18247-ba77-47ce-ab62-1a7399fac8b4"
   },
   "outputs": [
    {
     "data": {
      "text/html": [
       "<div>\n",
       "<style scoped>\n",
       "    .dataframe tbody tr th:only-of-type {\n",
       "        vertical-align: middle;\n",
       "    }\n",
       "\n",
       "    .dataframe tbody tr th {\n",
       "        vertical-align: top;\n",
       "    }\n",
       "\n",
       "    .dataframe thead th {\n",
       "        text-align: right;\n",
       "    }\n",
       "</style>\n",
       "<table border=\"1\" class=\"dataframe\">\n",
       "  <thead>\n",
       "    <tr style=\"text-align: right;\">\n",
       "      <th></th>\n",
       "      <th>Store</th>\n",
       "      <th>DayOfWeek</th>\n",
       "      <th>Sales</th>\n",
       "      <th>Customers</th>\n",
       "      <th>Open</th>\n",
       "      <th>Promo</th>\n",
       "      <th>SchoolHoliday</th>\n",
       "    </tr>\n",
       "  </thead>\n",
       "  <tbody>\n",
       "    <tr>\n",
       "      <th>count</th>\n",
       "      <td>1.017209e+06</td>\n",
       "      <td>1.017209e+06</td>\n",
       "      <td>1.017209e+06</td>\n",
       "      <td>1.017209e+06</td>\n",
       "      <td>1.017209e+06</td>\n",
       "      <td>1.017209e+06</td>\n",
       "      <td>1.017209e+06</td>\n",
       "    </tr>\n",
       "    <tr>\n",
       "      <th>mean</th>\n",
       "      <td>5.584297e+02</td>\n",
       "      <td>3.998341e+00</td>\n",
       "      <td>5.773819e+03</td>\n",
       "      <td>6.331459e+02</td>\n",
       "      <td>8.301067e-01</td>\n",
       "      <td>3.815145e-01</td>\n",
       "      <td>1.786467e-01</td>\n",
       "    </tr>\n",
       "    <tr>\n",
       "      <th>std</th>\n",
       "      <td>3.219087e+02</td>\n",
       "      <td>1.997391e+00</td>\n",
       "      <td>3.849926e+03</td>\n",
       "      <td>4.644117e+02</td>\n",
       "      <td>3.755392e-01</td>\n",
       "      <td>4.857586e-01</td>\n",
       "      <td>3.830564e-01</td>\n",
       "    </tr>\n",
       "    <tr>\n",
       "      <th>min</th>\n",
       "      <td>1.000000e+00</td>\n",
       "      <td>1.000000e+00</td>\n",
       "      <td>0.000000e+00</td>\n",
       "      <td>0.000000e+00</td>\n",
       "      <td>0.000000e+00</td>\n",
       "      <td>0.000000e+00</td>\n",
       "      <td>0.000000e+00</td>\n",
       "    </tr>\n",
       "    <tr>\n",
       "      <th>25%</th>\n",
       "      <td>2.800000e+02</td>\n",
       "      <td>2.000000e+00</td>\n",
       "      <td>3.727000e+03</td>\n",
       "      <td>4.050000e+02</td>\n",
       "      <td>1.000000e+00</td>\n",
       "      <td>0.000000e+00</td>\n",
       "      <td>0.000000e+00</td>\n",
       "    </tr>\n",
       "    <tr>\n",
       "      <th>50%</th>\n",
       "      <td>5.580000e+02</td>\n",
       "      <td>4.000000e+00</td>\n",
       "      <td>5.744000e+03</td>\n",
       "      <td>6.090000e+02</td>\n",
       "      <td>1.000000e+00</td>\n",
       "      <td>0.000000e+00</td>\n",
       "      <td>0.000000e+00</td>\n",
       "    </tr>\n",
       "    <tr>\n",
       "      <th>75%</th>\n",
       "      <td>8.380000e+02</td>\n",
       "      <td>6.000000e+00</td>\n",
       "      <td>7.856000e+03</td>\n",
       "      <td>8.370000e+02</td>\n",
       "      <td>1.000000e+00</td>\n",
       "      <td>1.000000e+00</td>\n",
       "      <td>0.000000e+00</td>\n",
       "    </tr>\n",
       "    <tr>\n",
       "      <th>max</th>\n",
       "      <td>1.115000e+03</td>\n",
       "      <td>7.000000e+00</td>\n",
       "      <td>4.155100e+04</td>\n",
       "      <td>7.388000e+03</td>\n",
       "      <td>1.000000e+00</td>\n",
       "      <td>1.000000e+00</td>\n",
       "      <td>1.000000e+00</td>\n",
       "    </tr>\n",
       "  </tbody>\n",
       "</table>\n",
       "</div>"
      ],
      "text/plain": [
       "              Store     DayOfWeek         Sales     Customers          Open  \\\n",
       "count  1.017209e+06  1.017209e+06  1.017209e+06  1.017209e+06  1.017209e+06   \n",
       "mean   5.584297e+02  3.998341e+00  5.773819e+03  6.331459e+02  8.301067e-01   \n",
       "std    3.219087e+02  1.997391e+00  3.849926e+03  4.644117e+02  3.755392e-01   \n",
       "min    1.000000e+00  1.000000e+00  0.000000e+00  0.000000e+00  0.000000e+00   \n",
       "25%    2.800000e+02  2.000000e+00  3.727000e+03  4.050000e+02  1.000000e+00   \n",
       "50%    5.580000e+02  4.000000e+00  5.744000e+03  6.090000e+02  1.000000e+00   \n",
       "75%    8.380000e+02  6.000000e+00  7.856000e+03  8.370000e+02  1.000000e+00   \n",
       "max    1.115000e+03  7.000000e+00  4.155100e+04  7.388000e+03  1.000000e+00   \n",
       "\n",
       "              Promo  SchoolHoliday  \n",
       "count  1.017209e+06   1.017209e+06  \n",
       "mean   3.815145e-01   1.786467e-01  \n",
       "std    4.857586e-01   3.830564e-01  \n",
       "min    0.000000e+00   0.000000e+00  \n",
       "25%    0.000000e+00   0.000000e+00  \n",
       "50%    0.000000e+00   0.000000e+00  \n",
       "75%    1.000000e+00   0.000000e+00  \n",
       "max    1.000000e+00   1.000000e+00  "
      ]
     },
     "execution_count": 12,
     "metadata": {},
     "output_type": "execute_result"
    }
   ],
   "source": [
    "df.describe()"
   ]
  },
  {
   "cell_type": "code",
   "execution_count": 13,
   "metadata": {
    "colab": {},
    "colab_type": "code",
    "id": "_YftElk3NEDI"
   },
   "outputs": [],
   "source": [
    "def extract1(x):\n",
    "    return int(str(x)[:4])\n",
    "\n",
    "def extract2(x):\n",
    "    return int(str(x)[5:7])\n",
    "\n",
    "def extract3(x):\n",
    "    return (str(x)[:7])"
   ]
  },
  {
   "cell_type": "code",
   "execution_count": 14,
   "metadata": {
    "colab": {},
    "colab_type": "code",
    "id": "BFNkh82-NKMC"
   },
   "outputs": [],
   "source": [
    "df['Date'] = df['Date'].apply(extract3)\n",
    "test['Date'] = test['Date'].apply(extract3)\n",
    "df['Year']  = df['Date'].apply(extract1)\n",
    "df['Month'] = df['Date'].apply(extract2)\n",
    "test['Year']  = test['Date'].apply(extract1)\n",
    "test['Month'] = test['Date'].apply(extract2)\n",
    "avgsales    = df.groupby('Date')[\"Sales\"].mean()\n",
    "percentchngsales = df.groupby('Date')[\"Sales\"].sum().pct_change()"
   ]
  },
  {
   "cell_type": "markdown",
   "metadata": {
    "colab_type": "text",
    "id": "NhQF4JPZNnCg"
   },
   "source": [
    "**从日期中取出 年 和 月 作为新的列**"
   ]
  },
  {
   "cell_type": "code",
   "execution_count": 15,
   "metadata": {
    "colab": {
     "base_uri": "https://localhost:8080/",
     "height": 912
    },
    "colab_type": "code",
    "id": "W4GnwtwjNais",
    "outputId": "ac3fae70-7229-4d6a-9145-51e8ec9554ac"
   },
   "outputs": [
    {
     "data": {
      "text/plain": [
       "<seaborn.axisgrid.FacetGrid at 0x10faa4160>"
      ]
     },
     "execution_count": 15,
     "metadata": {},
     "output_type": "execute_result"
    },
    {
     "data": {
      "image/png": "[encoded data removed]",
      "text/plain": [
       "<Figure size 1728x864 with 1 Axes>"
      ]
     },
     "metadata": {},
     "output_type": "display_data"
    }
   ],
   "source": [
    "sns.factorplot(x=\"Date\" ,y = \"Sales\" , data=df, kind=\"point\", aspect=2,size=12)"
   ]
  },
  {
   "cell_type": "markdown",
   "metadata": {},
   "source": [
    "### 变量关联分析"
   ]
  },
  {
   "cell_type": "markdown",
   "metadata": {
    "colab_type": "text",
    "id": "v_Jt2bf4RjmY"
   },
   "source": [
    "**我们要做两两变量关联分析了，最直接的方式之一是可以用heatmap看一下correlation**"
   ]
  },
  {
   "cell_type": "code",
   "execution_count": 0,
   "metadata": {
    "colab": {
     "base_uri": "https://localhost:8080/",
     "height": 539
    },
    "colab_type": "code",
    "id": "Ri638d6oPZw-",
    "outputId": "71dc729d-0207-46fb-a857-8cf45cf49875"
   },
   "outputs": [
    {
     "data": {
      "text/plain": [
       "<matplotlib.axes._subplots.AxesSubplot at 0x7faf8155f3c8>"
      ]
     },
     "execution_count": 24,
     "metadata": {
      "tags": []
     },
     "output_type": "execute_result"
    },
    {
     "data": {
      "image/png": "[encoded data removed]",
      "text/plain": [
       "<matplotlib.figure.Figure at 0x7faf85002978>"
      ]
     },
     "metadata": {
      "tags": []
     },
     "output_type": "display_data"
    }
   ],
   "source": [
    "correlation_map = df[df.columns].corr()\n",
    "obj = np.array(correlation_map)\n",
    "obj[np.tril_indices_from(obj)] = False\n",
    "fig,ax= plt.subplots()\n",
    "fig.set_size_inches(9,9)\n",
    "sns.heatmap(correlation_map, mask=obj,vmax=.7, square=True,annot=True)"
   ]
  },
  {
   "cell_type": "code",
   "execution_count": 0,
   "metadata": {
    "colab": {},
    "colab_type": "code",
    "id": "GbJLBKSmhRWa"
   },
   "outputs": [],
   "source": [
    "def plotter(StringA , StringB):\n",
    "  fig, axes = plt.subplots(2,1)\n",
    "  fig.set_size_inches(15, 10)\n",
    "  sns.barplot(x=StringA, y=StringB, data=df ,hue=\"DayOfWeek\", ax = axes[0])\n",
    "  sns.boxplot(x=StringA, y=StringB, data=df ,hue=\"DayOfWeek\", ax=axes[1])"
   ]
  },
  {
   "cell_type": "code",
   "execution_count": 0,
   "metadata": {
    "colab": {
     "base_uri": "https://localhost:8080/",
     "height": 607
    },
    "colab_type": "code",
    "id": "ByyVMt4lhTxe",
    "outputId": "7fa09080-1930-44f9-87b9-51e7ff84bdd1"
   },
   "outputs": [
    {
     "data": {
      "image/png": "[encoded data removed]",
      "text/plain": [
       "<matplotlib.figure.Figure at 0x7faf84fdb710>"
      ]
     },
     "metadata": {
      "tags": []
     },
     "output_type": "display_data"
    }
   ],
   "source": [
    "plotter(\"Year\" , \"Sales\")"
   ]
  },
  {
   "cell_type": "code",
   "execution_count": 0,
   "metadata": {
    "colab": {
     "base_uri": "https://localhost:8080/",
     "height": 607
    },
    "colab_type": "code",
    "id": "hkgybbTYhd6M",
    "outputId": "838797f0-f7f4-4259-d5a9-67716f8a50d6"
   },
   "outputs": [
    {
     "data": {
      "image/png": "[encoded data removed]",
      "text/plain": [
       "<matplotlib.figure.Figure at 0x7faf84fdb400>"
      ]
     },
     "metadata": {
      "tags": []
     },
     "output_type": "display_data"
    }
   ],
   "source": [
    "plotter(\"Year\" , \"Customers\")"
   ]
  },
  {
   "cell_type": "markdown",
   "metadata": {
    "colab_type": "text",
    "id": "90YHC7Lw276q"
   },
   "source": [
    "**对Stateholiday进行编码**"
   ]
  },
  {
   "cell_type": "code",
   "execution_count": 0,
   "metadata": {
    "colab": {},
    "colab_type": "code",
    "id": "YaY9XTaWxTl4"
   },
   "outputs": [],
   "source": [
    "df[\"StateHoliday\"] = df[\"StateHoliday\"].map({0: 0, \"0\": 0, \"a\": 1, \"b\": 1, \"c\": 1})\n",
    "test[\"StateHoliday\"] = test[\"StateHoliday\"].map({0: 0, \"0\": 0, \"a\": 1, \"b\": 1, \"c\": 1})"
   ]
  },
  {
   "cell_type": "code",
   "execution_count": 0,
   "metadata": {
    "colab": {
     "base_uri": "https://localhost:8080/",
     "height": 74
    },
    "colab_type": "code",
    "id": "33-6CzTU38oo",
    "outputId": "bdc93a65-b615-43ba-9d7b-df8afdeb41b7"
   },
   "outputs": [
    {
     "data": {
      "text/plain": [
       "0    986159\n",
       "1     31050\n",
       "Name: StateHoliday, dtype: int64"
      ]
     },
     "execution_count": 29,
     "metadata": {
      "tags": []
     },
     "output_type": "execute_result"
    }
   ],
   "source": [
    "df.StateHoliday.value_counts()"
   ]
  },
  {
   "cell_type": "code",
   "execution_count": 0,
   "metadata": {
    "colab": {
     "base_uri": "https://localhost:8080/",
     "height": 374
    },
    "colab_type": "code",
    "id": "szoEygjcjLqm",
    "outputId": "49399ca8-e411-4fd7-fde0-7a1db19b2a63"
   },
   "outputs": [
    {
     "data": {
      "image/png": "[encoded data removed]",
      "text/plain": [
       "<matplotlib.figure.Figure at 0x7faf7fa489b0>"
      ]
     },
     "metadata": {
      "tags": []
     },
     "output_type": "display_data"
    }
   ],
   "source": [
    "labels = 'Not-Affected' , 'Affected'\n",
    "sizes = df.SchoolHoliday.value_counts()\n",
    "colors = ['gold', 'silver']\n",
    "explode = (0.1, 0.0)\n",
    "plt.pie(sizes, explode=explode, labels=labels, colors=colors,\n",
    "        autopct='%1.1f%%', shadow=True, startangle=180)\n",
    "plt.axis('equal')\n",
    "plt.title(\"Sales Affected by Schoolholiday or Not ?\")\n",
    "plt.plot()\n",
    "fig=plt.gcf()\n",
    "fig.set_size_inches(6,6)\n",
    "plt.show()"
   ]
  },
  {
   "cell_type": "code",
   "execution_count": 0,
   "metadata": {
    "colab": {
     "base_uri": "https://localhost:8080/",
     "height": 74
    },
    "colab_type": "code",
    "id": "CFcBwVLL4pFu",
    "outputId": "2416f42b-8f83-4258-e2cd-b3bcebb6f6a5"
   },
   "outputs": [
    {
     "data": {
      "text/plain": [
       "0    835488\n",
       "1    181721\n",
       "Name: SchoolHoliday, dtype: int64"
      ]
     },
     "execution_count": 31,
     "metadata": {
      "tags": []
     },
     "output_type": "execute_result"
    }
   ],
   "source": [
    "df.SchoolHoliday.value_counts()"
   ]
  },
  {
   "cell_type": "code",
   "execution_count": 0,
   "metadata": {
    "colab": {
     "base_uri": "https://localhost:8080/",
     "height": 393
    },
    "colab_type": "code",
    "id": "5YnE_2WL5uW4",
    "outputId": "68add574-86b6-4325-dda9-67900e01c35a"
   },
   "outputs": [
    {
     "data": {
      "text/plain": [
       "<matplotlib.axes._subplots.AxesSubplot at 0x7faf7f70e438>"
      ]
     },
     "execution_count": 32,
     "metadata": {
      "tags": []
     },
     "output_type": "execute_result"
    },
    {
     "data": {
      "image/png": "[encoded data removed]",
      "text/plain": [
       "<matplotlib.figure.Figure at 0x7faf7f8e1358>"
      ]
     },
     "metadata": {
      "tags": []
     },
     "output_type": "display_data"
    }
   ],
   "source": [
    "df[\"Sales\"].plot(kind='hist',bins=100,xlim=(0,15000))"
   ]
  },
  {
   "cell_type": "markdown",
   "metadata": {
    "colab_type": "text",
    "id": "fAcc20yT6yUi"
   },
   "source": [
    "**0那个高高的柱子，是因为商店关门了**"
   ]
  },
  {
   "cell_type": "code",
   "execution_count": 0,
   "metadata": {
    "colab": {
     "base_uri": "https://localhost:8080/",
     "height": 226
    },
    "colab_type": "code",
    "id": "0B6SQR_a7PhE",
    "outputId": "32fec647-e959-4a10-a432-e7bd67bacae1"
   },
   "outputs": [
    {
     "data": {
      "text/html": [
       "<div>\n",
       "<style scoped>\n",
       "    .dataframe tbody tr th:only-of-type {\n",
       "        vertical-align: middle;\n",
       "    }\n",
       "\n",
       "    .dataframe tbody tr th {\n",
       "        vertical-align: top;\n",
       "    }\n",
       "\n",
       "    .dataframe thead th {\n",
       "        text-align: right;\n",
       "    }\n",
       "</style>\n",
       "<table border=\"1\" class=\"dataframe\">\n",
       "  <thead>\n",
       "    <tr style=\"text-align: right;\">\n",
       "      <th></th>\n",
       "      <th>Store</th>\n",
       "      <th>StoreType</th>\n",
       "      <th>Assortment</th>\n",
       "      <th>CompetitionDistance</th>\n",
       "      <th>CompetitionOpenSinceMonth</th>\n",
       "      <th>CompetitionOpenSinceYear</th>\n",
       "      <th>Promo2</th>\n",
       "      <th>Promo2SinceWeek</th>\n",
       "      <th>Promo2SinceYear</th>\n",
       "      <th>PromoInterval</th>\n",
       "    </tr>\n",
       "  </thead>\n",
       "  <tbody>\n",
       "    <tr>\n",
       "      <th>0</th>\n",
       "      <td>1</td>\n",
       "      <td>c</td>\n",
       "      <td>a</td>\n",
       "      <td>1270.0</td>\n",
       "      <td>9.0</td>\n",
       "      <td>2008.0</td>\n",
       "      <td>0</td>\n",
       "      <td>NaN</td>\n",
       "      <td>NaN</td>\n",
       "      <td>NaN</td>\n",
       "    </tr>\n",
       "    <tr>\n",
       "      <th>1</th>\n",
       "      <td>2</td>\n",
       "      <td>a</td>\n",
       "      <td>a</td>\n",
       "      <td>570.0</td>\n",
       "      <td>11.0</td>\n",
       "      <td>2007.0</td>\n",
       "      <td>1</td>\n",
       "      <td>13.0</td>\n",
       "      <td>2010.0</td>\n",
       "      <td>Jan,Apr,Jul,Oct</td>\n",
       "    </tr>\n",
       "    <tr>\n",
       "      <th>2</th>\n",
       "      <td>3</td>\n",
       "      <td>a</td>\n",
       "      <td>a</td>\n",
       "      <td>14130.0</td>\n",
       "      <td>12.0</td>\n",
       "      <td>2006.0</td>\n",
       "      <td>1</td>\n",
       "      <td>14.0</td>\n",
       "      <td>2011.0</td>\n",
       "      <td>Jan,Apr,Jul,Oct</td>\n",
       "    </tr>\n",
       "    <tr>\n",
       "      <th>3</th>\n",
       "      <td>4</td>\n",
       "      <td>c</td>\n",
       "      <td>c</td>\n",
       "      <td>620.0</td>\n",
       "      <td>9.0</td>\n",
       "      <td>2009.0</td>\n",
       "      <td>0</td>\n",
       "      <td>NaN</td>\n",
       "      <td>NaN</td>\n",
       "      <td>NaN</td>\n",
       "    </tr>\n",
       "    <tr>\n",
       "      <th>4</th>\n",
       "      <td>5</td>\n",
       "      <td>a</td>\n",
       "      <td>a</td>\n",
       "      <td>29910.0</td>\n",
       "      <td>4.0</td>\n",
       "      <td>2015.0</td>\n",
       "      <td>0</td>\n",
       "      <td>NaN</td>\n",
       "      <td>NaN</td>\n",
       "      <td>NaN</td>\n",
       "    </tr>\n",
       "  </tbody>\n",
       "</table>\n",
       "</div>"
      ],
      "text/plain": [
       "   Store StoreType Assortment  CompetitionDistance  CompetitionOpenSinceMonth  \\\n",
       "0      1         c          a               1270.0                        9.0   \n",
       "1      2         a          a                570.0                       11.0   \n",
       "2      3         a          a              14130.0                       12.0   \n",
       "3      4         c          c                620.0                        9.0   \n",
       "4      5         a          a              29910.0                        4.0   \n",
       "\n",
       "   CompetitionOpenSinceYear  Promo2  Promo2SinceWeek  Promo2SinceYear  \\\n",
       "0                    2008.0       0              NaN              NaN   \n",
       "1                    2007.0       1             13.0           2010.0   \n",
       "2                    2006.0       1             14.0           2011.0   \n",
       "3                    2009.0       0              NaN              NaN   \n",
       "4                    2015.0       0              NaN              NaN   \n",
       "\n",
       "     PromoInterval  \n",
       "0              NaN  \n",
       "1  Jan,Apr,Jul,Oct  \n",
       "2  Jan,Apr,Jul,Oct  \n",
       "3              NaN  \n",
       "4              NaN  "
      ]
     },
     "execution_count": 33,
     "metadata": {
      "tags": []
     },
     "output_type": "execute_result"
    }
   ],
   "source": [
    "store.head()"
   ]
  },
  {
   "cell_type": "code",
   "execution_count": 0,
   "metadata": {
    "colab": {},
    "colab_type": "code",
    "id": "7Q2_7FY6xbIq"
   },
   "outputs": [],
   "source": [
    "temp = []\n",
    "for i in df.groupby('Store')[[\"Sales\", \"Customers\"]].mean()[\"Sales\"]:\n",
    "  temp.append(i)\n",
    "store[\"Sales\"] = temp"
   ]
  },
  {
   "cell_type": "code",
   "execution_count": 0,
   "metadata": {
    "colab": {},
    "colab_type": "code",
    "id": "2r0U-1jb1VV0"
   },
   "outputs": [],
   "source": [
    "temp = []\n",
    "for i in df.groupby('Store')[[\"Sales\", \"Customers\"]].mean()[\"Customers\"]:\n",
    "  temp.append(i)\n",
    "store[\"Customers\"] = temp"
   ]
  },
  {
   "cell_type": "code",
   "execution_count": 0,
   "metadata": {
    "colab": {
     "base_uri": "https://localhost:8080/",
     "height": 226
    },
    "colab_type": "code",
    "id": "l-ttznCG0OnY",
    "outputId": "71cb78d3-47ac-490c-b59f-2f8056bce1a0"
   },
   "outputs": [
    {
     "data": {
      "text/html": [
       "<div>\n",
       "<style scoped>\n",
       "    .dataframe tbody tr th:only-of-type {\n",
       "        vertical-align: middle;\n",
       "    }\n",
       "\n",
       "    .dataframe tbody tr th {\n",
       "        vertical-align: top;\n",
       "    }\n",
       "\n",
       "    .dataframe thead th {\n",
       "        text-align: right;\n",
       "    }\n",
       "</style>\n",
       "<table border=\"1\" class=\"dataframe\">\n",
       "  <thead>\n",
       "    <tr style=\"text-align: right;\">\n",
       "      <th></th>\n",
       "      <th>Store</th>\n",
       "      <th>StoreType</th>\n",
       "      <th>Assortment</th>\n",
       "      <th>CompetitionDistance</th>\n",
       "      <th>CompetitionOpenSinceMonth</th>\n",
       "      <th>CompetitionOpenSinceYear</th>\n",
       "      <th>Promo2</th>\n",
       "      <th>Promo2SinceWeek</th>\n",
       "      <th>Promo2SinceYear</th>\n",
       "      <th>PromoInterval</th>\n",
       "      <th>Sales</th>\n",
       "      <th>Customers</th>\n",
       "    </tr>\n",
       "  </thead>\n",
       "  <tbody>\n",
       "    <tr>\n",
       "      <th>0</th>\n",
       "      <td>1</td>\n",
       "      <td>c</td>\n",
       "      <td>a</td>\n",
       "      <td>1270.0</td>\n",
       "      <td>9.0</td>\n",
       "      <td>2008.0</td>\n",
       "      <td>0</td>\n",
       "      <td>NaN</td>\n",
       "      <td>NaN</td>\n",
       "      <td>NaN</td>\n",
       "      <td>3945.704883</td>\n",
       "      <td>467.646497</td>\n",
       "    </tr>\n",
       "    <tr>\n",
       "      <th>1</th>\n",
       "      <td>2</td>\n",
       "      <td>a</td>\n",
       "      <td>a</td>\n",
       "      <td>570.0</td>\n",
       "      <td>11.0</td>\n",
       "      <td>2007.0</td>\n",
       "      <td>1</td>\n",
       "      <td>13.0</td>\n",
       "      <td>2010.0</td>\n",
       "      <td>Jan,Apr,Jul,Oct</td>\n",
       "      <td>4122.991507</td>\n",
       "      <td>486.045648</td>\n",
       "    </tr>\n",
       "    <tr>\n",
       "      <th>2</th>\n",
       "      <td>3</td>\n",
       "      <td>a</td>\n",
       "      <td>a</td>\n",
       "      <td>14130.0</td>\n",
       "      <td>12.0</td>\n",
       "      <td>2006.0</td>\n",
       "      <td>1</td>\n",
       "      <td>14.0</td>\n",
       "      <td>2011.0</td>\n",
       "      <td>Jan,Apr,Jul,Oct</td>\n",
       "      <td>5741.253715</td>\n",
       "      <td>620.286624</td>\n",
       "    </tr>\n",
       "    <tr>\n",
       "      <th>3</th>\n",
       "      <td>4</td>\n",
       "      <td>c</td>\n",
       "      <td>c</td>\n",
       "      <td>620.0</td>\n",
       "      <td>9.0</td>\n",
       "      <td>2009.0</td>\n",
       "      <td>0</td>\n",
       "      <td>NaN</td>\n",
       "      <td>NaN</td>\n",
       "      <td>NaN</td>\n",
       "      <td>8021.769639</td>\n",
       "      <td>1100.057325</td>\n",
       "    </tr>\n",
       "    <tr>\n",
       "      <th>4</th>\n",
       "      <td>5</td>\n",
       "      <td>a</td>\n",
       "      <td>a</td>\n",
       "      <td>29910.0</td>\n",
       "      <td>4.0</td>\n",
       "      <td>2015.0</td>\n",
       "      <td>0</td>\n",
       "      <td>NaN</td>\n",
       "      <td>NaN</td>\n",
       "      <td>NaN</td>\n",
       "      <td>3867.110403</td>\n",
       "      <td>444.360934</td>\n",
       "    </tr>\n",
       "  </tbody>\n",
       "</table>\n",
       "</div>"
      ],
      "text/plain": [
       "   Store StoreType Assortment  CompetitionDistance  CompetitionOpenSinceMonth  \\\n",
       "0      1         c          a               1270.0                        9.0   \n",
       "1      2         a          a                570.0                       11.0   \n",
       "2      3         a          a              14130.0                       12.0   \n",
       "3      4         c          c                620.0                        9.0   \n",
       "4      5         a          a              29910.0                        4.0   \n",
       "\n",
       "   CompetitionOpenSinceYear  Promo2  Promo2SinceWeek  Promo2SinceYear  \\\n",
       "0                    2008.0       0              NaN              NaN   \n",
       "1                    2007.0       1             13.0           2010.0   \n",
       "2                    2006.0       1             14.0           2011.0   \n",
       "3                    2009.0       0              NaN              NaN   \n",
       "4                    2015.0       0              NaN              NaN   \n",
       "\n",
       "     PromoInterval        Sales    Customers  \n",
       "0              NaN  3945.704883   467.646497  \n",
       "1  Jan,Apr,Jul,Oct  4122.991507   486.045648  \n",
       "2  Jan,Apr,Jul,Oct  5741.253715   620.286624  \n",
       "3              NaN  8021.769639  1100.057325  \n",
       "4              NaN  3867.110403   444.360934  "
      ]
     },
     "execution_count": 36,
     "metadata": {
      "tags": []
     },
     "output_type": "execute_result"
    }
   ],
   "source": [
    "store.head()"
   ]
  },
  {
   "cell_type": "code",
   "execution_count": 0,
   "metadata": {
    "colab": {
     "base_uri": "https://localhost:8080/",
     "height": 378
    },
    "colab_type": "code",
    "id": "lxVh8m-o1FAk",
    "outputId": "cd252f16-b064-454b-bbc2-d81f3c13be8d"
   },
   "outputs": [
    {
     "data": {
      "image/png": "[encoded data removed]",
      "text/plain": [
       "<matplotlib.figure.Figure at 0x7faf7f9eca58>"
      ]
     },
     "metadata": {
      "tags": []
     },
     "output_type": "display_data"
    }
   ],
   "source": [
    "labels = 'a' , 'b' , 'c' , 'd'\n",
    "sizes = store.StoreType.value_counts()\n",
    "colors = ['orange', 'green' , 'red' , 'pink']\n",
    "explode = (0.1, 0.0 , 0.15 , 0.0)\n",
    "plt.pie(sizes, explode=explode, labels=labels, colors=colors,\n",
    "        autopct='%1.1f%%', shadow=True, startangle=180)\n",
    "plt.axis('equal')\n",
    "plt.title(\"Distribution of different StoreTypes\")\n",
    "plt.plot()\n",
    "fig=plt.gcf()\n",
    "fig.set_size_inches(6,6)\n",
    "plt.show()"
   ]
  },
  {
   "cell_type": "code",
   "execution_count": 0,
   "metadata": {
    "colab": {},
    "colab_type": "code",
    "id": "z2jMXvj5194w"
   },
   "outputs": [],
   "source": [
    "def plotmaster(StringA , StringB):\n",
    "  fig, axes = plt.subplots(3,1)\n",
    "  fig.set_size_inches(12, 15)\n",
    "  sns.barplot(x=StringA, y=StringB, data=store ,hue=\"StoreType\", ax = axes[0])\n",
    "  sns.boxplot(x=StringA, y=StringB, data=store ,hue=\"StoreType\", ax=axes[1])\n",
    "  sns.violinplot(x=StringA, y=StringB, data=store, hue=\"StoreType\" , ax=axes[2])"
   ]
  },
  {
   "cell_type": "code",
   "execution_count": 0,
   "metadata": {
    "colab": {
     "base_uri": "https://localhost:8080/",
     "height": 879
    },
    "colab_type": "code",
    "id": "06p8UAIA2tRE",
    "outputId": "df9da433-37a8-4f42-c2f4-df9be2e9d152"
   },
   "outputs": [
    {
     "data": {
      "image/png": "[encoded data removed]",
      "text/plain": [
       "<matplotlib.figure.Figure at 0x7faf871962b0>"
      ]
     },
     "metadata": {
      "tags": []
     },
     "output_type": "display_data"
    }
   ],
   "source": [
    "plotmaster(\"Assortment\" , \"Sales\")"
   ]
  },
  {
   "cell_type": "code",
   "execution_count": 0,
   "metadata": {
    "colab": {
     "base_uri": "https://localhost:8080/",
     "height": 879
    },
    "colab_type": "code",
    "id": "ah3PBTe_3lnA",
    "outputId": "20c18b5e-9367-4d0a-b608-67892078eadc"
   },
   "outputs": [
    {
     "data": {
      "image/png": "[encoded data removed]",
      "text/plain": [
       "<matplotlib.figure.Figure at 0x7faf7f775f28>"
      ]
     },
     "metadata": {
      "tags": []
     },
     "output_type": "display_data"
    }
   ],
   "source": [
    "plotmaster(\"Promo2\" , \"Sales\")"
   ]
  },
  {
   "cell_type": "code",
   "execution_count": 0,
   "metadata": {
    "colab": {
     "base_uri": "https://localhost:8080/",
     "height": 262
    },
    "colab_type": "code",
    "id": "-i3HcFkd5cz6",
    "outputId": "7f45c2b8-8417-489e-85bb-660994d889f1"
   },
   "outputs": [
    {
     "data": {
      "text/plain": [
       "Store                          0\n",
       "StoreType                      0\n",
       "Assortment                     0\n",
       "CompetitionDistance            3\n",
       "CompetitionOpenSinceMonth    354\n",
       "CompetitionOpenSinceYear     354\n",
       "Promo2                         0\n",
       "Promo2SinceWeek              544\n",
       "Promo2SinceYear              544\n",
       "PromoInterval                544\n",
       "Sales                          0\n",
       "Customers                      0\n",
       "dtype: int64"
      ]
     },
     "execution_count": 41,
     "metadata": {
      "tags": []
     },
     "output_type": "execute_result"
    }
   ],
   "source": [
    "store.isnull().sum()"
   ]
  },
  {
   "cell_type": "markdown",
   "metadata": {
    "colab_type": "text",
    "id": "byWv2uZ1aMUg"
   },
   "source": [
    "**我们看一下星期天开门的商店**"
   ]
  },
  {
   "cell_type": "code",
   "execution_count": 0,
   "metadata": {
    "colab": {
     "base_uri": "https://localhost:8080/",
     "height": 74
    },
    "colab_type": "code",
    "id": "dyAncelvZMv2",
    "outputId": "a7615c24-7fe0-4024-f291-0eaa0f7740c5"
   },
   "outputs": [
    {
     "data": {
      "text/plain": [
       "array([  85,  122,  209,  259,  262,  274,  299,  310,  335,  353,  423,\n",
       "        433,  453,  494,  512,  524,  530,  562,  578,  676,  682,  732,\n",
       "        733,  769,  863,  867,  931,  948, 1045, 1081, 1097, 1099,  877])"
      ]
     },
     "execution_count": 42,
     "metadata": {
      "tags": []
     },
     "output_type": "execute_result"
    }
   ],
   "source": [
    "df[(df.Open == 1) & (df.DayOfWeek == 7)]['Store'].unique()"
   ]
  },
  {
   "cell_type": "code",
   "execution_count": 0,
   "metadata": {
    "colab": {},
    "colab_type": "code",
    "id": "TyvGGiVk0i70"
   },
   "outputs": [],
   "source": [
    "df = new.copy()"
   ]
  },
  {
   "cell_type": "markdown",
   "metadata": {},
   "source": [
    "## 数据处理与特征工程"
   ]
  },
  {
   "cell_type": "code",
   "execution_count": 0,
   "metadata": {
    "colab": {},
    "colab_type": "code",
    "id": "CyBqAxQy1_l8"
   },
   "outputs": [],
   "source": [
    "# 缺失值填充与数据选择\n",
    "test.fillna(1, inplace=True)\n",
    "df = df[df[\"Open\"] != 0]\n",
    "df = df[df[\"Sales\"] > 0]\n",
    "df['log_sales'] = np.log(df['Sales'])\n",
    "df = pd.merge(df, store, on='Store')\n",
    "test = pd.merge(test, store, on='Store')\n",
    "df.fillna(0,inplace=True)\n",
    "test.fillna(0,inplace=True)"
   ]
  },
  {
   "cell_type": "code",
   "execution_count": 0,
   "metadata": {
    "colab": {},
    "colab_type": "code",
    "id": "4CyiMWMi3G4Q"
   },
   "outputs": [],
   "source": [
    "# 映射变换\n",
    "df[\"StateHoliday\"] = df[\"StateHoliday\"].map({0: 0, \"0\": 0, \"a\": 1, \"b\": 1, \"c\": 1})\n",
    "test[\"StateHoliday\"] = test[\"StateHoliday\"].map({0: 0, \"0\": 0, \"a\": 1, \"b\": 1, \"c\": 1})\n",
    "df['StateHoliday'] = df['StateHoliday'].astype(float)\n",
    "test['StateHoliday'] = test['StateHoliday'].astype(float)"
   ]
  },
  {
   "cell_type": "code",
   "execution_count": 0,
   "metadata": {
    "colab": {
     "base_uri": "https://localhost:8080/",
     "height": 130
    },
    "colab_type": "code",
    "id": "xV62tXPs4ml2",
    "outputId": "3392928b-3d86-437d-b3ac-4afb5d1808de"
   },
   "outputs": [
    {
     "data": {
      "text/plain": [
       "0    2015-07-31\n",
       "1    2015-07-31\n",
       "2    2015-07-31\n",
       "3    2015-07-31\n",
       "4    2015-07-31\n",
       "Name: Date, dtype: object"
      ]
     },
     "execution_count": 50,
     "metadata": {
      "tags": []
     },
     "output_type": "execute_result"
    }
   ],
   "source": [
    "new.head().Date"
   ]
  },
  {
   "cell_type": "markdown",
   "metadata": {
    "colab_type": "text",
    "id": "Np8njrxx7z10"
   },
   "source": [
    "**抽取年月日**"
   ]
  },
  {
   "cell_type": "code",
   "execution_count": 0,
   "metadata": {
    "colab": {},
    "colab_type": "code",
    "id": "OIFbaT8z7wlq"
   },
   "outputs": [],
   "source": [
    "df[\"year\"]=df.Date.apply(extract1)\n",
    "df[\"month\"]=df.Date.apply(extract2)"
   ]
  },
  {
   "cell_type": "code",
   "execution_count": 0,
   "metadata": {
    "colab": {},
    "colab_type": "code",
    "id": "dUMAl2-58rEk"
   },
   "outputs": [],
   "source": [
    "df[\"Day\"]=df.Date.apply(lambda x: int(str(x)[8:10]))"
   ]
  },
  {
   "cell_type": "code",
   "execution_count": 0,
   "metadata": {
    "colab": {},
    "colab_type": "code",
    "id": "LcPb8EEP9Nqm"
   },
   "outputs": [],
   "source": [
    "test[\"year\"]=test.Date.apply(extract1)\n",
    "test[\"month\"]=test.Date.apply(extract2)\n",
    "test[\"Day\"]=test.Date.apply(lambda x: int(str(x)[8:10]))"
   ]
  },
  {
   "cell_type": "markdown",
   "metadata": {
    "colab_type": "text",
    "id": "404jbcVhBVl-"
   },
   "source": [
    "**类别型独热向量编码**"
   ]
  },
  {
   "cell_type": "code",
   "execution_count": 0,
   "metadata": {
    "colab": {},
    "colab_type": "code",
    "id": "Kpq0CNkP9orY"
   },
   "outputs": [],
   "source": [
    "df = pd.get_dummies(df,columns=['StoreType','Assortment','year'])\n",
    "test = pd.get_dummies(test,columns=['StoreType','Assortment','year'])\n",
    "test['year_2013']=0\n",
    "test['year_2014']=0"
   ]
  },
  {
   "cell_type": "markdown",
   "metadata": {},
   "source": [
    "## 切分数据集与建模调优\n",
    "### 数据集切分"
   ]
  },
  {
   "cell_type": "code",
   "execution_count": 0,
   "metadata": {
    "colab": {},
    "colab_type": "code",
    "id": "9TlyNtGzBa2k"
   },
   "outputs": [],
   "source": [
    "X = df.drop(['Sales','log_sales','Store','Date','Customers','CompetitionOpenSinceYear','Promo2SinceYear','PromoInterval'] , axis = 1)\n",
    "y = df['log_sales']"
   ]
  },
  {
   "cell_type": "code",
   "execution_count": 0,
   "metadata": {
    "colab": {},
    "colab_type": "code",
    "id": "uxRRfaEUCo0I"
   },
   "outputs": [],
   "source": [
    "X_train, X_val, y_train, y_val = train_test_split(X, y, test_size=0.20, random_state=7)\n",
    "X_test = test.drop(['Id','Store','Date' ,'CompetitionOpenSinceYear','Promo2SinceYear','PromoInterval'] , axis = 1)"
   ]
  },
  {
   "cell_type": "markdown",
   "metadata": {},
   "source": [
    "### 默认拟合"
   ]
  },
  {
   "cell_type": "code",
   "execution_count": 0,
   "metadata": {
    "colab": {},
    "colab_type": "code",
    "id": "3hlWc38ZDHcE"
   },
   "outputs": [],
   "source": [
    "from sklearn import linear_model\n",
    "reg = linear_model.LinearRegression()\n",
    "reg.fit(X_train , y_train)\n",
    "pred = reg.predict(X_val)"
   ]
  },
  {
   "cell_type": "code",
   "execution_count": 0,
   "metadata": {
    "colab": {
     "base_uri": "https://localhost:8080/",
     "height": 36
    },
    "colab_type": "code",
    "id": "AUFRMrGPJAIw",
    "outputId": "5e432ab4-4386-4c82-9a6d-b9b233c8b9ac"
   },
   "outputs": [
    {
     "name": "stdout",
     "output_type": "stream",
     "text": [
      "0.3731435568682413\n"
     ]
    }
   ],
   "source": [
    "from sklearn.metrics import mean_squared_error\n",
    "rmse = np.sqrt(mean_squared_error(y_val,pred))\n",
    "print(rmse)"
   ]
  },
  {
   "cell_type": "markdown",
   "metadata": {},
   "source": [
    "### 网格搜索交叉验证调参"
   ]
  },
  {
   "cell_type": "code",
   "execution_count": 0,
   "metadata": {
    "colab": {
     "base_uri": "https://localhost:8080/",
     "height": 149
    },
    "colab_type": "code",
    "id": "lFMmZS8QJdFI",
    "outputId": "3037350b-b9fc-4464-f0de-a6d78886e5ed"
   },
   "outputs": [
    {
     "data": {
      "text/plain": [
       "GridSearchCV(cv=7, error_score='raise',\n",
       "       estimator=Ridge(alpha=1.0, copy_X=True, fit_intercept=True, max_iter=None,\n",
       "   normalize=False, random_state=1, solver='auto', tol=0.001),\n",
       "       fit_params=None, iid=True, n_jobs=1,\n",
       "       param_grid={'alpha': [0.01, 0.2, 0.25, 0.3]},\n",
       "       pre_dispatch='2*n_jobs', refit=True, return_train_score='warn',\n",
       "       scoring='neg_mean_squared_error', verbose=0)"
      ]
     },
     "execution_count": 59,
     "metadata": {
      "tags": []
     },
     "output_type": "execute_result"
    }
   ],
   "source": [
    "from sklearn.model_selection import GridSearchCV\n",
    "model = linear_model.Ridge(random_state = 1)\n",
    "\n",
    "param_grid = {\n",
    "\"alpha\" : [0.01 , 0.2 , 0.250 , 0.3] \n",
    "}\n",
    "grid = GridSearchCV( model , param_grid , cv = 7 , scoring = \"neg_mean_squared_error\")\n",
    "grid.fit(X,y)"
   ]
  },
  {
   "cell_type": "code",
   "execution_count": 0,
   "metadata": {
    "colab": {
     "base_uri": "https://localhost:8080/",
     "height": 36
    },
    "colab_type": "code",
    "id": "9rk208nqRwgM",
    "outputId": "49d97848-0da2-4f4b-ff3c-760282fa4ea5"
   },
   "outputs": [
    {
     "data": {
      "text/plain": [
       "-0.14055928229964268"
      ]
     },
     "execution_count": 60,
     "metadata": {
      "tags": []
     },
     "output_type": "execute_result"
    }
   ],
   "source": [
    "grid.best_score_"
   ]
  },
  {
   "cell_type": "code",
   "execution_count": 0,
   "metadata": {
    "colab": {
     "base_uri": "https://localhost:8080/",
     "height": 36
    },
    "colab_type": "code",
    "id": "tkLbxwZ6X6RG",
    "outputId": "93496850-61f2-4741-cb98-238a3e4075cb"
   },
   "outputs": [
    {
     "name": "stdout",
     "output_type": "stream",
     "text": [
      "0.374912366159937\n"
     ]
    }
   ],
   "source": [
    "rmse = np.sqrt(-grid.best_score_)\n",
    "print(rmse)"
   ]
  },
  {
   "cell_type": "code",
   "execution_count": 0,
   "metadata": {
    "colab": {
     "base_uri": "https://localhost:8080/",
     "height": 36
    },
    "colab_type": "code",
    "id": "emFoCRL3WrMI",
    "outputId": "ef4628c5-928d-4994-fad4-07a13925e162"
   },
   "outputs": [
    {
     "data": {
      "text/plain": [
       "{'alpha': 0.3}"
      ]
     },
     "execution_count": 62,
     "metadata": {
      "tags": []
     },
     "output_type": "execute_result"
    }
   ],
   "source": [
    "grid.best_params_"
   ]
  },
  {
   "cell_type": "code",
   "execution_count": 0,
   "metadata": {
    "colab": {
     "base_uri": "https://localhost:8080/",
     "height": 168
    },
    "colab_type": "code",
    "id": "X6RQDE_-XeHe",
    "outputId": "d9fd1c10-7b02-4756-d564-c3868a2478ba"
   },
   "outputs": [
    {
     "data": {
      "text/plain": [
       "GridSearchCV(cv=7, error_score='raise',\n",
       "       estimator=Lasso(alpha=1.0, copy_X=True, fit_intercept=True, max_iter=1000,\n",
       "   normalize=False, positive=False, precompute=False, random_state=1,\n",
       "   selection='cyclic', tol=0.0001, warm_start=False),\n",
       "       fit_params=None, iid=True, n_jobs=1,\n",
       "       param_grid={'alpha': [0.001, 0.0001], 'max_iter': [600, 700]},\n",
       "       pre_dispatch='2*n_jobs', refit=True, return_train_score='warn',\n",
       "       scoring='neg_mean_squared_error', verbose=0)"
      ]
     },
     "execution_count": 63,
     "metadata": {
      "tags": []
     },
     "output_type": "execute_result"
    }
   ],
   "source": [
    "model = linear_model.Lasso(random_state = 1)\n",
    "\n",
    "param_grid = {\n",
    "\"alpha\" : [0.001 , 0.0001] ,\n",
    "\"max_iter\" : [600 , 700]\n",
    "}\n",
    "grid = GridSearchCV( model , param_grid , cv = 7 , scoring = \"neg_mean_squared_error\")\n",
    "grid.fit(X,y)"
   ]
  },
  {
   "cell_type": "code",
   "execution_count": 0,
   "metadata": {
    "colab": {
     "base_uri": "https://localhost:8080/",
     "height": 36
    },
    "colab_type": "code",
    "id": "coJHWkYPbq7C",
    "outputId": "15a7222f-ec2f-463d-fe7d-8b1ae9f50f75"
   },
   "outputs": [
    {
     "data": {
      "text/plain": [
       "-0.14029851746942404"
      ]
     },
     "execution_count": 64,
     "metadata": {
      "tags": []
     },
     "output_type": "execute_result"
    }
   ],
   "source": [
    "grid.best_score_"
   ]
  },
  {
   "cell_type": "code",
   "execution_count": 0,
   "metadata": {
    "colab": {
     "base_uri": "https://localhost:8080/",
     "height": 36
    },
    "colab_type": "code",
    "id": "_xsnda4hb4M-",
    "outputId": "1a67e0c5-84b0-428a-c95b-49c8547e4c1f"
   },
   "outputs": [
    {
     "name": "stdout",
     "output_type": "stream",
     "text": [
      "0.3745644370057361\n"
     ]
    }
   ],
   "source": [
    "rmse = np.sqrt(-grid.best_score_)\n",
    "print(rmse)"
   ]
  },
  {
   "cell_type": "code",
   "execution_count": 0,
   "metadata": {
    "colab": {
     "base_uri": "https://localhost:8080/",
     "height": 36
    },
    "colab_type": "code",
    "id": "dmvLJjjPb7uU",
    "outputId": "32420e0f-e9f7-4e17-d613-c7e3c2b90b3b"
   },
   "outputs": [
    {
     "data": {
      "text/plain": [
       "{'alpha': 0.001, 'max_iter': 600}"
      ]
     },
     "execution_count": 66,
     "metadata": {
      "tags": []
     },
     "output_type": "execute_result"
    }
   ],
   "source": [
    "grid.best_params_"
   ]
  },
  {
   "cell_type": "code",
   "execution_count": 0,
   "metadata": {
    "colab": {},
    "colab_type": "code",
    "id": "sFXoInULHFHu"
   },
   "outputs": [],
   "source": [
    "from sklearn import tree\n",
    "clf = tree.DecisionTreeRegressor()\n",
    "clf.fit(X_train , y_train)\n",
    "pred = clf.predict(X_val)"
   ]
  },
  {
   "cell_type": "code",
   "execution_count": 0,
   "metadata": {
    "colab": {
     "base_uri": "https://localhost:8080/",
     "height": 36
    },
    "colab_type": "code",
    "id": "jYjsV6WEIrg4",
    "outputId": "2d866a63-67ef-4d01-8064-491b44b0c43d"
   },
   "outputs": [
    {
     "name": "stdout",
     "output_type": "stream",
     "text": [
      "0.1816812533849651\n"
     ]
    }
   ],
   "source": [
    "rmse = np.sqrt(mean_squared_error(y_val,pred))\n",
    "print(rmse)"
   ]
  },
  {
   "cell_type": "markdown",
   "metadata": {
    "colab_type": "text",
    "id": "j1n4yo2jQA8Q"
   },
   "source": [
    "### 集成模型"
   ]
  },
  {
   "cell_type": "code",
   "execution_count": 0,
   "metadata": {
    "colab": {},
    "colab_type": "code",
    "id": "nTGHtx0LRJeA"
   },
   "outputs": [],
   "source": [
    "rf = RandomForestRegressor(n_estimators=100,max_depth=15)\n",
    "\n",
    "rf.fit(X_train,y_train)\n",
    "\n",
    "rf_pred = rf.predict(X_val)"
   ]
  },
  {
   "cell_type": "code",
   "execution_count": 0,
   "metadata": {
    "colab": {
     "base_uri": "https://localhost:8080/",
     "height": 36
    },
    "colab_type": "code",
    "id": "i-zBzvCAWf_C",
    "outputId": "7e0bfbb8-71bf-4ea1-e3ae-4d43cea1e992"
   },
   "outputs": [
    {
     "data": {
      "text/plain": [
       "0.2369510410778777"
      ]
     },
     "execution_count": 77,
     "metadata": {
      "tags": []
     },
     "output_type": "execute_result"
    }
   ],
   "source": [
    "rmse_rf = np.sqrt(mean_squared_error(y_val,rf_pred))\n",
    "rmse_rf"
   ]
  },
  {
   "cell_type": "markdown",
   "metadata": {
    "colab_type": "text",
    "id": "BHRkDgcQj12g"
   },
   "source": [
    "### Xgboost预估"
   ]
  },
  {
   "cell_type": "code",
   "execution_count": 0,
   "metadata": {
    "colab": {
     "base_uri": "https://localhost:8080/",
     "height": 36
    },
    "colab_type": "code",
    "id": "GCg_4zLVX-7g",
    "outputId": "369f1060-961a-4cd8-93b8-e91307b9e639"
   },
   "outputs": [
    {
     "data": {
      "text/plain": [
       "0.10874770925687922"
      ]
     },
     "execution_count": 78,
     "metadata": {
      "tags": []
     },
     "output_type": "execute_result"
    }
   ],
   "source": [
    "from xgboost import XGBRegressor\n",
    "xgb = XGBRegressor(max_depth=15,n_jobs=4,n_estimators=120,subsample=0.7)\n",
    "xgb.fit(X_train,y_train)\n",
    "xg_pred = xgb.predict(X_val)\n",
    "rmse_xgb = np.sqrt(mean_squared_error(y_val,xg_pred))\n",
    "rmse_xgb"
   ]
  },
  {
   "cell_type": "markdown",
   "metadata": {},
   "source": [
    "### Xgboost交叉验证"
   ]
  },
  {
   "cell_type": "code",
   "execution_count": 0,
   "metadata": {
    "colab": {
     "base_uri": "https://localhost:8080/",
     "height": 36
    },
    "colab_type": "code",
    "id": "-nA_QZz_axQo",
    "outputId": "122bfcd8-25dc-4d8c-8dc6-f6b44ae7fd0a"
   },
   "outputs": [
    {
     "data": {
      "text/plain": [
       "array([0.20393952, 0.18654701, 0.12733057, 0.1883136 , 0.18449478])"
      ]
     },
     "execution_count": 79,
     "metadata": {
      "tags": []
     },
     "output_type": "execute_result"
    }
   ],
   "source": [
    "from sklearn.model_selection import cross_val_score\n",
    "from xgboost import XGBRegressor\n",
    "xgb = XGBRegressor(max_depth=15,n_jobs=4,n_estimators=120,subsample=0.7)\n",
    "scores = cross_val_score(xgb, X , y , cv=5)\n",
    "scores"
   ]
  },
  {
   "cell_type": "markdown",
   "metadata": {
    "colab_type": "text",
    "id": "f3wvSqvhoVsq"
   },
   "source": [
    "**在完整数据上训练和预估**"
   ]
  },
  {
   "cell_type": "code",
   "execution_count": 0,
   "metadata": {
    "colab": {
     "base_uri": "https://localhost:8080/",
     "height": 130
    },
    "colab_type": "code",
    "id": "3cWW21EVl6Z-",
    "outputId": "83e72daa-4782-44c9-fa94-577d7e6b18b5"
   },
   "outputs": [
    {
     "data": {
      "text/plain": [
       "XGBRegressor(base_score=0.5, booster='gbtree', colsample_bylevel=1,\n",
       "       colsample_bytree=1, gamma=0, learning_rate=0.1, max_delta_step=0,\n",
       "       max_depth=15, min_child_weight=1, missing=None, n_estimators=120,\n",
       "       n_jobs=4, nthread=None, objective='reg:linear', random_state=0,\n",
       "       reg_alpha=0, reg_lambda=1, scale_pos_weight=1, seed=None,\n",
       "       silent=True, subsample=0.7)"
      ]
     },
     "execution_count": 28,
     "metadata": {
      "tags": []
     },
     "output_type": "execute_result"
    }
   ],
   "source": [
    "from xgboost import XGBRegressor\n",
    "xgb_final = XGBRegressor(max_depth=15,n_jobs=4,n_estimators=120,subsample=0.7)\n",
    "xgb_final.fit(X,y)"
   ]
  },
  {
   "cell_type": "markdown",
   "metadata": {},
   "source": [
    "**特征重要度**"
   ]
  },
  {
   "cell_type": "code",
   "execution_count": 0,
   "metadata": {
    "colab": {
     "base_uri": "https://localhost:8080/",
     "height": 729
    },
    "colab_type": "code",
    "id": "8gpW3v1ddFgW",
    "outputId": "6c2f3dd8-e0e9-45bb-d9fe-3e21c55ffc6e"
   },
   "outputs": [
    {
     "data": {
      "image/png": "[encoded data removed]",
      "text/plain": [
       "<matplotlib.figure.Figure at 0x7f07c55c2f60>"
      ]
     },
     "metadata": {
      "tags": []
     },
     "output_type": "display_data"
    }
   ],
   "source": [
    "ranks = np.argsort(-xgb_final.feature_importances_)\n",
    "f, ax = plt.subplots(figsize=(15, 10))\n",
    "\n",
    "sns.barplot(x=xgb_final.feature_importances_[ranks], y=X_train.columns.values[ranks], orient='h')\n",
    "ax.set_xlabel(\"Importance Of Features\")\n",
    "plt.tight_layout()\n",
    "plt.show()"
   ]
  },
  {
   "cell_type": "code",
   "execution_count": 0,
   "metadata": {
    "colab": {},
    "colab_type": "code",
    "id": "8eJ96ujevIpq"
   },
   "outputs": [],
   "source": [
    "X_Test = X_test.copy()"
   ]
  },
  {
   "cell_type": "code",
   "execution_count": 0,
   "metadata": {
    "colab": {},
    "colab_type": "code",
    "id": "IH59onQQy2uQ"
   },
   "outputs": [],
   "source": [
    "a = X_test[\"year_2015\"]"
   ]
  },
  {
   "cell_type": "code",
   "execution_count": 0,
   "metadata": {
    "colab": {},
    "colab_type": "code",
    "id": "COeGverSy96W"
   },
   "outputs": [],
   "source": [
    "X_test.drop(\"year_2015\" , axis = 1 , inplace = True)"
   ]
  },
  {
   "cell_type": "code",
   "execution_count": 0,
   "metadata": {
    "colab": {},
    "colab_type": "code",
    "id": "eZge_JaVzL06"
   },
   "outputs": [],
   "source": [
    "X_test[\"year_2015\"] = a"
   ]
  },
  {
   "cell_type": "code",
   "execution_count": 0,
   "metadata": {
    "colab": {
     "base_uri": "https://localhost:8080/",
     "height": 130
    },
    "colab_type": "code",
    "id": "3UNE__pSzS_0",
    "outputId": "2a337c74-0a8f-4831-b1a4-e7f32cfd520e"
   },
   "outputs": [
    {
     "data": {
      "text/plain": [
       "Index(['DayOfWeek', 'Open', 'Promo', 'StateHoliday', 'SchoolHoliday',\n",
       "       'CompetitionDistance', 'CompetitionOpenSinceMonth', 'Promo2',\n",
       "       'Promo2SinceWeek', 'month', 'Day', 'StoreType_a', 'StoreType_b',\n",
       "       'StoreType_c', 'StoreType_d', 'Assortment_a', 'Assortment_b',\n",
       "       'Assortment_c', 'year_2013', 'year_2014', 'year_2015'],\n",
       "      dtype='object')"
      ]
     },
     "execution_count": 38,
     "metadata": {
      "tags": []
     },
     "output_type": "execute_result"
    }
   ],
   "source": [
    "X_test.columns"
   ]
  },
  {
   "cell_type": "code",
   "execution_count": 0,
   "metadata": {
    "colab": {},
    "colab_type": "code",
    "id": "GxTKaLGytuDu"
   },
   "outputs": [],
   "source": [
    "final_predictions = xgb_final.predict(X_test)"
   ]
  },
  {
   "cell_type": "code",
   "execution_count": 0,
   "metadata": {
    "colab": {},
    "colab_type": "code",
    "id": "oYgV8BKEobcI"
   },
   "outputs": [],
   "source": [
    "dic = {\n",
    "    'Id':test['Id'].astype(int),\n",
    "    'Sales': np.exp(final_predictions)\n",
    "}\n",
    "\n",
    "xgb_sub = pd.DataFrame(dic ,columns=['Id','Sales'])"
   ]
  },
  {
   "cell_type": "code",
   "execution_count": 0,
   "metadata": {
    "colab": {
     "base_uri": "https://localhost:8080/",
     "height": 206
    },
    "colab_type": "code",
    "id": "VE4eWtQf0OGu",
    "outputId": "93d099d6-e5e4-46aa-9543-51df26c9a25a"
   },
   "outputs": [
    {
     "data": {
      "text/html": [
       "<div>\n",
       "<style scoped>\n",
       "    .dataframe tbody tr th:only-of-type {\n",
       "        vertical-align: middle;\n",
       "    }\n",
       "\n",
       "    .dataframe tbody tr th {\n",
       "        vertical-align: top;\n",
       "    }\n",
       "\n",
       "    .dataframe thead th {\n",
       "        text-align: right;\n",
       "    }\n",
       "</style>\n",
       "<table border=\"1\" class=\"dataframe\">\n",
       "  <thead>\n",
       "    <tr style=\"text-align: right;\">\n",
       "      <th></th>\n",
       "      <th>Id</th>\n",
       "      <th>Sales</th>\n",
       "    </tr>\n",
       "  </thead>\n",
       "  <tbody>\n",
       "    <tr>\n",
       "      <th>0</th>\n",
       "      <td>1</td>\n",
       "      <td>5929.072266</td>\n",
       "    </tr>\n",
       "    <tr>\n",
       "      <th>1</th>\n",
       "      <td>857</td>\n",
       "      <td>6238.463379</td>\n",
       "    </tr>\n",
       "    <tr>\n",
       "      <th>2</th>\n",
       "      <td>1713</td>\n",
       "      <td>6792.575684</td>\n",
       "    </tr>\n",
       "    <tr>\n",
       "      <th>3</th>\n",
       "      <td>2569</td>\n",
       "      <td>7864.563477</td>\n",
       "    </tr>\n",
       "    <tr>\n",
       "      <th>4</th>\n",
       "      <td>3425</td>\n",
       "      <td>5942.227539</td>\n",
       "    </tr>\n",
       "  </tbody>\n",
       "</table>\n",
       "</div>"
      ],
      "text/plain": [
       "     Id        Sales\n",
       "0     1  5929.072266\n",
       "1   857  6238.463379\n",
       "2  1713  6792.575684\n",
       "3  2569  7864.563477\n",
       "4  3425  5942.227539"
      ]
     },
     "execution_count": 42,
     "metadata": {
      "tags": []
     },
     "output_type": "execute_result"
    }
   ],
   "source": [
    "xgb_sub.head()"
   ]
  },
  {
   "cell_type": "code",
   "execution_count": 0,
   "metadata": {
    "colab": {},
    "colab_type": "code",
    "id": "_tvupYFKzu8y"
   },
   "outputs": [],
   "source": [
    "result = xgb_sub.sort_values(by='Id',ascending=True)\n",
    "result.to_csv('result.csv',index=False)"
   ]
  },
  {
   "cell_type": "code",
   "execution_count": 0,
   "metadata": {
    "colab": {
     "base_uri": "https://localhost:8080/",
     "height": 206
    },
    "colab_type": "code",
    "id": "8PftdHZB0VYE",
    "outputId": "c89c3c63-e3c4-482f-e423-78fb9f150f2d"
   },
   "outputs": [
    {
     "data": {
      "text/html": [
       "<div>\n",
       "<style scoped>\n",
       "    .dataframe tbody tr th:only-of-type {\n",
       "        vertical-align: middle;\n",
       "    }\n",
       "\n",
       "    .dataframe tbody tr th {\n",
       "        vertical-align: top;\n",
       "    }\n",
       "\n",
       "    .dataframe thead th {\n",
       "        text-align: right;\n",
       "    }\n",
       "</style>\n",
       "<table border=\"1\" class=\"dataframe\">\n",
       "  <thead>\n",
       "    <tr style=\"text-align: right;\">\n",
       "      <th></th>\n",
       "      <th>Id</th>\n",
       "      <th>Sales</th>\n",
       "    </tr>\n",
       "  </thead>\n",
       "  <tbody>\n",
       "    <tr>\n",
       "      <th>0</th>\n",
       "      <td>1</td>\n",
       "      <td>5929.072266</td>\n",
       "    </tr>\n",
       "    <tr>\n",
       "      <th>48</th>\n",
       "      <td>2</td>\n",
       "      <td>7433.999512</td>\n",
       "    </tr>\n",
       "    <tr>\n",
       "      <th>96</th>\n",
       "      <td>3</td>\n",
       "      <td>9117.695312</td>\n",
       "    </tr>\n",
       "    <tr>\n",
       "      <th>144</th>\n",
       "      <td>4</td>\n",
       "      <td>6707.481934</td>\n",
       "    </tr>\n",
       "    <tr>\n",
       "      <th>192</th>\n",
       "      <td>5</td>\n",
       "      <td>7239.656738</td>\n",
       "    </tr>\n",
       "  </tbody>\n",
       "</table>\n",
       "</div>"
      ],
      "text/plain": [
       "     Id        Sales\n",
       "0     1  5929.072266\n",
       "48    2  7433.999512\n",
       "96    3  9117.695312\n",
       "144   4  6707.481934\n",
       "192   5  7239.656738"
      ]
     },
     "execution_count": 44,
     "metadata": {
      "tags": []
     },
     "output_type": "execute_result"
    }
   ],
   "source": [
    "result.head()"
   ]
  },
  {
   "cell_type": "code",
   "execution_count": 0,
   "metadata": {
    "colab": {},
    "colab_type": "code",
    "id": "cx4OyQjM26n6"
   },
   "outputs": [],
   "source": [
    "from google.colab import files\n",
    "files.download('result.csv')"
   ]
  }
 ],
 "metadata": {
  "accelerator": "GPU",
  "colab": {
   "collapsed_sections": [],
   "name": "Rossmann_Store_Sales.ipynb",
   "provenance": [],
   "version": "0.3.2"
  },
  "kernelspec": {
   "display_name": "Python 3",
   "language": "python",
   "name": "python3"
  },
  "language_info": {
   "codemirror_mode": {
    "name": "ipython",
    "version": 3
   },
   "file_extension": ".py",
   "mimetype": "text/x-python",
   "name": "python",
   "nbconvert_exporter": "python",
   "pygments_lexer": "ipython3",
   "version": "3.6.1"
  },
  "toc": {
   "base_numbering": 1,
   "nav_menu": {},
   "number_sections": true,
   "sideBar": true,
   "skip_h1_title": false,
   "title_cell": "Table of Contents",
   "title_sidebar": "Contents",
   "toc_cell": false,
   "toc_position": {},
   "toc_section_display": true,
   "toc_window_display": true
  }
 },
 "nbformat": 4,
 "nbformat_minor": 1
}
