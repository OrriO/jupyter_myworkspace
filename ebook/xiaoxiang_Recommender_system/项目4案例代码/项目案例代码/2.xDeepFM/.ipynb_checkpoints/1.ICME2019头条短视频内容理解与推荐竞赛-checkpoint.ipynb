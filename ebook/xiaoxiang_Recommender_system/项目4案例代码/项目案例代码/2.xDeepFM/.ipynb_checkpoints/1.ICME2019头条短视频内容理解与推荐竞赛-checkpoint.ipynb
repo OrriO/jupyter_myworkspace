{
 "cells": [
  {
   "cell_type": "markdown",
   "metadata": {},
   "source": [
    "## **背景介绍**\n",
    "\n",
    "近年来，机器学习在图像识别、语音识别等领域取得了重大进步，但在视频内容理解领域仍有许多问题需要探索。字节跳动公司旗下的TikTok（抖音海外版）短视频APP在全球范围内的用户中获得非常多的好评，短视频的内容理解与推荐技术成为了我们关注的焦点。\n",
    "\n",
    "一图胜千言，仅一张图片就包含大量信息，难以用几个词来描述，更何况是短视频这种富媒体形态。面对短视频内容理解的难题，字节跳动作为一家拥有海量短视频素材和上亿级用户行为数据的公司，通过视频内容特征和用户行为数据，可以有充足的数据来预测用户对短视频的喜好。\n",
    "\n",
    "本次竞赛提供多模态的短视频内容特征，包括视觉特征、文本特征和音频特征，同时提供了脱敏后的用户点击、喜爱、关注等交互行为数据。参赛者需要通过一个视频及用户交互行为数据集对用户兴趣进行建模，然后预测该用户在另一视频数据集上的点击行为。\n",
    "\n",
    "竞赛最终根据参赛者提交的模型和预测结果，依据评分进行排名，具体见评估准则。\n",
    "\n",
    "## **竞赛任务**\n",
    "\n",
    "通过构建深度学习模型，预测测试数据中每个用户id在对应作品id上是否浏览完作品和是否对作品点赞的概率加权结果。 本次比赛使用 AUC（ROC曲线下面积）作为评估指标。AUC 越高，代表结果越优，排名越靠前。\n",
    "\n",
    "**赛道1**\n",
    "\n",
    "大规模数据集，亿级别的数据信息。\n",
    "\n",
    "**赛道2**\n",
    "\n",
    "小规模数据集，千万级别的数据信息。"
   ]
  },
  {
   "cell_type": "markdown",
   "metadata": {},
   "source": [
    "## 数据"
   ]
  },
  {
   "cell_type": "markdown",
   "metadata": {},
   "source": [
    "![](./img/bytedance_data.png)\n",
    "\n",
    "### 交互数据\n",
    "|**`uid`**|**`user_city`**|**`item_id`**|**`author_id`**|**`item_city`**|**`channel`**|**`finish`**|**`like`**|**`music_id`**|**`did`**|**`creat_time`**|**`video_duration`**|\n",
    "\n",
    "对应文件: \n",
    "- **final_track2_train.txt **\n",
    "- **final_track1_train.txt** \n",
    "\n",
    "### nlp特征\n",
    "** 获取方式:视频标题 -> 去除数字，字母特殊字符，-> jieba 分词 -> 脱敏 成 数字 **\n",
    "\n",
    "示例: \n",
    "\n",
    "{\"item_id\": 4036886, \"title_features\": {\"a\": b}}\n",
    " a 是 word id, b 是改 word id 在该句子中出现的次数\n",
    "{\"item_id\": 4036886, \"title_features\": {\"1\": 1, \"2\": 1, \"3\": 1, \"4\": 1, \"5\": 1, \"6\": 1}} \n",
    " \n",
    "对应文件:\n",
    "- **track2_title.txt **\n",
    "- **track1_title.txt** \n",
    "\n",
    "### 视觉特征:\n",
    "示例:{\"item_id\": 11274473, \"video_feature_dim_128\": [0, 128]} \n",
    "\n",
    "对应文件: \n",
    "- **track2_video_features.txt **\n",
    "- **track1_video_features_part[1-11].txt** \n",
    "\n",
    "### 人脸特征\n",
    "示例:{\"item_id\": 6603879, \"face_attrs\": [{\"gender\": 0, \"beauty\": 0.53, \"relative_position\": [0.4306, 0.3203, 0.3333, 0.2969]}]}\n",
    "\n",
    "- 性别，0，女，1，男\n",
    "- 相对位置: 依次为左上角 相对于 视频宽高位置，以及 人脸框的宽高相对于视频宽 高位置\n",
    "\n",
    "对应文件:\n",
    "- **track2_face_attrs.txt **\n",
    "- **track1_face_attrs.txt** \n",
    "\n",
    "### 音频特征\n",
    "128 维特征数据 \n",
    "\n",
    "对应文件:\n",
    "- **track1_audio_features_part[1-4].txt **\n",
    "- **track2_audio_features.txt** \n",
    "\n",
    "### 字段说明 \n",
    "\n",
    "| 字段          | 字段描述                                      | 数据类型 | 备注             |\n",
    "| ------------- | --------------------------------------------- | -------- | ---------------- |\n",
    "| uid           | 用户 id                                       | int      | 已脱敏           |\n",
    "| user_city     | 用户所在城市                                  | int      | 已脱敏           |\n",
    "| item_id       | 作品 id                                       | int      | 已脱敏           |\n",
    "| author_id     | 作者 id                                       | int      | 已脱敏           |\n",
    "| item_city     | 作品城市                                      | int      | 已脱敏           |\n",
    "| channel       | 观看到该作品的来源                            | int      | 已脱敏           |\n",
    "| finish        | 是否浏览完作品                                | bool     |                  |\n",
    "| like          | 是否对作品点赞                                | bool     |                  |\n",
    "| music_id      | 音乐 id                                       | int      | 已脱敏           |\n",
    "| device        | 设备 id                                       | int      | 已脱敏           |\n",
    "| time          | track1:作品观看的起始时间 track2:作品发布时间 | int      | 已脱敏，单 位:秒 |\n",
    "| duration_time | 作品时长                                      | int      | 单位:秒          |"
   ]
  },
  {
   "cell_type": "markdown",
   "metadata": {},
   "source": [
    "## 提交结果"
   ]
  },
  {
   "cell_type": "markdown",
   "metadata": {},
   "source": [
    "每支队伍在参赛期间可随时提交测试集的预测结果，测试集结果为一个csv文件，字段如下：\n",
    "![](./img/submissions.png)"
   ]
  },
  {
   "cell_type": "markdown",
   "metadata": {},
   "source": [
    "## 评估指标"
   ]
  },
  {
   "cell_type": "markdown",
   "metadata": {},
   "source": [
    "预测测试数据中每一条数据的点击（finish+like）概率。本次比赛使用 AUC（ROC曲线下面积）作为评估指标。AUC的定义和计算方法可参考维基百科。AUC越高，代表结果越优，排名越靠前。在总分中，finish 和 like的分配比例是：0.7*finish+0.3*like。  "
   ]
  }
 ],
 "metadata": {
  "kernelspec": {
   "display_name": "Python 3",
   "language": "python",
   "name": "python3"
  },
  "language_info": {
   "codemirror_mode": {
    "name": "ipython",
    "version": 3
   },
   "file_extension": ".py",
   "mimetype": "text/x-python",
   "name": "python",
   "nbconvert_exporter": "python",
   "pygments_lexer": "ipython3",
   "version": "3.6.1"
  },
  "toc": {
   "base_numbering": 1,
   "nav_menu": {},
   "number_sections": true,
   "sideBar": true,
   "skip_h1_title": false,
   "title_cell": "Table of Contents",
   "title_sidebar": "Contents",
   "toc_cell": false,
   "toc_position": {},
   "toc_section_display": true,
   "toc_window_display": false
  }
 },
 "nbformat": 4,
 "nbformat_minor": 2
}
