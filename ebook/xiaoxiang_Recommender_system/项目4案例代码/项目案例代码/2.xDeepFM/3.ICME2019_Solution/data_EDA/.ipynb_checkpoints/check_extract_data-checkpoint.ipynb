{
 "cells": [
  {
   "cell_type": "code",
   "execution_count": 1,
   "metadata": {},
   "outputs": [],
   "source": [
    "import pandas as pd\n",
    "import numpy as np\n",
    "import json\n",
    "import ast\n",
    "import matplotlib.pyplot as plt\n",
    "%matplotlib inline"
   ]
  },
  {
   "cell_type": "code",
   "execution_count": 2,
   "metadata": {},
   "outputs": [],
   "source": [
    "title = []\n",
    "with open(\"../../data/track2/track2_title.txt\") as f:\n",
    "    for i in f:\n",
    "        # print (i)\n",
    "        a = ast.literal_eval(i)\n",
    "        # print (a)\n",
    "        title.append(a)"
   ]
  },
  {
   "cell_type": "code",
   "execution_count": 3,
   "metadata": {},
   "outputs": [
    {
     "data": {
      "text/plain": [
       "3114071"
      ]
     },
     "execution_count": 3,
     "metadata": {},
     "output_type": "execute_result"
    }
   ],
   "source": [
    "len(title)\n",
    "# 一共有310w个标题"
   ]
  },
  {
   "cell_type": "code",
   "execution_count": 4,
   "metadata": {},
   "outputs": [
    {
     "data": {
      "text/plain": [
       "[{'item_id': 4036886,\n",
       "  'title_features': {'1': 1, '2': 1, '3': 1, '4': 1, '5': 1, '6': 1}},\n",
       " {'item_id': 2893187, 'title_features': {'7': 1, '8': 1, '9': 1}},\n",
       " {'item_id': 338441,\n",
       "  'title_features': {'10': 1,\n",
       "   '11': 1,\n",
       "   '12': 1,\n",
       "   '13': 1,\n",
       "   '14': 1,\n",
       "   '15': 1,\n",
       "   '16': 1,\n",
       "   '17': 1,\n",
       "   '18': 1}},\n",
       " {'item_id': 1240180,\n",
       "  'title_features': {'19': 1, '20': 1, '21': 1, '22': 1, '23': 1, '24': 1}},\n",
       " {'item_id': 3284362,\n",
       "  'title_features': {'25': 1,\n",
       "   '26': 1,\n",
       "   '27': 1,\n",
       "   '28': 1,\n",
       "   '29': 1,\n",
       "   '30': 1,\n",
       "   '31': 1,\n",
       "   '32': 1,\n",
       "   '33': 1}},\n",
       " {'item_id': 1894024, 'title_features': {'34': 1, '35': 1}},\n",
       " {'item_id': 3351895,\n",
       "  'title_features': {'3': 1,\n",
       "   '36': 1,\n",
       "   '37': 1,\n",
       "   '38': 1,\n",
       "   '39': 1,\n",
       "   '4': 1,\n",
       "   '40': 1,\n",
       "   '41': 1,\n",
       "   '42': 1,\n",
       "   '43': 1,\n",
       "   '44': 1,\n",
       "   '45': 1,\n",
       "   '46': 1,\n",
       "   '47': 1}},\n",
       " {'item_id': 3076458, 'title_features': {'48': 1}},\n",
       " {'item_id': 1657802,\n",
       "  'title_features': {'4': 1,\n",
       "   '49': 1,\n",
       "   '50': 1,\n",
       "   '51': 2,\n",
       "   '52': 1,\n",
       "   '53': 1,\n",
       "   '54': 1,\n",
       "   '55': 1,\n",
       "   '56': 1,\n",
       "   '57': 1,\n",
       "   '58': 1}},\n",
       " {'item_id': 318399,\n",
       "  'title_features': {'3': 1, '4': 1, '59': 1, '60': 1, '61': 1, '62': 1}}]"
      ]
     },
     "execution_count": 4,
     "metadata": {},
     "output_type": "execute_result"
    }
   ],
   "source": [
    "title[:10]"
   ]
  },
  {
   "cell_type": "code",
   "execution_count": 5,
   "metadata": {},
   "outputs": [],
   "source": [
    "l = []\n",
    "for i in title:\n",
    "    l.append(sum(i[\"title_features\"].values()) )"
   ]
  },
  {
   "cell_type": "code",
   "execution_count": 6,
   "metadata": {},
   "outputs": [],
   "source": [
    "a = pd.Series(l)"
   ]
  },
  {
   "cell_type": "code",
   "execution_count": 18,
   "metadata": {},
   "outputs": [
    {
     "data": {
      "text/plain": [
       "Text(0.5,1,'title length distribution')"
      ]
     },
     "execution_count": 18,
     "metadata": {},
     "output_type": "execute_result"
    },
    {
     "data": {
      "image/png": "[encoded data removed]",
      "text/plain": [
       "<matplotlib.figure.Figure at 0x1ddb363c8>"
      ]
     },
     "metadata": {},
     "output_type": "display_data"
    }
   ],
   "source": [
    "plt.figure(figsize=(20,10))\n",
    "a.value_counts().sort_values(ascending=False).plot(kind=\"bar\")\n",
    "plt.xlabel(\"length of title\")\n",
    "plt.ylabel(\"frequenty\")\n",
    "plt.title(\"title length distribution\")"
   ]
  },
  {
   "cell_type": "code",
   "execution_count": 8,
   "metadata": {},
   "outputs": [
    {
     "data": {
      "text/plain": [
       "7.612910559842727"
      ]
     },
     "execution_count": 8,
     "metadata": {},
     "output_type": "execute_result"
    }
   ],
   "source": [
    "np.mean(l)"
   ]
  },
  {
   "cell_type": "markdown",
   "metadata": {},
   "source": [
    "## 查看是否有id=0的字"
   ]
  },
  {
   "cell_type": "code",
   "execution_count": 35,
   "metadata": {},
   "outputs": [],
   "source": [
    "c = set()\n",
    "for i in title:\n",
    "    for j in i[\"title_features\"].keys():\n",
    "        if j =='0':\n",
    "            print (i)\n",
    "        c.add(j)"
   ]
  },
  {
   "cell_type": "markdown",
   "metadata": {},
   "source": [
    "非常好，没有id为0的title字"
   ]
  },
  {
   "cell_type": "code",
   "execution_count": 32,
   "metadata": {},
   "outputs": [
    {
     "data": {
      "text/plain": [
       "134544"
      ]
     },
     "execution_count": 32,
     "metadata": {},
     "output_type": "execute_result"
    }
   ],
   "source": [
    "len(c)"
   ]
  },
  {
   "cell_type": "markdown",
   "metadata": {},
   "source": [
    "字的种类有13w种"
   ]
  },
  {
   "cell_type": "markdown",
   "metadata": {},
   "source": [
    "## 标题长度与finish & like的关系"
   ]
  },
  {
   "cell_type": "code",
   "execution_count": 20,
   "metadata": {},
   "outputs": [],
   "source": [
    "item = []\n",
    "for i in title:\n",
    "    item.append([i[\"item_id\"], sum(i[\"title_features\"].values())] )\n",
    "    "
   ]
  },
  {
   "cell_type": "code",
   "execution_count": 22,
   "metadata": {},
   "outputs": [],
   "source": [
    "item_data = pd.DataFrame(item, columns=[\"item_id\", \"item_length\"])"
   ]
  },
  {
   "cell_type": "code",
   "execution_count": 23,
   "metadata": {},
   "outputs": [
    {
     "data": {
      "text/html": [
       "<div>\n",
       "<style scoped>\n",
       "    .dataframe tbody tr th:only-of-type {\n",
       "        vertical-align: middle;\n",
       "    }\n",
       "\n",
       "    .dataframe tbody tr th {\n",
       "        vertical-align: top;\n",
       "    }\n",
       "\n",
       "    .dataframe thead th {\n",
       "        text-align: right;\n",
       "    }\n",
       "</style>\n",
       "<table border=\"1\" class=\"dataframe\">\n",
       "  <thead>\n",
       "    <tr style=\"text-align: right;\">\n",
       "      <th></th>\n",
       "      <th>item_id</th>\n",
       "      <th>item_length</th>\n",
       "    </tr>\n",
       "  </thead>\n",
       "  <tbody>\n",
       "    <tr>\n",
       "      <th>0</th>\n",
       "      <td>4036886</td>\n",
       "      <td>6</td>\n",
       "    </tr>\n",
       "    <tr>\n",
       "      <th>1</th>\n",
       "      <td>2893187</td>\n",
       "      <td>3</td>\n",
       "    </tr>\n",
       "    <tr>\n",
       "      <th>2</th>\n",
       "      <td>338441</td>\n",
       "      <td>9</td>\n",
       "    </tr>\n",
       "    <tr>\n",
       "      <th>3</th>\n",
       "      <td>1240180</td>\n",
       "      <td>6</td>\n",
       "    </tr>\n",
       "    <tr>\n",
       "      <th>4</th>\n",
       "      <td>3284362</td>\n",
       "      <td>9</td>\n",
       "    </tr>\n",
       "  </tbody>\n",
       "</table>\n",
       "</div>"
      ],
      "text/plain": [
       "   item_id  item_length\n",
       "0  4036886            6\n",
       "1  2893187            3\n",
       "2   338441            9\n",
       "3  1240180            6\n",
       "4  3284362            9"
      ]
     },
     "execution_count": 23,
     "metadata": {},
     "output_type": "execute_result"
    }
   ],
   "source": [
    "item_data.head()"
   ]
  },
  {
   "cell_type": "code",
   "execution_count": 24,
   "metadata": {},
   "outputs": [
    {
     "data": {
      "text/plain": [
       "3114071"
      ]
     },
     "execution_count": 24,
     "metadata": {},
     "output_type": "execute_result"
    }
   ],
   "source": [
    "item_data.item_id.nunique()\n",
    "# item_id是唯一的，可以进行merge"
   ]
  },
  {
   "cell_type": "code",
   "execution_count": 26,
   "metadata": {},
   "outputs": [],
   "source": [
    "new_item_data = data.merge(item_data, on=\"item_id\", how=\"left\")"
   ]
  },
  {
   "cell_type": "code",
   "execution_count": 31,
   "metadata": {},
   "outputs": [],
   "source": [
    "new_item_data = new_item_data[new_item_data.item_length.notnull()][[\"item_id\", \"item_length\", \"finish\", \"like\"]]"
   ]
  },
  {
   "cell_type": "code",
   "execution_count": 36,
   "metadata": {},
   "outputs": [
    {
     "data": {
      "text/plain": [
       "Text(0.5,1,'like vs title length')"
      ]
     },
     "execution_count": 36,
     "metadata": {},
     "output_type": "execute_result"
    },
    {
     "data": {
      "image/png": "[encoded data removed]",
      "text/plain": [
       "<matplotlib.figure.Figure at 0x1f4ea0278>"
      ]
     },
     "metadata": {},
     "output_type": "display_data"
    }
   ],
   "source": [
    "plt.figure(figsize=(20,10))\n",
    "new_item_data.groupby(\"item_length\")[\"like\"].mean().plot(\"bar\")\n",
    "plt.ylabel(\"like prob\")\n",
    "plt.title(\"like vs title length\")"
   ]
  },
  {
   "cell_type": "code",
   "execution_count": 37,
   "metadata": {},
   "outputs": [
    {
     "data": {
      "text/plain": [
       "Text(0.5,1,'finish vs title length')"
      ]
     },
     "execution_count": 37,
     "metadata": {},
     "output_type": "execute_result"
    },
    {
     "data": {
      "image/png": "[encoded data removed]",
      "text/plain": [
       "<matplotlib.figure.Figure at 0x1e673ce80>"
      ]
     },
     "metadata": {},
     "output_type": "display_data"
    }
   ],
   "source": [
    "plt.figure(figsize=(20,10))\n",
    "new_item_data.groupby(\"item_length\")[\"finish\"].mean().plot(\"bar\")\n",
    "plt.ylabel(\"finish prob\")\n",
    "plt.title(\"finish vs title length\")"
   ]
  },
  {
   "cell_type": "code",
   "execution_count": null,
   "metadata": {},
   "outputs": [],
   "source": []
  },
  {
   "cell_type": "code",
   "execution_count": null,
   "metadata": {},
   "outputs": [],
   "source": []
  },
  {
   "cell_type": "code",
   "execution_count": 13,
   "metadata": {},
   "outputs": [],
   "source": [
    "data = np.zeros((len(title), 31))\n",
    "for i, v in enumerate(title):\n",
    "    data[i, 0] = v[\"item_id\"]\n",
    "    c = 1\n",
    "    for j in v[\"title_features\"].keys():\n",
    "        if c > 30:\n",
    "            break\n",
    "        for z in range(v[\"title_features\"][j]): \n",
    "            if c > 30:\n",
    "                break\n",
    "            data[i, c] = int(j)\n",
    "            c += 1"
   ]
  },
  {
   "cell_type": "code",
   "execution_count": 14,
   "metadata": {},
   "outputs": [
    {
     "data": {
      "text/plain": [
       "array([4.036886e+06, 1.000000e+00, 2.000000e+00, 3.000000e+00,\n",
       "       4.000000e+00, 5.000000e+00, 6.000000e+00, 0.000000e+00,\n",
       "       0.000000e+00, 0.000000e+00, 0.000000e+00, 0.000000e+00,\n",
       "       0.000000e+00, 0.000000e+00, 0.000000e+00, 0.000000e+00,\n",
       "       0.000000e+00, 0.000000e+00, 0.000000e+00, 0.000000e+00,\n",
       "       0.000000e+00, 0.000000e+00, 0.000000e+00, 0.000000e+00,\n",
       "       0.000000e+00, 0.000000e+00, 0.000000e+00, 0.000000e+00,\n",
       "       0.000000e+00, 0.000000e+00, 0.000000e+00])"
      ]
     },
     "execution_count": 14,
     "metadata": {},
     "output_type": "execute_result"
    }
   ],
   "source": [
    "data[0]"
   ]
  },
  {
   "cell_type": "code",
   "execution_count": 15,
   "metadata": {},
   "outputs": [],
   "source": [
    "data2 = pd.read_csv(\"../../cache/track2/tmp/all_data.csv\")"
   ]
  },
  {
   "cell_type": "code",
   "execution_count": 16,
   "metadata": {},
   "outputs": [
    {
     "data": {
      "text/html": [
       "<div>\n",
       "<style scoped>\n",
       "    .dataframe tbody tr th:only-of-type {\n",
       "        vertical-align: middle;\n",
       "    }\n",
       "\n",
       "    .dataframe tbody tr th {\n",
       "        vertical-align: top;\n",
       "    }\n",
       "\n",
       "    .dataframe thead th {\n",
       "        text-align: right;\n",
       "    }\n",
       "</style>\n",
       "<table border=\"1\" class=\"dataframe\">\n",
       "  <thead>\n",
       "    <tr style=\"text-align: right;\">\n",
       "      <th></th>\n",
       "      <th>uid</th>\n",
       "      <th>user_city</th>\n",
       "      <th>item_id</th>\n",
       "      <th>author_id</th>\n",
       "      <th>item_city</th>\n",
       "      <th>channel</th>\n",
       "      <th>finish</th>\n",
       "      <th>like</th>\n",
       "      <th>music_id</th>\n",
       "      <th>device</th>\n",
       "      <th>create_time</th>\n",
       "      <th>duration_time</th>\n",
       "      <th>fl_00</th>\n",
       "      <th>fl_01</th>\n",
       "      <th>fl_11</th>\n",
       "      <th>fl_10</th>\n",
       "      <th>target</th>\n",
       "    </tr>\n",
       "  </thead>\n",
       "  <tbody>\n",
       "    <tr>\n",
       "      <th>0</th>\n",
       "      <td>57384</td>\n",
       "      <td>53</td>\n",
       "      <td>43192</td>\n",
       "      <td>142828</td>\n",
       "      <td>1</td>\n",
       "      <td>0</td>\n",
       "      <td>0</td>\n",
       "      <td>0</td>\n",
       "      <td>4514</td>\n",
       "      <td>34178</td>\n",
       "      <td>53085993699</td>\n",
       "      <td>39</td>\n",
       "      <td>0</td>\n",
       "      <td>0</td>\n",
       "      <td>0</td>\n",
       "      <td>0</td>\n",
       "      <td>0</td>\n",
       "    </tr>\n",
       "    <tr>\n",
       "      <th>1</th>\n",
       "      <td>3230</td>\n",
       "      <td>6</td>\n",
       "      <td>46822</td>\n",
       "      <td>231026</td>\n",
       "      <td>2</td>\n",
       "      <td>0</td>\n",
       "      <td>1</td>\n",
       "      <td>0</td>\n",
       "      <td>5331</td>\n",
       "      <td>24878</td>\n",
       "      <td>53086372896</td>\n",
       "      <td>16</td>\n",
       "      <td>0</td>\n",
       "      <td>0</td>\n",
       "      <td>0</td>\n",
       "      <td>3</td>\n",
       "      <td>3</td>\n",
       "    </tr>\n",
       "    <tr>\n",
       "      <th>2</th>\n",
       "      <td>1249</td>\n",
       "      <td>329</td>\n",
       "      <td>1209078</td>\n",
       "      <td>456220</td>\n",
       "      <td>3</td>\n",
       "      <td>0</td>\n",
       "      <td>0</td>\n",
       "      <td>0</td>\n",
       "      <td>39980</td>\n",
       "      <td>14274</td>\n",
       "      <td>53086458433</td>\n",
       "      <td>4</td>\n",
       "      <td>0</td>\n",
       "      <td>0</td>\n",
       "      <td>0</td>\n",
       "      <td>0</td>\n",
       "      <td>0</td>\n",
       "    </tr>\n",
       "    <tr>\n",
       "      <th>3</th>\n",
       "      <td>11928</td>\n",
       "      <td>9</td>\n",
       "      <td>1209079</td>\n",
       "      <td>456221</td>\n",
       "      <td>4</td>\n",
       "      <td>0</td>\n",
       "      <td>0</td>\n",
       "      <td>0</td>\n",
       "      <td>0</td>\n",
       "      <td>16649</td>\n",
       "      <td>53086463774</td>\n",
       "      <td>9</td>\n",
       "      <td>0</td>\n",
       "      <td>0</td>\n",
       "      <td>0</td>\n",
       "      <td>0</td>\n",
       "      <td>0</td>\n",
       "    </tr>\n",
       "    <tr>\n",
       "      <th>4</th>\n",
       "      <td>51266</td>\n",
       "      <td>90</td>\n",
       "      <td>1209080</td>\n",
       "      <td>126416</td>\n",
       "      <td>5</td>\n",
       "      <td>0</td>\n",
       "      <td>1</td>\n",
       "      <td>0</td>\n",
       "      <td>0</td>\n",
       "      <td>27090</td>\n",
       "      <td>53086432937</td>\n",
       "      <td>19</td>\n",
       "      <td>0</td>\n",
       "      <td>0</td>\n",
       "      <td>0</td>\n",
       "      <td>3</td>\n",
       "      <td>3</td>\n",
       "    </tr>\n",
       "  </tbody>\n",
       "</table>\n",
       "</div>"
      ],
      "text/plain": [
       "     uid  user_city  item_id  author_id  item_city  channel  finish  like  \\\n",
       "0  57384         53    43192     142828          1        0       0     0   \n",
       "1   3230          6    46822     231026          2        0       1     0   \n",
       "2   1249        329  1209078     456220          3        0       0     0   \n",
       "3  11928          9  1209079     456221          4        0       0     0   \n",
       "4  51266         90  1209080     126416          5        0       1     0   \n",
       "\n",
       "   music_id  device  create_time  duration_time  fl_00  fl_01  fl_11  fl_10  \\\n",
       "0      4514   34178  53085993699             39      0      0      0      0   \n",
       "1      5331   24878  53086372896             16      0      0      0      3   \n",
       "2     39980   14274  53086458433              4      0      0      0      0   \n",
       "3         0   16649  53086463774              9      0      0      0      0   \n",
       "4         0   27090  53086432937             19      0      0      0      3   \n",
       "\n",
       "   target  \n",
       "0       0  \n",
       "1       3  \n",
       "2       0  \n",
       "3       0  \n",
       "4       3  "
      ]
     },
     "execution_count": 16,
     "metadata": {},
     "output_type": "execute_result"
    }
   ],
   "source": [
    "data2.head()"
   ]
  },
  {
   "cell_type": "code",
   "execution_count": 18,
   "metadata": {},
   "outputs": [],
   "source": [
    "check = set(data2.item_id)"
   ]
  },
  {
   "cell_type": "code",
   "execution_count": 22,
   "metadata": {},
   "outputs": [],
   "source": [
    "c2 = set(data[:, 0].astype(int))"
   ]
  },
  {
   "cell_type": "code",
   "execution_count": 25,
   "metadata": {},
   "outputs": [
    {
     "data": {
      "text/plain": [
       "895587"
      ]
     },
     "execution_count": 25,
     "metadata": {},
     "output_type": "execute_result"
    }
   ],
   "source": [
    "len(check - c2)"
   ]
  },
  {
   "cell_type": "code",
   "execution_count": 26,
   "metadata": {},
   "outputs": [
    {
     "data": {
      "text/plain": [
       "3687156"
      ]
     },
     "execution_count": 26,
     "metadata": {},
     "output_type": "execute_result"
    }
   ],
   "source": [
    "len(check)"
   ]
  },
  {
   "cell_type": "code",
   "execution_count": 27,
   "metadata": {},
   "outputs": [
    {
     "data": {
      "text/plain": [
       "3114071"
      ]
     },
     "execution_count": 27,
     "metadata": {},
     "output_type": "execute_result"
    }
   ],
   "source": [
    "len(c2)"
   ]
  },
  {
   "cell_type": "code",
   "execution_count": 28,
   "metadata": {},
   "outputs": [],
   "source": [
    "face = pd.read_csv(\"../../cache/track2/tmp/track2_face_attrs_fill.csv\")"
   ]
  },
  {
   "cell_type": "code",
   "execution_count": 29,
   "metadata": {},
   "outputs": [
    {
     "data": {
      "text/plain": [
       "(4089623, 7)"
      ]
     },
     "execution_count": 29,
     "metadata": {},
     "output_type": "execute_result"
    }
   ],
   "source": [
    "face.shape"
   ]
  },
  {
   "cell_type": "code",
   "execution_count": 30,
   "metadata": {},
   "outputs": [
    {
     "data": {
      "text/html": [
       "<div>\n",
       "<style scoped>\n",
       "    .dataframe tbody tr th:only-of-type {\n",
       "        vertical-align: middle;\n",
       "    }\n",
       "\n",
       "    .dataframe tbody tr th {\n",
       "        vertical-align: top;\n",
       "    }\n",
       "\n",
       "    .dataframe thead th {\n",
       "        text-align: right;\n",
       "    }\n",
       "</style>\n",
       "<table border=\"1\" class=\"dataframe\">\n",
       "  <thead>\n",
       "    <tr style=\"text-align: right;\">\n",
       "      <th></th>\n",
       "      <th>item_id</th>\n",
       "      <th>male_perc</th>\n",
       "      <th>female_perc</th>\n",
       "      <th>faces</th>\n",
       "      <th>maleBeauty</th>\n",
       "      <th>femaleBeauty</th>\n",
       "      <th>faceSquare</th>\n",
       "    </tr>\n",
       "  </thead>\n",
       "  <tbody>\n",
       "    <tr>\n",
       "      <th>0</th>\n",
       "      <td>48318</td>\n",
       "      <td>0.0</td>\n",
       "      <td>0.0</td>\n",
       "      <td>0.0</td>\n",
       "      <td>0.525985</td>\n",
       "      <td>0.534846</td>\n",
       "      <td>0.000000</td>\n",
       "    </tr>\n",
       "    <tr>\n",
       "      <th>1</th>\n",
       "      <td>1192644</td>\n",
       "      <td>0.0</td>\n",
       "      <td>0.0</td>\n",
       "      <td>0.0</td>\n",
       "      <td>0.525985</td>\n",
       "      <td>0.534846</td>\n",
       "      <td>0.000000</td>\n",
       "    </tr>\n",
       "    <tr>\n",
       "      <th>2</th>\n",
       "      <td>1329871</td>\n",
       "      <td>1.0</td>\n",
       "      <td>0.0</td>\n",
       "      <td>1.0</td>\n",
       "      <td>0.600000</td>\n",
       "      <td>0.534846</td>\n",
       "      <td>0.311805</td>\n",
       "    </tr>\n",
       "    <tr>\n",
       "      <th>3</th>\n",
       "      <td>323042</td>\n",
       "      <td>0.0</td>\n",
       "      <td>0.0</td>\n",
       "      <td>0.0</td>\n",
       "      <td>0.525985</td>\n",
       "      <td>0.534846</td>\n",
       "      <td>0.000000</td>\n",
       "    </tr>\n",
       "    <tr>\n",
       "      <th>4</th>\n",
       "      <td>864967</td>\n",
       "      <td>1.0</td>\n",
       "      <td>0.0</td>\n",
       "      <td>1.0</td>\n",
       "      <td>0.410000</td>\n",
       "      <td>0.534846</td>\n",
       "      <td>0.004869</td>\n",
       "    </tr>\n",
       "  </tbody>\n",
       "</table>\n",
       "</div>"
      ],
      "text/plain": [
       "   item_id  male_perc  female_perc  faces  maleBeauty  femaleBeauty  \\\n",
       "0    48318        0.0          0.0    0.0    0.525985      0.534846   \n",
       "1  1192644        0.0          0.0    0.0    0.525985      0.534846   \n",
       "2  1329871        1.0          0.0    1.0    0.600000      0.534846   \n",
       "3   323042        0.0          0.0    0.0    0.525985      0.534846   \n",
       "4   864967        1.0          0.0    1.0    0.410000      0.534846   \n",
       "\n",
       "   faceSquare  \n",
       "0    0.000000  \n",
       "1    0.000000  \n",
       "2    0.311805  \n",
       "3    0.000000  \n",
       "4    0.004869  "
      ]
     },
     "execution_count": 30,
     "metadata": {},
     "output_type": "execute_result"
    }
   ],
   "source": [
    "face.head()"
   ]
  },
  {
   "cell_type": "code",
   "execution_count": 31,
   "metadata": {},
   "outputs": [],
   "source": [
    "face_id = set(face.item_id)"
   ]
  },
  {
   "cell_type": "code",
   "execution_count": 32,
   "metadata": {},
   "outputs": [
    {
     "data": {
      "text/plain": [
       "4089623"
      ]
     },
     "execution_count": 32,
     "metadata": {},
     "output_type": "execute_result"
    }
   ],
   "source": [
    "len(face_id)"
   ]
  },
  {
   "cell_type": "markdown",
   "metadata": {},
   "source": [
    "## 作品的平均时长"
   ]
  },
  {
   "cell_type": "code",
   "execution_count": 17,
   "metadata": {},
   "outputs": [],
   "source": [
    "data = pd.read_csv(\"../../cache/track2/tmp/all_data.csv\")"
   ]
  },
  {
   "cell_type": "code",
   "execution_count": null,
   "metadata": {},
   "outputs": [],
   "source": []
  }
 ],
 "metadata": {
  "kernelspec": {
   "display_name": "Python 3",
   "language": "python",
   "name": "python3"
  },
  "language_info": {
   "codemirror_mode": {
    "name": "ipython",
    "version": 3
   },
   "file_extension": ".py",
   "mimetype": "text/x-python",
   "name": "python",
   "nbconvert_exporter": "python",
   "pygments_lexer": "ipython3",
   "version": "3.6.4"
  }
 },
 "nbformat": 4,
 "nbformat_minor": 2
}
