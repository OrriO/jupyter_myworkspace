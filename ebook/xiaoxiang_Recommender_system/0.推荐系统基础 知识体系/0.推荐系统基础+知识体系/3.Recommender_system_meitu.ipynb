{
 "cells": [
  {
   "cell_type": "markdown",
   "metadata": {},
   "source": [
    "![](./img/chinahadoop.png)"
   ]
  },
  {
   "cell_type": "markdown",
   "metadata": {},
   "source": [
    "**原文地址：[个性化推荐系统实践应用](https://www.jiqizhixin.com/articles/2018-06-27-10)**"
   ]
  },
  {
   "cell_type": "markdown",
   "metadata": {},
   "source": [
    "![](./img/meitu/0001.jpg)\n",
    "![](./img/meitu/0002.jpg)\n",
    "![](./img/meitu/0003.jpg)\n",
    "![](./img/meitu/0004.jpg)\n",
    "![](./img/meitu/0005.jpg)\n",
    "![](./img/meitu/0006.jpg)\n",
    "![](./img/meitu/0007.jpg)\n",
    "![](./img/meitu/0008.jpg)\n",
    "![](./img/meitu/0009.jpg)\n",
    "![](./img/meitu/0010.jpg)\n",
    "![](./img/meitu/0011.jpg)\n",
    "![](./img/meitu/0012.jpg)\n",
    "![](./img/meitu/0013.jpg)\n",
    "![](./img/meitu/0014.jpg)"
   ]
  }
 ],
 "metadata": {
  "kernelspec": {
   "display_name": "Python 3",
   "language": "python",
   "name": "python3"
  },
  "language_info": {
   "codemirror_mode": {
    "name": "ipython",
    "version": 3
   },
   "file_extension": ".py",
   "mimetype": "text/x-python",
   "name": "python",
   "nbconvert_exporter": "python",
   "pygments_lexer": "ipython3",
   "version": "3.6.1"
  },
  "toc": {
   "base_numbering": 1,
   "nav_menu": {},
   "number_sections": true,
   "sideBar": true,
   "skip_h1_title": false,
   "title_cell": "Table of Contents",
   "title_sidebar": "Contents",
   "toc_cell": false,
   "toc_position": {},
   "toc_section_display": true,
   "toc_window_display": false
  }
 },
 "nbformat": 4,
 "nbformat_minor": 2
}
